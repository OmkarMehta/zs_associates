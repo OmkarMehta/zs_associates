{
  "nbformat": 4,
  "nbformat_minor": 0,
  "metadata": {
    "colab": {
      "name": "final.ipynb",
      "provenance": [],
      "collapsed_sections": [],
      "toc_visible": true
    },
    "kernelspec": {
      "name": "python3",
      "display_name": "Python 3"
    }
  },
  "cells": [
    {
      "cell_type": "code",
      "metadata": {
        "id": "zmdE-6kmSzxJ",
        "colab_type": "code",
        "colab": {}
      },
      "source": [
        "import pandas as pd\n",
        "import numpy as np\n",
        "from scipy.stats import mode\n"
      ],
      "execution_count": 0,
      "outputs": []
    },
    {
      "cell_type": "code",
      "metadata": {
        "id": "1EvqN9sJS7Yh",
        "colab_type": "code",
        "colab": {}
      },
      "source": [
        "pred1 = pd.read_csv(\"ml_prob.csv\", index_col=None)\n",
        "pred2 = np.argmax(np.load('fastai_prob.npy'), axis=1)\n",
        "pred3 = pd.read_csv(\"lstm_.csv\", index_col=None)\n",
        "pred4 = pd.read_csv(\"lstm_cnn.csv\", index_col=None)\n",
        "pred5 = pd.read_csv(\"lstm_cnn_glove.csv\", index_col=None)\n"
      ],
      "execution_count": 0,
      "outputs": []
    },
    {
      "cell_type": "code",
      "metadata": {
        "id": "oH1Errx5Tfgt",
        "colab_type": "code",
        "colab": {}
      },
      "source": [
        "final_ensemble = mode((pred1['Patient_Tag'], pred2, pred3['Patient_Tag'], pred4['Patient_Tag'], pred5['Patient_Tag']))[0][0]"
      ],
      "execution_count": 0,
      "outputs": []
    },
    {
      "cell_type": "code",
      "metadata": {
        "id": "XkFfX8bfTgjn",
        "colab_type": "code",
        "colab": {}
      },
      "source": [
        "submission = pd.DataFrame()\n",
        "submission['Index'] = pred1['Index']\n",
        "submission['Patient_Tag'] = final_ensemble\n",
        "submission.to_csv('ensemble_final.csv', index=None)\n",
        "print(submission['Patient_Tag'].value_counts())"
      ],
      "execution_count": 0,
      "outputs": []
    },
    {
      "cell_type": "markdown",
      "metadata": {
        "id": "Zi6TY0J5TMbj",
        "colab_type": "text"
      },
      "source": [
        "\n"
      ]
    }
  ]
}