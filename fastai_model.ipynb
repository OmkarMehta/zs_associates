{
  "nbformat": 4,
  "nbformat_minor": 0,
  "metadata": {
    "kernelspec": {
      "name": "python36",
      "display_name": "Python 3.6",
      "language": "python"
    },
    "language_info": {
      "mimetype": "text/x-python",
      "nbconvert_exporter": "python",
      "name": "python",
      "pygments_lexer": "ipython3",
      "version": "3.6.6",
      "file_extension": ".py",
      "codemirror_mode": {
        "version": 3,
        "name": "ipython"
      }
    },
    "colab": {
      "name": "fastai_model.ipynb",
      "provenance": [],
      "collapsed_sections": [],
      "toc_visible": true
    },
    "accelerator": "GPU"
  },
  "cells": [
    {
      "cell_type": "code",
      "metadata": {
        "trusted": true,
        "id": "vXTeLoyKb3r8",
        "colab_type": "code",
        "colab": {
          "base_uri": "https://localhost:8080/",
          "height": 683
        },
        "outputId": "030629f8-abc3-4c9b-bbca-59b48c78e61f"
      },
      "source": [
        "!pip install fastai"
      ],
      "execution_count": 1,
      "outputs": [
        {
          "output_type": "stream",
          "text": [
            "Requirement already satisfied: fastai in /usr/local/lib/python3.6/dist-packages (1.0.60)\n",
            "Requirement already satisfied: spacy>=2.0.18 in /usr/local/lib/python3.6/dist-packages (from fastai) (2.1.9)\n",
            "Requirement already satisfied: beautifulsoup4 in /usr/local/lib/python3.6/dist-packages (from fastai) (4.6.3)\n",
            "Requirement already satisfied: nvidia-ml-py3 in /usr/local/lib/python3.6/dist-packages (from fastai) (7.352.0)\n",
            "Requirement already satisfied: matplotlib in /usr/local/lib/python3.6/dist-packages (from fastai) (3.1.2)\n",
            "Requirement already satisfied: fastprogress>=0.2.1 in /usr/local/lib/python3.6/dist-packages (from fastai) (0.2.2)\n",
            "Requirement already satisfied: packaging in /usr/local/lib/python3.6/dist-packages (from fastai) (20.0)\n",
            "Requirement already satisfied: scipy in /usr/local/lib/python3.6/dist-packages (from fastai) (1.4.1)\n",
            "Requirement already satisfied: pandas in /usr/local/lib/python3.6/dist-packages (from fastai) (0.25.3)\n",
            "Requirement already satisfied: numpy>=1.15 in /usr/local/lib/python3.6/dist-packages (from fastai) (1.17.5)\n",
            "Requirement already satisfied: pyyaml in /usr/local/lib/python3.6/dist-packages (from fastai) (3.13)\n",
            "Requirement already satisfied: bottleneck in /usr/local/lib/python3.6/dist-packages (from fastai) (1.3.1)\n",
            "Requirement already satisfied: torch>=1.0.0 in /usr/local/lib/python3.6/dist-packages (from fastai) (1.3.1)\n",
            "Requirement already satisfied: torchvision in /usr/local/lib/python3.6/dist-packages (from fastai) (0.4.2)\n",
            "Requirement already satisfied: dataclasses; python_version < \"3.7\" in /usr/local/lib/python3.6/dist-packages (from fastai) (0.7)\n",
            "Requirement already satisfied: requests in /usr/local/lib/python3.6/dist-packages (from fastai) (2.21.0)\n",
            "Requirement already satisfied: numexpr in /usr/local/lib/python3.6/dist-packages (from fastai) (2.7.1)\n",
            "Requirement already satisfied: Pillow in /usr/local/lib/python3.6/dist-packages (from fastai) (6.2.2)\n",
            "Requirement already satisfied: wasabi<1.1.0,>=0.2.0 in /usr/local/lib/python3.6/dist-packages (from spacy>=2.0.18->fastai) (0.6.0)\n",
            "Requirement already satisfied: plac<1.0.0,>=0.9.6 in /usr/local/lib/python3.6/dist-packages (from spacy>=2.0.18->fastai) (0.9.6)\n",
            "Requirement already satisfied: thinc<7.1.0,>=7.0.8 in /usr/local/lib/python3.6/dist-packages (from spacy>=2.0.18->fastai) (7.0.8)\n",
            "Requirement already satisfied: murmurhash<1.1.0,>=0.28.0 in /usr/local/lib/python3.6/dist-packages (from spacy>=2.0.18->fastai) (1.0.2)\n",
            "Requirement already satisfied: preshed<2.1.0,>=2.0.1 in /usr/local/lib/python3.6/dist-packages (from spacy>=2.0.18->fastai) (2.0.1)\n",
            "Requirement already satisfied: blis<0.3.0,>=0.2.2 in /usr/local/lib/python3.6/dist-packages (from spacy>=2.0.18->fastai) (0.2.4)\n",
            "Requirement already satisfied: cymem<2.1.0,>=2.0.2 in /usr/local/lib/python3.6/dist-packages (from spacy>=2.0.18->fastai) (2.0.3)\n",
            "Requirement already satisfied: srsly<1.1.0,>=0.0.6 in /usr/local/lib/python3.6/dist-packages (from spacy>=2.0.18->fastai) (1.0.1)\n",
            "Requirement already satisfied: kiwisolver>=1.0.1 in /usr/local/lib/python3.6/dist-packages (from matplotlib->fastai) (1.1.0)\n",
            "Requirement already satisfied: pyparsing!=2.0.4,!=2.1.2,!=2.1.6,>=2.0.1 in /usr/local/lib/python3.6/dist-packages (from matplotlib->fastai) (2.4.6)\n",
            "Requirement already satisfied: cycler>=0.10 in /usr/local/lib/python3.6/dist-packages (from matplotlib->fastai) (0.10.0)\n",
            "Requirement already satisfied: python-dateutil>=2.1 in /usr/local/lib/python3.6/dist-packages (from matplotlib->fastai) (2.6.1)\n",
            "Requirement already satisfied: six in /usr/local/lib/python3.6/dist-packages (from packaging->fastai) (1.12.0)\n",
            "Requirement already satisfied: pytz>=2017.2 in /usr/local/lib/python3.6/dist-packages (from pandas->fastai) (2018.9)\n",
            "Requirement already satisfied: certifi>=2017.4.17 in /usr/local/lib/python3.6/dist-packages (from requests->fastai) (2019.11.28)\n",
            "Requirement already satisfied: urllib3<1.25,>=1.21.1 in /usr/local/lib/python3.6/dist-packages (from requests->fastai) (1.24.3)\n",
            "Requirement already satisfied: idna<2.9,>=2.5 in /usr/local/lib/python3.6/dist-packages (from requests->fastai) (2.8)\n",
            "Requirement already satisfied: chardet<3.1.0,>=3.0.2 in /usr/local/lib/python3.6/dist-packages (from requests->fastai) (3.0.4)\n",
            "Requirement already satisfied: tqdm<5.0.0,>=4.10.0 in /usr/local/lib/python3.6/dist-packages (from thinc<7.1.0,>=7.0.8->spacy>=2.0.18->fastai) (4.28.1)\n",
            "Requirement already satisfied: setuptools in /usr/local/lib/python3.6/dist-packages (from kiwisolver>=1.0.1->matplotlib->fastai) (42.0.2)\n"
          ],
          "name": "stdout"
        }
      ]
    },
    {
      "cell_type": "code",
      "metadata": {
        "trusted": true,
        "id": "FPCrqcv6b3sC",
        "colab_type": "code",
        "colab": {
          "base_uri": "https://localhost:8080/",
          "height": 627
        },
        "outputId": "2260b122-dd2b-42ed-fcaf-40a7f279631a"
      },
      "source": [
        "%reload_ext autoreload\n",
        "%autoreload 2\n",
        "\n",
        "import nltk\n",
        "nltk.download('stopwords')\n",
        "nltk.download('punkt')\n",
        "nltk.download('wordnet')\n",
        "\n",
        "#data_preprocessing\n",
        "import re\n",
        "import pandas as pd\n",
        "import numpy as np\n",
        "import matplotlib.pyplot as plt\n",
        "import seaborn as sns\n",
        "\n",
        "from scipy import stats\n",
        "import statsmodels.api as sm\n",
        "from scipy.stats import randint as sp_randint\n",
        "from time import time\n",
        "\n",
        "from textblob import TextBlob\n",
        "from sklearn.feature_extraction import text\n",
        "from nltk.tokenize import TweetTokenizer\n",
        "\n",
        "from nltk.corpus import stopwords\n",
        "from nltk import word_tokenize\n",
        "from string import punctuation\n",
        "from sklearn.feature_extraction import DictVectorizer\n",
        "from sklearn.pipeline import Pipeline\n",
        "from sklearn.svm import LinearSVC, SVC\n",
        "from sklearn.model_selection import GridSearchCV\n",
        "from bs4 import BeautifulSoup \n",
        "from nltk.tokenize import WordPunctTokenizer\n",
        "from sklearn.feature_extraction.text import CountVectorizer\n",
        "from sklearn.feature_extraction.text import TfidfTransformer, TfidfVectorizer\n",
        "from sklearn.decomposition import TruncatedSVD\n",
        "from sklearn import metrics\n",
        "from sklearn import svm\n",
        "from sklearn.model_selection import cross_val_predict\n",
        "from sklearn.model_selection import KFold, train_test_split\n",
        "from sklearn.metrics import roc_curve\n",
        "\n",
        "##import dataset\n",
        "dataset = pd.read_excel('train.xlsx')\n",
        "\n",
        "##Fill missing values of Host with that link in the same row\n",
        "for i in list(dataset[dataset['Host'].isnull() == True]['Host'].index):\n",
        "    dataset.at[i,'Host'] = dataset.loc[i]['Link']\n",
        "    \n",
        "##Filling missing value of TRANS_CONV_TEXT with that of title\n",
        "for i in list(dataset[dataset['TRANS_CONV_TEXT'].isnull() == True].index):\n",
        "    dataset.at[i, 'TRANS_CONV_TEXT'] = dataset.loc[i]['Title']\n",
        "##Converting 'Date(ET)' object to datetime\n",
        "dataset['Date(ET)'] = pd.to_datetime(dataset['Date(ET)'], infer_datetime_format=True)    \n",
        "\n",
        "##Converting Datetime to timestamp\n",
        "dataset['Date(ET)'] = dataset[['Date(ET)']].apply(lambda x: x[0].timestamp(), axis = 1).astype(int)\n",
        "\n",
        "##Dropping time(ET) and time(GMT)\n",
        "dataset.drop(['Date(ET)', 'Time(ET)', 'time(GMT)'], axis = 1, inplace = True)\n",
        "\n",
        "##Fill missing values of Title with that of TRANS_CONV_TEXT in the same row\n",
        "for i in list(dataset[dataset['Title'].isnull() == True]['Title'].index):\n",
        "    dataset.at[i,'Title'] = dataset.loc[i]['TRANS_CONV_TEXT']\n",
        "\n",
        "## TEST Data\n",
        "test = pd.read_csv('test.csv', encoding = 'utf-8')\n",
        "\n",
        "##Fill missing values of Host with that link in the same row\n",
        "for i in list(test[test['Host'].isnull() == True]['Host'].index):\n",
        "    test.at[i,'Host'] = test.loc[i]['Link']\n",
        "    \n",
        "#Filling missing value of TRANS_CONV_TEXT with that of title\n",
        "for i in list(test[test['TRANS_CONV_TEXT'].isnull() == True].index):\n",
        "    test.at[i, 'TRANS_CONV_TEXT'] = test.loc[i]['Title']\n",
        "\n",
        "test.at[441,'Date(ET)'] = test.loc[441, 'Time(ET)']\n",
        "\n",
        "#Converting 'Date(ET)' object to datetime\n",
        "test['Date(ET)'] = pd.to_datetime(test['Date(ET)'], infer_datetime_format=True)    \n",
        "\n",
        "#Converting Datetime to timestamp\n",
        "test['Date(ET)'] = test[['Date(ET)']].apply(lambda x: x[0].timestamp(), axis = 1).astype(int)\n",
        "\n",
        "#Dropping time(ET) and time(GMT)\n",
        "test.drop(['Date(ET)','Time(ET)', 'time(GMT)'], axis = 1, inplace = True)\n",
        "\n",
        "#Fill missing values of Title with that of TRANS_CONV_TEXT in the same row\n",
        "for i in list(test[test['Title'].isnull() == True]['Title'].index):\n",
        "    test.at[i,'Title'] = test.loc[i]['TRANS_CONV_TEXT']\n",
        "\n",
        "index = test['Index']\n",
        "index = list(index)\n",
        "\n",
        "test.drop(['Index'], axis = 1, inplace = True)\n",
        "\n",
        "#feature_selection\n",
        "y = dataset['Patient_Tag'].tolist()\n",
        "\n",
        "dataset['Story'] = 'a'\n",
        "\n",
        "\n",
        "for i in range(len(dataset)):\n",
        "    dataset.at[i, 'Story'] = dataset['Source'][i] + ' ' + dataset['Host'][i] + ' ' + str(dataset['Link'][i]) + ' ' + dataset['Title'][i] + ' ' + dataset['TRANS_CONV_TEXT'][i]\n",
        "\n",
        "dataset.drop(['Source', 'Host', 'Link', 'Title', 'TRANS_CONV_TEXT'], axis = 1, inplace = True)\n",
        "\n",
        "\n",
        "test['Story'] = 'a'\n",
        "\n",
        "\n",
        "for i in range(len(test)):\n",
        "    test.at[i, 'Story'] = test['Source'][i] + ' ' + test['Host'][i] + ' ' + str(test['Link'][i]) + ' ' + test['Title'][i] + ' ' + test['TRANS_CONV_TEXT'][i]\n",
        "\n",
        "test.drop(['Source', 'Host', 'Link', 'Title', 'TRANS_CONV_TEXT', 'Unnamed: 9'], axis = 1, inplace = True)\n",
        "\n",
        "replace_space = re.compile('[/(){}\\[\\]\\|@,;]')\n",
        "bad_symbols = re.compile('[^0-9a-z #+_]')\n",
        "STOPWORDS = set(stopwords.words('english'))\n",
        "\n",
        "def preprocess(text):\n",
        "    text = BeautifulSoup(text, \"lxml\").text # HTML decoding\n",
        "    text = text.lower() # lowercase text\n",
        "    text = replace_space.sub(' ', text) # replace REPLACE_BY_SPACE_RE symbols by space in text\n",
        "    text = bad_symbols.sub('', text) # delete symbols which are in BAD_SYMBOLS_RE from text\n",
        "    text = ' '.join(word for word in text.split() if word not in STOPWORDS) # delete stopwors from text\n",
        "    return text \n",
        "\n",
        "dataset['Story'] = dataset['Story'].apply(preprocess)\n",
        "test['Story'] = test['Story'].apply(preprocess)\n",
        "\n",
        "data_train_list = dataset['Story'].tolist()\n",
        "data_test_list = test['Story'].tolist()\n",
        "\n",
        "all_data = data_train_list + data_test_list\n",
        "\n",
        "print(\"size of test data as compared to train data {:0.2f}%\".format(len(test)/len(dataset)*100))\n",
        "\n",
        "#Returning average word length of phrases for each dataset\n",
        "print('Average word length of phrases in train is {0:.0f}.'.format(np.mean(dataset['Story'].apply(lambda x: len(x.split())))))\n",
        "print('Average word length of phrases in test is {0:.0f}.'.format(np.mean(test['Story'].apply(lambda x: len(x.split())))))\n",
        "\n",
        "#Graph\n",
        "fig, ax = plt.subplots(1,1, dpi = 100, figsize = (10,5))\n",
        "data_ = pd.read_excel('train.xlsx')\n",
        "patient_tags_labels = data_['Patient_Tag'].value_counts().index\n",
        "patient_tags_count = data_['Patient_Tag'].value_counts()\n",
        "\n",
        "#Plotting\n",
        "sns.barplot(x = patient_tags_labels, y = patient_tags_count)\n",
        "\n",
        "ax.set_ylabel('Count')\n",
        "ax.set_xlabel('Patient Tag Label')\n",
        "ax.set_xticklabels(patient_tags_labels)"
      ],
      "execution_count": 19,
      "outputs": [
        {
          "output_type": "stream",
          "text": [
            "[nltk_data] Downloading package stopwords to /root/nltk_data...\n",
            "[nltk_data]   Package stopwords is already up-to-date!\n",
            "[nltk_data] Downloading package punkt to /root/nltk_data...\n",
            "[nltk_data]   Package punkt is already up-to-date!\n",
            "[nltk_data] Downloading package wordnet to /root/nltk_data...\n",
            "[nltk_data]   Package wordnet is already up-to-date!\n",
            "size of test data as compared to train data 49.35%\n",
            "Average word length of phrases in train is 211.\n",
            "Average word length of phrases in test is 211.\n"
          ],
          "name": "stdout"
        },
        {
          "output_type": "execute_result",
          "data": {
            "text/plain": [
              "[Text(0, 0, '0'), Text(0, 0, '1')]"
            ]
          },
          "metadata": {
            "tags": []
          },
          "execution_count": 19
        },
        {
          "output_type": "display_data",
          "data": {
            "image/png": "[encoded data removed]",
            "text/plain": [
              "<Figure size 1000x500 with 1 Axes>"
            ]
          },
          "metadata": {
            "tags": []
          }
        }
      ]
    },
    {
      "cell_type": "code",
      "metadata": {
        "trusted": true,
        "id": "SBqmxK_ub3sK",
        "colab_type": "code",
        "colab": {
          "base_uri": "https://localhost:8080/",
          "height": 476
        },
        "outputId": "0afc1c71-65e4-4ccc-9010-9cecf34c239d"
      },
      "source": [
        "from fastai.text import *\n",
        "\n",
        "data = (TextList.from_df(dataset, cols = 'Story').split_by_rand_pct(0.2).label_for_lm().databunch(bs = 48))\n",
        "data.show_batch()\n",
        "\n",
        "\n",
        "\n",
        "\n",
        "\n"
      ],
      "execution_count": 3,
      "outputs": [
        {
          "output_type": "display_data",
          "data": {
            "text/html": [
              ""
            ],
            "text/plain": [
              "<IPython.core.display.HTML object>"
            ]
          },
          "metadata": {
            "tags": []
          }
        },
        {
          "output_type": "display_data",
          "data": {
            "text/html": [
              ""
            ],
            "text/plain": [
              "<IPython.core.display.HTML object>"
            ]
          },
          "metadata": {
            "tags": []
          }
        },
        {
          "output_type": "display_data",
          "data": {
            "text/html": [
              "<table border=\"1\" class=\"dataframe\">\n",
              "  <thead>\n",
              "    <tr style=\"text-align: right;\">\n",
              "      <th>idx</th>\n",
              "      <th>text</th>\n",
              "    </tr>\n",
              "  </thead>\n",
              "  <tbody>\n",
              "    <tr>\n",
              "      <td>0</td>\n",
              "      <td>heart failure due shocking lack knowledge disease area explained conscious misleading patients managed xxunk medical community advocacy groups top xxunk including principal investigator entresto trials publicly expressed concerns xxunk provides xxunk actually happened xxunk strategic marketing team xxunk wrong xxunk model based wrong market assumptions xxunk kept going wrong direction completely xxunk extent xxunk typical example ignorance bias ignorance frequently xxunk confidence knowledge was nt analysts challenging novartis public knows</td>\n",
              "    </tr>\n",
              "    <tr>\n",
              "      <td>1</td>\n",
              "      <td>drink problem would nt bad line xxunk led british government world first sugar tax tax come xxunk soft drink five grams sugar per xxunk trouble bbc reports office xxunk responsibility suggests xxunk add xxunk xxunk xxunk xxunk per litre xxunk xxunk xxunk xxunk standard xxunk means red bull xxunk coke around xxunk xxunk per added price serious tax generation policy uk estimates raise 550 million xxunk billion per year extra</td>\n",
              "    </tr>\n",
              "    <tr>\n",
              "      <td>2</td>\n",
              "      <td>congestive heart failure that s particularly true cases person unusual shortness breath activity trying sleep also true swelling occurs naturally throughout day tends resolve overnight persistent swelling problematic people constant worsening swelling feet legs see doctor evaluation heart failure symptom 6 indigestion heartburn heartburn indigestion quite common rarely serious instances seemingly benign burning aching xxunk upper abdomen sign heart pain heart attack additionally persistent gastrointestinal distress xxunk xxunk also precursor</td>\n",
              "    </tr>\n",
              "    <tr>\n",
              "      <td>3</td>\n",
              "      <td>charity american people virtually every time xxunk man made natural world seems call us assistance rich much offer call usa know come quote originally posted xxunk actually think one wants measure things would hold example good come public assistance 43 diagnosed congestive heart failure caused rare congenital condition isolated left ventricular non xxunk prognosis fairly xxunk 4 5 years heart transplant death time ejection fraction 10 today 5 1 2</td>\n",
              "    </tr>\n",
              "    <tr>\n",
              "      <td>4</td>\n",
              "      <td>come xxunk xxunk inhibitors maois category xxunk smoked meats salami smoked salmon chicken liver xxunk problem foods rich xxunk compound caused breakdown amino acid mixed maois cause xxunk levels spike leading dangerously high blood xxunk foods risk list include strong aged cheese smoked processed meats fish xxbos forums wwwicdsupportgrouporg http wwwicdsupportgrouporg board xxunk # xxunk icd actually make feel better effects xxunk situation ef xxunk icd two years day tomorrow</td>\n",
              "    </tr>\n",
              "  </tbody>\n",
              "</table>"
            ],
            "text/plain": [
              "<IPython.core.display.HTML object>"
            ]
          },
          "metadata": {
            "tags": []
          }
        }
      ]
    },
    {
      "cell_type": "code",
      "metadata": {
        "id": "OvPodftIcNZy",
        "colab_type": "code",
        "colab": {
          "base_uri": "https://localhost:8080/",
          "height": 34
        },
        "outputId": "5cbf4396-31e1-4652-c49c-c6637db151f5"
      },
      "source": [
        "learn = language_model_learner(data, AWD_LSTM, drop_mult = 0.3)"
      ],
      "execution_count": 4,
      "outputs": [
        {
          "output_type": "stream",
          "text": [
            "Downloading https://s3.amazonaws.com/fast-ai-modelzoo/wt103-fwd\n"
          ],
          "name": "stdout"
        },
        {
          "output_type": "display_data",
          "data": {
            "text/html": [
              ""
            ],
            "text/plain": [
              "<IPython.core.display.HTML object>"
            ]
          },
          "metadata": {
            "tags": []
          }
        }
      ]
    },
    {
      "cell_type": "code",
      "metadata": {
        "id": "2var7w6YcRFu",
        "colab_type": "code",
        "colab": {
          "base_uri": "https://localhost:8080/",
          "height": 173
        },
        "outputId": "a48ba519-75dd-4f86-87aa-bf5d69c5666f"
      },
      "source": [
        "learn.fit_one_cycle(4)"
      ],
      "execution_count": 5,
      "outputs": [
        {
          "output_type": "display_data",
          "data": {
            "text/html": [
              "<table border=\"1\" class=\"dataframe\">\n",
              "  <thead>\n",
              "    <tr style=\"text-align: left;\">\n",
              "      <th>epoch</th>\n",
              "      <th>train_loss</th>\n",
              "      <th>valid_loss</th>\n",
              "      <th>accuracy</th>\n",
              "      <th>time</th>\n",
              "    </tr>\n",
              "  </thead>\n",
              "  <tbody>\n",
              "    <tr>\n",
              "      <td>0</td>\n",
              "      <td>7.368351</td>\n",
              "      <td>6.385512</td>\n",
              "      <td>0.179204</td>\n",
              "      <td>00:08</td>\n",
              "    </tr>\n",
              "    <tr>\n",
              "      <td>1</td>\n",
              "      <td>6.690336</td>\n",
              "      <td>5.973965</td>\n",
              "      <td>0.202269</td>\n",
              "      <td>00:08</td>\n",
              "    </tr>\n",
              "    <tr>\n",
              "      <td>2</td>\n",
              "      <td>6.158908</td>\n",
              "      <td>5.857986</td>\n",
              "      <td>0.211551</td>\n",
              "      <td>00:08</td>\n",
              "    </tr>\n",
              "    <tr>\n",
              "      <td>3</td>\n",
              "      <td>5.851835</td>\n",
              "      <td>5.839256</td>\n",
              "      <td>0.213058</td>\n",
              "      <td>00:08</td>\n",
              "    </tr>\n",
              "  </tbody>\n",
              "</table>"
            ],
            "text/plain": [
              "<IPython.core.display.HTML object>"
            ]
          },
          "metadata": {
            "tags": []
          }
        }
      ]
    },
    {
      "cell_type": "code",
      "metadata": {
        "trusted": true,
        "id": "6G9NtsFvb3sO",
        "colab_type": "code",
        "colab": {}
      },
      "source": [
        "learn.save('stage-1')\n"
      ],
      "execution_count": 0,
      "outputs": []
    },
    {
      "cell_type": "code",
      "metadata": {
        "id": "TxsovorfcVqH",
        "colab_type": "code",
        "colab": {}
      },
      "source": [
        "learn.unfreeze()\n",
        "\n"
      ],
      "execution_count": 0,
      "outputs": []
    },
    {
      "cell_type": "code",
      "metadata": {
        "id": "hAtTDHkzcV6j",
        "colab_type": "code",
        "colab": {
          "base_uri": "https://localhost:8080/",
          "height": 80
        },
        "outputId": "1d02b038-7bde-4d83-a7d0-ecd63f083353"
      },
      "source": [
        "learn.fit_one_cycle(1)\n"
      ],
      "execution_count": 8,
      "outputs": [
        {
          "output_type": "display_data",
          "data": {
            "text/html": [
              "<table border=\"1\" class=\"dataframe\">\n",
              "  <thead>\n",
              "    <tr style=\"text-align: left;\">\n",
              "      <th>epoch</th>\n",
              "      <th>train_loss</th>\n",
              "      <th>valid_loss</th>\n",
              "      <th>accuracy</th>\n",
              "      <th>time</th>\n",
              "    </tr>\n",
              "  </thead>\n",
              "  <tbody>\n",
              "    <tr>\n",
              "      <td>0</td>\n",
              "      <td>5.648057</td>\n",
              "      <td>5.705765</td>\n",
              "      <td>0.220015</td>\n",
              "      <td>00:10</td>\n",
              "    </tr>\n",
              "  </tbody>\n",
              "</table>"
            ],
            "text/plain": [
              "<IPython.core.display.HTML object>"
            ]
          },
          "metadata": {
            "tags": []
          }
        }
      ]
    },
    {
      "cell_type": "code",
      "metadata": {
        "id": "F3tAbu2ZcWNe",
        "colab_type": "code",
        "colab": {
          "base_uri": "https://localhost:8080/",
          "height": 1000
        },
        "outputId": "755875ab-a0fa-4c30-951e-3373470551c6"
      },
      "source": [
        "learn.load('stage-1')"
      ],
      "execution_count": 9,
      "outputs": [
        {
          "output_type": "execute_result",
          "data": {
            "text/plain": [
              "LanguageLearner(data=TextLMDataBunch;\n",
              "\n",
              "Train: LabelList (926 items)\n",
              "x: LMTextList\n",
              "xxbos forums cafepharmacom http cafepharmacom boards threads xxunk # xxunk epstein do nt disagree principle i m saying entresto major failure novartis commercial organisation novartis totally exposed xxunk call reimbursement issues resolved true underlying problem entresto unveiled novartis failed create demand drug xxunk campaign us drowning man incredibly poor fear xxunk xxunk wrong condition raising awareness lifethreatening acute heart failure instead chronic heart failure entresto indicated entresto nothing treatment acute heart failure due shocking lack knowledge disease area explained conscious misleading patients managed xxunk medical community advocacy groups top xxunk including principal investigator entresto trials publicly expressed concerns xxunk provides xxunk actually happened xxunk strategic marketing team xxunk wrong xxunk model based wrong market assumptions xxunk kept going wrong direction completely xxunk extent xxunk typical example ignorance bias ignorance frequently xxunk confidence knowledge was nt analysts challenging novartis public knows long would continued xxunk stunning novartis leading cardiovascular company xxunk launch cardiovascular primary care product combo xxunk discovered new low david let people trusted known better xxunk management style did nt work novartis pharma contrast oncology toxic culture xxunk yes people xxunk skills valued required promotion strange though many years operational positions xxunk seemingly stayed xxunk least that s looks outside,xxbos forums wwwpatientcouk http wwwpatientcouk forums discuss enlargedheart511396orderlatest # xxunk enlarged heartthread enlarged heart always dizzy get dizzy standing made get slow dizzy turn around turn head slow check blood pressure every day usually around 94 _ 113 65 _ 78 told that s normal england fantastic hospital called xxunk cancer hospital have nt heard hospital hearts monday i m going make mission find one,xxbos blog http abcnewsradioonlinecom xxunk http abcnewsradioonlinecom xxunk xxunk queen latifah xxunk american heart associations red steps campaign xxunk xxunk xxunk new york queen latifah taking matters heart literally xxunk xxunk winner joined forces american heart association red steps campaign idea people post photos taking steps wearing red socks become physically active raise awareness risks symptoms heart failure goal six million red steps recognition nearly six million americans living heart failure latifah born xxunk owens effort personal mother rita owens xxunk xxunk incurable autoimmune disease caused scar tissue build lungs xxunk former xxunk also pulmonary hypertension impacts ability breathe way us show support people dealing condition care latifah told abc radio latifah said mothers approval campaign imperative getting involved really wanted involved wanted permission latifah xxunk she s xxunk positive way puts things something family like share people realize talking medical issues lot people reaching saying rapper turned actress says campaign also helped get healthy perfect comes staying fit constantly time shared saying campaign reminds diligent does nt alone helping sometimes xxunk support right group family friends says copyright 2016 abc radio rights reserved,xxbos forums xxunk http xxunk forums lounge xxunk # xxunk xxunk silver xxunk xxunk quote originally posted xxunk xxunk wake friend talking plasma hf start xxunk pc grounded skip beat heart start plasma read post wake said xxunk fact talking creating spike xxunk plasma xxunk fires get facts straight first,xxbos forums xxunk http xxunk xxunk # xxunk personal question there s discussion xxunk power xxunk extract makes brief aside need pee standing position lungs roughly divided three xxunk 1 ventilation perfusion top lungs blood flow pressure head right heart high enough pump blood high 2 ventilation perfusion middle part lungs 3 perfusion ventilation xxunk lungs fluid pressure higher opening pressure bronchioles alveoli gas exchange takes place dependent gravity fluid xxunk physics volume air airways does nt participate gas exchange combined volume air zone 1 called dead space amounts 1 3 normal breath assume xxunk xxunk position things change zone 1 gets lot smaller zone 3 gets bigger large individual variation secondly volume blood resides lower extremities xxunk gets pushed back system xxunk pulmonary circulation since high xxunk pressure system ends xxunk much people heart failure like sleep sitting xxunk breathe much better lung function respiratory function changed also one reasons people riding xxunk tend pee riding xxunk receptors vessels signal fluid load body turn signals kidneys make urine\n",
              "y: LMLabelList\n",
              ",,,,\n",
              "Path: .;\n",
              "\n",
              "Valid: LabelList (231 items)\n",
              "x: LMTextList\n",
              "xxbos blog http xxunk http xxunk 2016 06 xxunk xxunk xxunk remembered xxunk xxunk poses fan gathering xxunk photo xxunk xxunk june 14 xxunk actress xxunk xxunk died heart failure age 79 starred xxunk xxunk xxunk 1956 xxunk 1957 xxunk 1958 secret xxunk xxunk last war 1961 xxunk 1962 xxunk married xxunk star xxunk xxunk would later star xxunk xxunk tv series xxunk jack 1968 xxunk xxunk xxunk xxunk xxunk xxunk pose pictures photo xxunk xxunk distinct honor word certainly do nt use lightly meet xxunk event xxunk may 2015 xxunk xxunk xxunk event could nt disagree assessment stars like xxunk xxunk xxunk xxunk xxunk xxunk xxunk xxunk xxunk others gathered celebrate xxunk xxunk birthday thanks xxunk able spend quite bit time around xxunk i d always hoped visit xxunk always xxunk memories afternoon able meet favorite actress person could nt asked xxunk xxunk person meet rest peace xxunk,xxbos forums xxunk http xxrep 4 w hattoexpectcom forums xxunk topic xxunk ca nt c section congestive heart failure 25 heart works that s problem ca nt c section congestive heart failure 25 heart works that s problem,xxbos facebook http wwwfacebookcom xxunk http wwwfacebookcom xxunk matthew 25 44 shall also answer saying lord saw thee hungred xxunk stranger naked sick prison minister unto thee 45 shall answer saying xxunk say unto xxunk ye one least ye 46 shall go away xxunk punishment xxunk life xxunk hopefully america become xxunk start showing xxunk love compassion mercy needy sick xxunk american right receive healthcare person chose buying food paying xxunk receiving medical xxunk heart attack hospital er sent home could afford xxunk went couple months severe heart failure severe copd state indiana approved medicaid medicaid ended republican governor mike pence made cuts medicaid left many disabled like uninsured xxunk states cash surplus 6 month required waiting period date became disabled received first disability check social security year required waiting period time received first disability check covered medicare disabled severe heart failure severe copd medtronic icd device cardiovascular associates southern indiana implanted hooked heart since procedure breathing become worse cardiovascular associates southern indiana refuses treat monitor icd 500 unpaid balance billing medicare tens thousand xxunk death rate heart failure patients america 50 within 5 years believe largely due greed involved treating low income heart failure patientsi sure shortened life due stress improper lack treatment matthew 25 44 shall also answer saying lord saw thee hungred xxunk stranger naked sick prison minister unto thee 45 shall answer saying xxunk say unto xxunk ye one least ye 46 shall go away xxunk punishment xxunk life xxunk hopefully america become xxunk start showing xxunk love compassion mercy needy sick xxunk american right receive healthcare person chose buying food paying xxunk receiving medical xxunk heart attack hospital er sent home could afford xxunk went couple months severe heart failure severe copd state indiana approved medicaid medicaid ended republican governor mike pence made cuts medicaid left many disabled like uninsured xxunk states cash surplus 6 month required waiting period date became disabled received first disability check social security year required waiting period time received first disability check covered medicare disabled severe heart failure severe copd medtronic icd device cardiovascular associates southern indiana implanted hooked heart since procedure breathing become worse cardiovascular associates southern indiana refuses treat monitor icd 500 unpaid balance billing medicare tens thousand xxunk death rate heart failure patients america 50 within 5 years believe largely due greed involved treating low income heart failure patientsi sure shortened life due stress improper lack treatment,xxbos forums wwwcpaptalkcom http wwwcpaptalkcom xxunk # xxunk want try xxunk first night went sleep study xxunk severe 95 xxunk test late 2011 never able sleep effectively system one series 50 xxunk xxunk pro prescribed xxunk 360 nasal pillow assembly essentially xxunk i m 20 pounds xxunk back sleeping seems little bit better back what s best way trying address sleep apnea ok try existing machine settings adjust using xxunk need go back doc another sleep study particularly good xxunk since 2011 might better i ve spent last three weeks dealing father congestive heart failure i d like try avoid,xxbos forums wwwhealthcaremagiccom http wwwhealthcaremagiccom questions xxunk xxunk # xxunk suggest remedy low blood pressure pace maker hi question somewhat xxunk ill try help must find cause low blood pressure check pacemaker continues function properly battery modern pacemakers last 5 10 years older models xxunk last less time battery low must replace pacemaker xxunk could cause low blood pressure husband severe heart failure also cause low levels blood pressure situation must xxunk specific therapeutic problem moreover situation also use medications raise pressure xxunk patient therefore seeking remedy increase pressure levels husband necessary exhaust efforts identify causes low pressure provide best therapy hope answered question questions happy help wish good health\n",
              "y: LMLabelList\n",
              ",,,,\n",
              "Path: .;\n",
              "\n",
              "Test: None, model=SequentialRNN(\n",
              "  (0): AWD_LSTM(\n",
              "    (encoder): Embedding(8936, 400, padding_idx=1)\n",
              "    (encoder_dp): EmbeddingDropout(\n",
              "      (emb): Embedding(8936, 400, padding_idx=1)\n",
              "    )\n",
              "    (rnns): ModuleList(\n",
              "      (0): WeightDropout(\n",
              "        (module): LSTM(400, 1152, batch_first=True)\n",
              "      )\n",
              "      (1): WeightDropout(\n",
              "        (module): LSTM(1152, 1152, batch_first=True)\n",
              "      )\n",
              "      (2): WeightDropout(\n",
              "        (module): LSTM(1152, 400, batch_first=True)\n",
              "      )\n",
              "    )\n",
              "    (input_dp): RNNDropout()\n",
              "    (hidden_dps): ModuleList(\n",
              "      (0): RNNDropout()\n",
              "      (1): RNNDropout()\n",
              "      (2): RNNDropout()\n",
              "    )\n",
              "  )\n",
              "  (1): LinearDecoder(\n",
              "    (decoder): Linear(in_features=400, out_features=8936, bias=True)\n",
              "    (output_dp): RNNDropout()\n",
              "  )\n",
              "), opt_func=functools.partial(<class 'torch.optim.adam.Adam'>, betas=(0.9, 0.99)), loss_func=FlattenedLoss of CrossEntropyLoss(), metrics=[<function accuracy at 0x7f1b9e046d90>], true_wd=True, bn_wd=True, wd=0.01, train_bn=True, path=PosixPath('.'), model_dir='models', callback_fns=[functools.partial(<class 'fastai.basic_train.Recorder'>, add_time=True, silent=False)], callbacks=[RNNTrainer\n",
              "learn: LanguageLearner(data=TextLMDataBunch;\n",
              "\n",
              "Train: LabelList (926 items)\n",
              "x: LMTextList\n",
              "xxbos forums cafepharmacom http cafepharmacom boards threads xxunk # xxunk epstein do nt disagree principle i m saying entresto major failure novartis commercial organisation novartis totally exposed xxunk call reimbursement issues resolved true underlying problem entresto unveiled novartis failed create demand drug xxunk campaign us drowning man incredibly poor fear xxunk xxunk wrong condition raising awareness lifethreatening acute heart failure instead chronic heart failure entresto indicated entresto nothing treatment acute heart failure due shocking lack knowledge disease area explained conscious misleading patients managed xxunk medical community advocacy groups top xxunk including principal investigator entresto trials publicly expressed concerns xxunk provides xxunk actually happened xxunk strategic marketing team xxunk wrong xxunk model based wrong market assumptions xxunk kept going wrong direction completely xxunk extent xxunk typical example ignorance bias ignorance frequently xxunk confidence knowledge was nt analysts challenging novartis public knows long would continued xxunk stunning novartis leading cardiovascular company xxunk launch cardiovascular primary care product combo xxunk discovered new low david let people trusted known better xxunk management style did nt work novartis pharma contrast oncology toxic culture xxunk yes people xxunk skills valued required promotion strange though many years operational positions xxunk seemingly stayed xxunk least that s looks outside,xxbos forums wwwpatientcouk http wwwpatientcouk forums discuss enlargedheart511396orderlatest # xxunk enlarged heartthread enlarged heart always dizzy get dizzy standing made get slow dizzy turn around turn head slow check blood pressure every day usually around 94 _ 113 65 _ 78 told that s normal england fantastic hospital called xxunk cancer hospital have nt heard hospital hearts monday i m going make mission find one,xxbos blog http abcnewsradioonlinecom xxunk http abcnewsradioonlinecom xxunk xxunk queen latifah xxunk american heart associations red steps campaign xxunk xxunk xxunk new york queen latifah taking matters heart literally xxunk xxunk winner joined forces american heart association red steps campaign idea people post photos taking steps wearing red socks become physically active raise awareness risks symptoms heart failure goal six million red steps recognition nearly six million americans living heart failure latifah born xxunk owens effort personal mother rita owens xxunk xxunk incurable autoimmune disease caused scar tissue build lungs xxunk former xxunk also pulmonary hypertension impacts ability breathe way us show support people dealing condition care latifah told abc radio latifah said mothers approval campaign imperative getting involved really wanted involved wanted permission latifah xxunk she s xxunk positive way puts things something family like share people realize talking medical issues lot people reaching saying rapper turned actress says campaign also helped get healthy perfect comes staying fit constantly time shared saying campaign reminds diligent does nt alone helping sometimes xxunk support right group family friends says copyright 2016 abc radio rights reserved,xxbos forums xxunk http xxunk forums lounge xxunk # xxunk xxunk silver xxunk xxunk quote originally posted xxunk xxunk wake friend talking plasma hf start xxunk pc grounded skip beat heart start plasma read post wake said xxunk fact talking creating spike xxunk plasma xxunk fires get facts straight first,xxbos forums xxunk http xxunk xxunk # xxunk personal question there s discussion xxunk power xxunk extract makes brief aside need pee standing position lungs roughly divided three xxunk 1 ventilation perfusion top lungs blood flow pressure head right heart high enough pump blood high 2 ventilation perfusion middle part lungs 3 perfusion ventilation xxunk lungs fluid pressure higher opening pressure bronchioles alveoli gas exchange takes place dependent gravity fluid xxunk physics volume air airways does nt participate gas exchange combined volume air zone 1 called dead space amounts 1 3 normal breath assume xxunk xxunk position things change zone 1 gets lot smaller zone 3 gets bigger large individual variation secondly volume blood resides lower extremities xxunk gets pushed back system xxunk pulmonary circulation since high xxunk pressure system ends xxunk much people heart failure like sleep sitting xxunk breathe much better lung function respiratory function changed also one reasons people riding xxunk tend pee riding xxunk receptors vessels signal fluid load body turn signals kidneys make urine\n",
              "y: LMLabelList\n",
              ",,,,\n",
              "Path: .;\n",
              "\n",
              "Valid: LabelList (231 items)\n",
              "x: LMTextList\n",
              "xxbos blog http xxunk http xxunk 2016 06 xxunk xxunk xxunk remembered xxunk xxunk poses fan gathering xxunk photo xxunk xxunk june 14 xxunk actress xxunk xxunk died heart failure age 79 starred xxunk xxunk xxunk 1956 xxunk 1957 xxunk 1958 secret xxunk xxunk last war 1961 xxunk 1962 xxunk married xxunk star xxunk xxunk would later star xxunk xxunk tv series xxunk jack 1968 xxunk xxunk xxunk xxunk xxunk xxunk pose pictures photo xxunk xxunk distinct honor word certainly do nt use lightly meet xxunk event xxunk may 2015 xxunk xxunk xxunk event could nt disagree assessment stars like xxunk xxunk xxunk xxunk xxunk xxunk xxunk xxunk xxunk others gathered celebrate xxunk xxunk birthday thanks xxunk able spend quite bit time around xxunk i d always hoped visit xxunk always xxunk memories afternoon able meet favorite actress person could nt asked xxunk xxunk person meet rest peace xxunk,xxbos forums xxunk http xxrep 4 w hattoexpectcom forums xxunk topic xxunk ca nt c section congestive heart failure 25 heart works that s problem ca nt c section congestive heart failure 25 heart works that s problem,xxbos facebook http wwwfacebookcom xxunk http wwwfacebookcom xxunk matthew 25 44 shall also answer saying lord saw thee hungred xxunk stranger naked sick prison minister unto thee 45 shall answer saying xxunk say unto xxunk ye one least ye 46 shall go away xxunk punishment xxunk life xxunk hopefully america become xxunk start showing xxunk love compassion mercy needy sick xxunk american right receive healthcare person chose buying food paying xxunk receiving medical xxunk heart attack hospital er sent home could afford xxunk went couple months severe heart failure severe copd state indiana approved medicaid medicaid ended republican governor mike pence made cuts medicaid left many disabled like uninsured xxunk states cash surplus 6 month required waiting period date became disabled received first disability check social security year required waiting period time received first disability check covered medicare disabled severe heart failure severe copd medtronic icd device cardiovascular associates southern indiana implanted hooked heart since procedure breathing become worse cardiovascular associates southern indiana refuses treat monitor icd 500 unpaid balance billing medicare tens thousand xxunk death rate heart failure patients america 50 within 5 years believe largely due greed involved treating low income heart failure patientsi sure shortened life due stress improper lack treatment matthew 25 44 shall also answer saying lord saw thee hungred xxunk stranger naked sick prison minister unto thee 45 shall answer saying xxunk say unto xxunk ye one least ye 46 shall go away xxunk punishment xxunk life xxunk hopefully america become xxunk start showing xxunk love compassion mercy needy sick xxunk american right receive healthcare person chose buying food paying xxunk receiving medical xxunk heart attack hospital er sent home could afford xxunk went couple months severe heart failure severe copd state indiana approved medicaid medicaid ended republican governor mike pence made cuts medicaid left many disabled like uninsured xxunk states cash surplus 6 month required waiting period date became disabled received first disability check social security year required waiting period time received first disability check covered medicare disabled severe heart failure severe copd medtronic icd device cardiovascular associates southern indiana implanted hooked heart since procedure breathing become worse cardiovascular associates southern indiana refuses treat monitor icd 500 unpaid balance billing medicare tens thousand xxunk death rate heart failure patients america 50 within 5 years believe largely due greed involved treating low income heart failure patientsi sure shortened life due stress improper lack treatment,xxbos forums wwwcpaptalkcom http wwwcpaptalkcom xxunk # xxunk want try xxunk first night went sleep study xxunk severe 95 xxunk test late 2011 never able sleep effectively system one series 50 xxunk xxunk pro prescribed xxunk 360 nasal pillow assembly essentially xxunk i m 20 pounds xxunk back sleeping seems little bit better back what s best way trying address sleep apnea ok try existing machine settings adjust using xxunk need go back doc another sleep study particularly good xxunk since 2011 might better i ve spent last three weeks dealing father congestive heart failure i d like try avoid,xxbos forums wwwhealthcaremagiccom http wwwhealthcaremagiccom questions xxunk xxunk # xxunk suggest remedy low blood pressure pace maker hi question somewhat xxunk ill try help must find cause low blood pressure check pacemaker continues function properly battery modern pacemakers last 5 10 years older models xxunk last less time battery low must replace pacemaker xxunk could cause low blood pressure husband severe heart failure also cause low levels blood pressure situation must xxunk specific therapeutic problem moreover situation also use medications raise pressure xxunk patient therefore seeking remedy increase pressure levels husband necessary exhaust efforts identify causes low pressure provide best therapy hope answered question questions happy help wish good health\n",
              "y: LMLabelList\n",
              ",,,,\n",
              "Path: .;\n",
              "\n",
              "Test: None, model=SequentialRNN(\n",
              "  (0): AWD_LSTM(\n",
              "    (encoder): Embedding(8936, 400, padding_idx=1)\n",
              "    (encoder_dp): EmbeddingDropout(\n",
              "      (emb): Embedding(8936, 400, padding_idx=1)\n",
              "    )\n",
              "    (rnns): ModuleList(\n",
              "      (0): WeightDropout(\n",
              "        (module): LSTM(400, 1152, batch_first=True)\n",
              "      )\n",
              "      (1): WeightDropout(\n",
              "        (module): LSTM(1152, 1152, batch_first=True)\n",
              "      )\n",
              "      (2): WeightDropout(\n",
              "        (module): LSTM(1152, 400, batch_first=True)\n",
              "      )\n",
              "    )\n",
              "    (input_dp): RNNDropout()\n",
              "    (hidden_dps): ModuleList(\n",
              "      (0): RNNDropout()\n",
              "      (1): RNNDropout()\n",
              "      (2): RNNDropout()\n",
              "    )\n",
              "  )\n",
              "  (1): LinearDecoder(\n",
              "    (decoder): Linear(in_features=400, out_features=8936, bias=True)\n",
              "    (output_dp): RNNDropout()\n",
              "  )\n",
              "), opt_func=functools.partial(<class 'torch.optim.adam.Adam'>, betas=(0.9, 0.99)), loss_func=FlattenedLoss of CrossEntropyLoss(), metrics=[<function accuracy at 0x7f1b9e046d90>], true_wd=True, bn_wd=True, wd=0.01, train_bn=True, path=PosixPath('.'), model_dir='models', callback_fns=[functools.partial(<class 'fastai.basic_train.Recorder'>, add_time=True, silent=False)], callbacks=[...], layer_groups=[Sequential(\n",
              "  (0): WeightDropout(\n",
              "    (module): LSTM(400, 1152, batch_first=True)\n",
              "  )\n",
              "  (1): RNNDropout()\n",
              "), Sequential(\n",
              "  (0): WeightDropout(\n",
              "    (module): LSTM(1152, 1152, batch_first=True)\n",
              "  )\n",
              "  (1): RNNDropout()\n",
              "), Sequential(\n",
              "  (0): WeightDropout(\n",
              "    (module): LSTM(1152, 400, batch_first=True)\n",
              "  )\n",
              "  (1): RNNDropout()\n",
              "), Sequential(\n",
              "  (0): Embedding(8936, 400, padding_idx=1)\n",
              "  (1): EmbeddingDropout(\n",
              "    (emb): Embedding(8936, 400, padding_idx=1)\n",
              "  )\n",
              "  (2): LinearDecoder(\n",
              "    (decoder): Linear(in_features=400, out_features=8936, bias=True)\n",
              "    (output_dp): RNNDropout()\n",
              "  )\n",
              ")], add_time=True, silent=False)\n",
              "alpha: 2.0\n",
              "beta: 1.0], layer_groups=[Sequential(\n",
              "  (0): WeightDropout(\n",
              "    (module): LSTM(400, 1152, batch_first=True)\n",
              "  )\n",
              "  (1): RNNDropout()\n",
              "), Sequential(\n",
              "  (0): WeightDropout(\n",
              "    (module): LSTM(1152, 1152, batch_first=True)\n",
              "  )\n",
              "  (1): RNNDropout()\n",
              "), Sequential(\n",
              "  (0): WeightDropout(\n",
              "    (module): LSTM(1152, 400, batch_first=True)\n",
              "  )\n",
              "  (1): RNNDropout()\n",
              "), Sequential(\n",
              "  (0): Embedding(8936, 400, padding_idx=1)\n",
              "  (1): EmbeddingDropout(\n",
              "    (emb): Embedding(8936, 400, padding_idx=1)\n",
              "  )\n",
              "  (2): LinearDecoder(\n",
              "    (decoder): Linear(in_features=400, out_features=8936, bias=True)\n",
              "    (output_dp): RNNDropout()\n",
              "  )\n",
              ")], add_time=True, silent=False)"
            ]
          },
          "metadata": {
            "tags": []
          },
          "execution_count": 9
        }
      ]
    },
    {
      "cell_type": "code",
      "metadata": {
        "trusted": true,
        "id": "dXREdngfb3sT",
        "colab_type": "code",
        "colab": {
          "base_uri": "https://localhost:8080/",
          "height": 143
        },
        "outputId": "1f260244-e989-4642-c41b-4f2b3c7294ef"
      },
      "source": [
        "learn.lr_find()"
      ],
      "execution_count": 10,
      "outputs": [
        {
          "output_type": "display_data",
          "data": {
            "text/html": [
              "\n",
              "    <div>\n",
              "        <style>\n",
              "            /* Turns off some styling */\n",
              "            progress {\n",
              "                /* gets rid of default border in Firefox and Opera. */\n",
              "                border: none;\n",
              "                /* Needs to be in here for Safari polyfill so background images work as expected. */\n",
              "                background-size: auto;\n",
              "            }\n",
              "            .progress-bar-interrupted, .progress-bar-interrupted::-webkit-progress-bar {\n",
              "                background: #F44336;\n",
              "            }\n",
              "        </style>\n",
              "      <progress value='1' class='' max='2', style='width:300px; height:20px; vertical-align: middle;'></progress>\n",
              "      50.00% [1/2 00:09<00:09]\n",
              "    </div>\n",
              "    \n",
              "<table border=\"1\" class=\"dataframe\">\n",
              "  <thead>\n",
              "    <tr style=\"text-align: left;\">\n",
              "      <th>epoch</th>\n",
              "      <th>train_loss</th>\n",
              "      <th>valid_loss</th>\n",
              "      <th>accuracy</th>\n",
              "      <th>time</th>\n",
              "    </tr>\n",
              "  </thead>\n",
              "  <tbody>\n",
              "    <tr>\n",
              "      <td>0</td>\n",
              "      <td>5.662721</td>\n",
              "      <td>#na#</td>\n",
              "      <td>00:09</td>\n",
              "    </tr>\n",
              "  </tbody>\n",
              "</table><p>\n",
              "\n",
              "    <div>\n",
              "        <style>\n",
              "            /* Turns off some styling */\n",
              "            progress {\n",
              "                /* gets rid of default border in Firefox and Opera. */\n",
              "                border: none;\n",
              "                /* Needs to be in here for Safari polyfill so background images work as expected. */\n",
              "                background-size: auto;\n",
              "            }\n",
              "            .progress-bar-interrupted, .progress-bar-interrupted::-webkit-progress-bar {\n",
              "                background: #F44336;\n",
              "            }\n",
              "        </style>\n",
              "      <progress value='40' class='' max='59', style='width:300px; height:20px; vertical-align: middle;'></progress>\n",
              "      67.80% [40/59 00:06<00:03 11.8132]\n",
              "    </div>\n",
              "    "
            ],
            "text/plain": [
              "<IPython.core.display.HTML object>"
            ]
          },
          "metadata": {
            "tags": []
          }
        },
        {
          "output_type": "stream",
          "text": [
            "LR Finder is complete, type {learner_name}.recorder.plot() to see the graph.\n"
          ],
          "name": "stdout"
        }
      ]
    },
    {
      "cell_type": "code",
      "metadata": {
        "trusted": true,
        "id": "nM_iJWa1b3sX",
        "colab_type": "code",
        "colab": {
          "base_uri": "https://localhost:8080/",
          "height": 282
        },
        "outputId": "b290b1f7-0c98-4d5a-862d-dfd9dbe12ebc"
      },
      "source": [
        "learn.recorder.plot()\n",
        "\n"
      ],
      "execution_count": 11,
      "outputs": [
        {
          "output_type": "display_data",
          "data": {
            "image/png": "[encoded data removed]",
            "text/plain": [
              "<Figure size 432x288 with 1 Axes>"
            ]
          },
          "metadata": {
            "tags": []
          }
        }
      ]
    },
    {
      "cell_type": "code",
      "metadata": {
        "id": "1SKU9XbkcdS0",
        "colab_type": "code",
        "colab": {
          "base_uri": "https://localhost:8080/",
          "height": 142
        },
        "outputId": "5a108f6a-5618-46f8-e555-a46250111b36"
      },
      "source": [
        "learn.unfreeze()\n",
        "learn.fit_one_cycle(3)\n",
        "\n"
      ],
      "execution_count": 12,
      "outputs": [
        {
          "output_type": "display_data",
          "data": {
            "text/html": [
              "<table border=\"1\" class=\"dataframe\">\n",
              "  <thead>\n",
              "    <tr style=\"text-align: left;\">\n",
              "      <th>epoch</th>\n",
              "      <th>train_loss</th>\n",
              "      <th>valid_loss</th>\n",
              "      <th>accuracy</th>\n",
              "      <th>time</th>\n",
              "    </tr>\n",
              "  </thead>\n",
              "  <tbody>\n",
              "    <tr>\n",
              "      <td>0</td>\n",
              "      <td>5.617009</td>\n",
              "      <td>5.678671</td>\n",
              "      <td>0.221949</td>\n",
              "      <td>00:10</td>\n",
              "    </tr>\n",
              "    <tr>\n",
              "      <td>1</td>\n",
              "      <td>5.289073</td>\n",
              "      <td>5.598900</td>\n",
              "      <td>0.230320</td>\n",
              "      <td>00:11</td>\n",
              "    </tr>\n",
              "    <tr>\n",
              "      <td>2</td>\n",
              "      <td>4.860576</td>\n",
              "      <td>5.614086</td>\n",
              "      <td>0.228069</td>\n",
              "      <td>00:11</td>\n",
              "    </tr>\n",
              "  </tbody>\n",
              "</table>"
            ],
            "text/plain": [
              "<IPython.core.display.HTML object>"
            ]
          },
          "metadata": {
            "tags": []
          }
        }
      ]
    },
    {
      "cell_type": "code",
      "metadata": {
        "trusted": true,
        "id": "LOMZQ9_9b3sc",
        "colab_type": "code",
        "colab": {}
      },
      "source": [
        "learn.save_encoder('fine_tuned_enc')\n"
      ],
      "execution_count": 0,
      "outputs": []
    },
    {
      "cell_type": "code",
      "metadata": {
        "id": "f-_mSgylcgL-",
        "colab_type": "code",
        "colab": {
          "base_uri": "https://localhost:8080/",
          "height": 1000
        },
        "outputId": "776bc860-5c8f-4c9b-f795-5bb0ef13b5ae"
      },
      "source": [
        "learn.load_encoder('fine_tuned_enc')\n"
      ],
      "execution_count": 14,
      "outputs": [
        {
          "output_type": "execute_result",
          "data": {
            "text/plain": [
              "LanguageLearner(data=TextLMDataBunch;\n",
              "\n",
              "Train: LabelList (926 items)\n",
              "x: LMTextList\n",
              "xxbos forums cafepharmacom http cafepharmacom boards threads xxunk # xxunk epstein do nt disagree principle i m saying entresto major failure novartis commercial organisation novartis totally exposed xxunk call reimbursement issues resolved true underlying problem entresto unveiled novartis failed create demand drug xxunk campaign us drowning man incredibly poor fear xxunk xxunk wrong condition raising awareness lifethreatening acute heart failure instead chronic heart failure entresto indicated entresto nothing treatment acute heart failure due shocking lack knowledge disease area explained conscious misleading patients managed xxunk medical community advocacy groups top xxunk including principal investigator entresto trials publicly expressed concerns xxunk provides xxunk actually happened xxunk strategic marketing team xxunk wrong xxunk model based wrong market assumptions xxunk kept going wrong direction completely xxunk extent xxunk typical example ignorance bias ignorance frequently xxunk confidence knowledge was nt analysts challenging novartis public knows long would continued xxunk stunning novartis leading cardiovascular company xxunk launch cardiovascular primary care product combo xxunk discovered new low david let people trusted known better xxunk management style did nt work novartis pharma contrast oncology toxic culture xxunk yes people xxunk skills valued required promotion strange though many years operational positions xxunk seemingly stayed xxunk least that s looks outside,xxbos forums wwwpatientcouk http wwwpatientcouk forums discuss enlargedheart511396orderlatest # xxunk enlarged heartthread enlarged heart always dizzy get dizzy standing made get slow dizzy turn around turn head slow check blood pressure every day usually around 94 _ 113 65 _ 78 told that s normal england fantastic hospital called xxunk cancer hospital have nt heard hospital hearts monday i m going make mission find one,xxbos blog http abcnewsradioonlinecom xxunk http abcnewsradioonlinecom xxunk xxunk queen latifah xxunk american heart associations red steps campaign xxunk xxunk xxunk new york queen latifah taking matters heart literally xxunk xxunk winner joined forces american heart association red steps campaign idea people post photos taking steps wearing red socks become physically active raise awareness risks symptoms heart failure goal six million red steps recognition nearly six million americans living heart failure latifah born xxunk owens effort personal mother rita owens xxunk xxunk incurable autoimmune disease caused scar tissue build lungs xxunk former xxunk also pulmonary hypertension impacts ability breathe way us show support people dealing condition care latifah told abc radio latifah said mothers approval campaign imperative getting involved really wanted involved wanted permission latifah xxunk she s xxunk positive way puts things something family like share people realize talking medical issues lot people reaching saying rapper turned actress says campaign also helped get healthy perfect comes staying fit constantly time shared saying campaign reminds diligent does nt alone helping sometimes xxunk support right group family friends says copyright 2016 abc radio rights reserved,xxbos forums xxunk http xxunk forums lounge xxunk # xxunk xxunk silver xxunk xxunk quote originally posted xxunk xxunk wake friend talking plasma hf start xxunk pc grounded skip beat heart start plasma read post wake said xxunk fact talking creating spike xxunk plasma xxunk fires get facts straight first,xxbos forums xxunk http xxunk xxunk # xxunk personal question there s discussion xxunk power xxunk extract makes brief aside need pee standing position lungs roughly divided three xxunk 1 ventilation perfusion top lungs blood flow pressure head right heart high enough pump blood high 2 ventilation perfusion middle part lungs 3 perfusion ventilation xxunk lungs fluid pressure higher opening pressure bronchioles alveoli gas exchange takes place dependent gravity fluid xxunk physics volume air airways does nt participate gas exchange combined volume air zone 1 called dead space amounts 1 3 normal breath assume xxunk xxunk position things change zone 1 gets lot smaller zone 3 gets bigger large individual variation secondly volume blood resides lower extremities xxunk gets pushed back system xxunk pulmonary circulation since high xxunk pressure system ends xxunk much people heart failure like sleep sitting xxunk breathe much better lung function respiratory function changed also one reasons people riding xxunk tend pee riding xxunk receptors vessels signal fluid load body turn signals kidneys make urine\n",
              "y: LMLabelList\n",
              ",,,,\n",
              "Path: .;\n",
              "\n",
              "Valid: LabelList (231 items)\n",
              "x: LMTextList\n",
              "xxbos blog http xxunk http xxunk 2016 06 xxunk xxunk xxunk remembered xxunk xxunk poses fan gathering xxunk photo xxunk xxunk june 14 xxunk actress xxunk xxunk died heart failure age 79 starred xxunk xxunk xxunk 1956 xxunk 1957 xxunk 1958 secret xxunk xxunk last war 1961 xxunk 1962 xxunk married xxunk star xxunk xxunk would later star xxunk xxunk tv series xxunk jack 1968 xxunk xxunk xxunk xxunk xxunk xxunk pose pictures photo xxunk xxunk distinct honor word certainly do nt use lightly meet xxunk event xxunk may 2015 xxunk xxunk xxunk event could nt disagree assessment stars like xxunk xxunk xxunk xxunk xxunk xxunk xxunk xxunk xxunk others gathered celebrate xxunk xxunk birthday thanks xxunk able spend quite bit time around xxunk i d always hoped visit xxunk always xxunk memories afternoon able meet favorite actress person could nt asked xxunk xxunk person meet rest peace xxunk,xxbos forums xxunk http xxrep 4 w hattoexpectcom forums xxunk topic xxunk ca nt c section congestive heart failure 25 heart works that s problem ca nt c section congestive heart failure 25 heart works that s problem,xxbos facebook http wwwfacebookcom xxunk http wwwfacebookcom xxunk matthew 25 44 shall also answer saying lord saw thee hungred xxunk stranger naked sick prison minister unto thee 45 shall answer saying xxunk say unto xxunk ye one least ye 46 shall go away xxunk punishment xxunk life xxunk hopefully america become xxunk start showing xxunk love compassion mercy needy sick xxunk american right receive healthcare person chose buying food paying xxunk receiving medical xxunk heart attack hospital er sent home could afford xxunk went couple months severe heart failure severe copd state indiana approved medicaid medicaid ended republican governor mike pence made cuts medicaid left many disabled like uninsured xxunk states cash surplus 6 month required waiting period date became disabled received first disability check social security year required waiting period time received first disability check covered medicare disabled severe heart failure severe copd medtronic icd device cardiovascular associates southern indiana implanted hooked heart since procedure breathing become worse cardiovascular associates southern indiana refuses treat monitor icd 500 unpaid balance billing medicare tens thousand xxunk death rate heart failure patients america 50 within 5 years believe largely due greed involved treating low income heart failure patientsi sure shortened life due stress improper lack treatment matthew 25 44 shall also answer saying lord saw thee hungred xxunk stranger naked sick prison minister unto thee 45 shall answer saying xxunk say unto xxunk ye one least ye 46 shall go away xxunk punishment xxunk life xxunk hopefully america become xxunk start showing xxunk love compassion mercy needy sick xxunk american right receive healthcare person chose buying food paying xxunk receiving medical xxunk heart attack hospital er sent home could afford xxunk went couple months severe heart failure severe copd state indiana approved medicaid medicaid ended republican governor mike pence made cuts medicaid left many disabled like uninsured xxunk states cash surplus 6 month required waiting period date became disabled received first disability check social security year required waiting period time received first disability check covered medicare disabled severe heart failure severe copd medtronic icd device cardiovascular associates southern indiana implanted hooked heart since procedure breathing become worse cardiovascular associates southern indiana refuses treat monitor icd 500 unpaid balance billing medicare tens thousand xxunk death rate heart failure patients america 50 within 5 years believe largely due greed involved treating low income heart failure patientsi sure shortened life due stress improper lack treatment,xxbos forums wwwcpaptalkcom http wwwcpaptalkcom xxunk # xxunk want try xxunk first night went sleep study xxunk severe 95 xxunk test late 2011 never able sleep effectively system one series 50 xxunk xxunk pro prescribed xxunk 360 nasal pillow assembly essentially xxunk i m 20 pounds xxunk back sleeping seems little bit better back what s best way trying address sleep apnea ok try existing machine settings adjust using xxunk need go back doc another sleep study particularly good xxunk since 2011 might better i ve spent last three weeks dealing father congestive heart failure i d like try avoid,xxbos forums wwwhealthcaremagiccom http wwwhealthcaremagiccom questions xxunk xxunk # xxunk suggest remedy low blood pressure pace maker hi question somewhat xxunk ill try help must find cause low blood pressure check pacemaker continues function properly battery modern pacemakers last 5 10 years older models xxunk last less time battery low must replace pacemaker xxunk could cause low blood pressure husband severe heart failure also cause low levels blood pressure situation must xxunk specific therapeutic problem moreover situation also use medications raise pressure xxunk patient therefore seeking remedy increase pressure levels husband necessary exhaust efforts identify causes low pressure provide best therapy hope answered question questions happy help wish good health\n",
              "y: LMLabelList\n",
              ",,,,\n",
              "Path: .;\n",
              "\n",
              "Test: None, model=SequentialRNN(\n",
              "  (0): AWD_LSTM(\n",
              "    (encoder): Embedding(8936, 400, padding_idx=1)\n",
              "    (encoder_dp): EmbeddingDropout(\n",
              "      (emb): Embedding(8936, 400, padding_idx=1)\n",
              "    )\n",
              "    (rnns): ModuleList(\n",
              "      (0): WeightDropout(\n",
              "        (module): LSTM(400, 1152, batch_first=True)\n",
              "      )\n",
              "      (1): WeightDropout(\n",
              "        (module): LSTM(1152, 1152, batch_first=True)\n",
              "      )\n",
              "      (2): WeightDropout(\n",
              "        (module): LSTM(1152, 400, batch_first=True)\n",
              "      )\n",
              "    )\n",
              "    (input_dp): RNNDropout()\n",
              "    (hidden_dps): ModuleList(\n",
              "      (0): RNNDropout()\n",
              "      (1): RNNDropout()\n",
              "      (2): RNNDropout()\n",
              "    )\n",
              "  )\n",
              "  (1): LinearDecoder(\n",
              "    (decoder): Linear(in_features=400, out_features=8936, bias=True)\n",
              "    (output_dp): RNNDropout()\n",
              "  )\n",
              "), opt_func=functools.partial(<class 'torch.optim.adam.Adam'>, betas=(0.9, 0.99)), loss_func=FlattenedLoss of CrossEntropyLoss(), metrics=[<function accuracy at 0x7f1b9e046d90>], true_wd=True, bn_wd=True, wd=0.01, train_bn=True, path=PosixPath('.'), model_dir='models', callback_fns=[functools.partial(<class 'fastai.basic_train.Recorder'>, add_time=True, silent=False)], callbacks=[RNNTrainer\n",
              "learn: LanguageLearner(data=TextLMDataBunch;\n",
              "\n",
              "Train: LabelList (926 items)\n",
              "x: LMTextList\n",
              "xxbos forums cafepharmacom http cafepharmacom boards threads xxunk # xxunk epstein do nt disagree principle i m saying entresto major failure novartis commercial organisation novartis totally exposed xxunk call reimbursement issues resolved true underlying problem entresto unveiled novartis failed create demand drug xxunk campaign us drowning man incredibly poor fear xxunk xxunk wrong condition raising awareness lifethreatening acute heart failure instead chronic heart failure entresto indicated entresto nothing treatment acute heart failure due shocking lack knowledge disease area explained conscious misleading patients managed xxunk medical community advocacy groups top xxunk including principal investigator entresto trials publicly expressed concerns xxunk provides xxunk actually happened xxunk strategic marketing team xxunk wrong xxunk model based wrong market assumptions xxunk kept going wrong direction completely xxunk extent xxunk typical example ignorance bias ignorance frequently xxunk confidence knowledge was nt analysts challenging novartis public knows long would continued xxunk stunning novartis leading cardiovascular company xxunk launch cardiovascular primary care product combo xxunk discovered new low david let people trusted known better xxunk management style did nt work novartis pharma contrast oncology toxic culture xxunk yes people xxunk skills valued required promotion strange though many years operational positions xxunk seemingly stayed xxunk least that s looks outside,xxbos forums wwwpatientcouk http wwwpatientcouk forums discuss enlargedheart511396orderlatest # xxunk enlarged heartthread enlarged heart always dizzy get dizzy standing made get slow dizzy turn around turn head slow check blood pressure every day usually around 94 _ 113 65 _ 78 told that s normal england fantastic hospital called xxunk cancer hospital have nt heard hospital hearts monday i m going make mission find one,xxbos blog http abcnewsradioonlinecom xxunk http abcnewsradioonlinecom xxunk xxunk queen latifah xxunk american heart associations red steps campaign xxunk xxunk xxunk new york queen latifah taking matters heart literally xxunk xxunk winner joined forces american heart association red steps campaign idea people post photos taking steps wearing red socks become physically active raise awareness risks symptoms heart failure goal six million red steps recognition nearly six million americans living heart failure latifah born xxunk owens effort personal mother rita owens xxunk xxunk incurable autoimmune disease caused scar tissue build lungs xxunk former xxunk also pulmonary hypertension impacts ability breathe way us show support people dealing condition care latifah told abc radio latifah said mothers approval campaign imperative getting involved really wanted involved wanted permission latifah xxunk she s xxunk positive way puts things something family like share people realize talking medical issues lot people reaching saying rapper turned actress says campaign also helped get healthy perfect comes staying fit constantly time shared saying campaign reminds diligent does nt alone helping sometimes xxunk support right group family friends says copyright 2016 abc radio rights reserved,xxbos forums xxunk http xxunk forums lounge xxunk # xxunk xxunk silver xxunk xxunk quote originally posted xxunk xxunk wake friend talking plasma hf start xxunk pc grounded skip beat heart start plasma read post wake said xxunk fact talking creating spike xxunk plasma xxunk fires get facts straight first,xxbos forums xxunk http xxunk xxunk # xxunk personal question there s discussion xxunk power xxunk extract makes brief aside need pee standing position lungs roughly divided three xxunk 1 ventilation perfusion top lungs blood flow pressure head right heart high enough pump blood high 2 ventilation perfusion middle part lungs 3 perfusion ventilation xxunk lungs fluid pressure higher opening pressure bronchioles alveoli gas exchange takes place dependent gravity fluid xxunk physics volume air airways does nt participate gas exchange combined volume air zone 1 called dead space amounts 1 3 normal breath assume xxunk xxunk position things change zone 1 gets lot smaller zone 3 gets bigger large individual variation secondly volume blood resides lower extremities xxunk gets pushed back system xxunk pulmonary circulation since high xxunk pressure system ends xxunk much people heart failure like sleep sitting xxunk breathe much better lung function respiratory function changed also one reasons people riding xxunk tend pee riding xxunk receptors vessels signal fluid load body turn signals kidneys make urine\n",
              "y: LMLabelList\n",
              ",,,,\n",
              "Path: .;\n",
              "\n",
              "Valid: LabelList (231 items)\n",
              "x: LMTextList\n",
              "xxbos blog http xxunk http xxunk 2016 06 xxunk xxunk xxunk remembered xxunk xxunk poses fan gathering xxunk photo xxunk xxunk june 14 xxunk actress xxunk xxunk died heart failure age 79 starred xxunk xxunk xxunk 1956 xxunk 1957 xxunk 1958 secret xxunk xxunk last war 1961 xxunk 1962 xxunk married xxunk star xxunk xxunk would later star xxunk xxunk tv series xxunk jack 1968 xxunk xxunk xxunk xxunk xxunk xxunk pose pictures photo xxunk xxunk distinct honor word certainly do nt use lightly meet xxunk event xxunk may 2015 xxunk xxunk xxunk event could nt disagree assessment stars like xxunk xxunk xxunk xxunk xxunk xxunk xxunk xxunk xxunk others gathered celebrate xxunk xxunk birthday thanks xxunk able spend quite bit time around xxunk i d always hoped visit xxunk always xxunk memories afternoon able meet favorite actress person could nt asked xxunk xxunk person meet rest peace xxunk,xxbos forums xxunk http xxrep 4 w hattoexpectcom forums xxunk topic xxunk ca nt c section congestive heart failure 25 heart works that s problem ca nt c section congestive heart failure 25 heart works that s problem,xxbos facebook http wwwfacebookcom xxunk http wwwfacebookcom xxunk matthew 25 44 shall also answer saying lord saw thee hungred xxunk stranger naked sick prison minister unto thee 45 shall answer saying xxunk say unto xxunk ye one least ye 46 shall go away xxunk punishment xxunk life xxunk hopefully america become xxunk start showing xxunk love compassion mercy needy sick xxunk american right receive healthcare person chose buying food paying xxunk receiving medical xxunk heart attack hospital er sent home could afford xxunk went couple months severe heart failure severe copd state indiana approved medicaid medicaid ended republican governor mike pence made cuts medicaid left many disabled like uninsured xxunk states cash surplus 6 month required waiting period date became disabled received first disability check social security year required waiting period time received first disability check covered medicare disabled severe heart failure severe copd medtronic icd device cardiovascular associates southern indiana implanted hooked heart since procedure breathing become worse cardiovascular associates southern indiana refuses treat monitor icd 500 unpaid balance billing medicare tens thousand xxunk death rate heart failure patients america 50 within 5 years believe largely due greed involved treating low income heart failure patientsi sure shortened life due stress improper lack treatment matthew 25 44 shall also answer saying lord saw thee hungred xxunk stranger naked sick prison minister unto thee 45 shall answer saying xxunk say unto xxunk ye one least ye 46 shall go away xxunk punishment xxunk life xxunk hopefully america become xxunk start showing xxunk love compassion mercy needy sick xxunk american right receive healthcare person chose buying food paying xxunk receiving medical xxunk heart attack hospital er sent home could afford xxunk went couple months severe heart failure severe copd state indiana approved medicaid medicaid ended republican governor mike pence made cuts medicaid left many disabled like uninsured xxunk states cash surplus 6 month required waiting period date became disabled received first disability check social security year required waiting period time received first disability check covered medicare disabled severe heart failure severe copd medtronic icd device cardiovascular associates southern indiana implanted hooked heart since procedure breathing become worse cardiovascular associates southern indiana refuses treat monitor icd 500 unpaid balance billing medicare tens thousand xxunk death rate heart failure patients america 50 within 5 years believe largely due greed involved treating low income heart failure patientsi sure shortened life due stress improper lack treatment,xxbos forums wwwcpaptalkcom http wwwcpaptalkcom xxunk # xxunk want try xxunk first night went sleep study xxunk severe 95 xxunk test late 2011 never able sleep effectively system one series 50 xxunk xxunk pro prescribed xxunk 360 nasal pillow assembly essentially xxunk i m 20 pounds xxunk back sleeping seems little bit better back what s best way trying address sleep apnea ok try existing machine settings adjust using xxunk need go back doc another sleep study particularly good xxunk since 2011 might better i ve spent last three weeks dealing father congestive heart failure i d like try avoid,xxbos forums wwwhealthcaremagiccom http wwwhealthcaremagiccom questions xxunk xxunk # xxunk suggest remedy low blood pressure pace maker hi question somewhat xxunk ill try help must find cause low blood pressure check pacemaker continues function properly battery modern pacemakers last 5 10 years older models xxunk last less time battery low must replace pacemaker xxunk could cause low blood pressure husband severe heart failure also cause low levels blood pressure situation must xxunk specific therapeutic problem moreover situation also use medications raise pressure xxunk patient therefore seeking remedy increase pressure levels husband necessary exhaust efforts identify causes low pressure provide best therapy hope answered question questions happy help wish good health\n",
              "y: LMLabelList\n",
              ",,,,\n",
              "Path: .;\n",
              "\n",
              "Test: None, model=SequentialRNN(\n",
              "  (0): AWD_LSTM(\n",
              "    (encoder): Embedding(8936, 400, padding_idx=1)\n",
              "    (encoder_dp): EmbeddingDropout(\n",
              "      (emb): Embedding(8936, 400, padding_idx=1)\n",
              "    )\n",
              "    (rnns): ModuleList(\n",
              "      (0): WeightDropout(\n",
              "        (module): LSTM(400, 1152, batch_first=True)\n",
              "      )\n",
              "      (1): WeightDropout(\n",
              "        (module): LSTM(1152, 1152, batch_first=True)\n",
              "      )\n",
              "      (2): WeightDropout(\n",
              "        (module): LSTM(1152, 400, batch_first=True)\n",
              "      )\n",
              "    )\n",
              "    (input_dp): RNNDropout()\n",
              "    (hidden_dps): ModuleList(\n",
              "      (0): RNNDropout()\n",
              "      (1): RNNDropout()\n",
              "      (2): RNNDropout()\n",
              "    )\n",
              "  )\n",
              "  (1): LinearDecoder(\n",
              "    (decoder): Linear(in_features=400, out_features=8936, bias=True)\n",
              "    (output_dp): RNNDropout()\n",
              "  )\n",
              "), opt_func=functools.partial(<class 'torch.optim.adam.Adam'>, betas=(0.9, 0.99)), loss_func=FlattenedLoss of CrossEntropyLoss(), metrics=[<function accuracy at 0x7f1b9e046d90>], true_wd=True, bn_wd=True, wd=0.01, train_bn=True, path=PosixPath('.'), model_dir='models', callback_fns=[functools.partial(<class 'fastai.basic_train.Recorder'>, add_time=True, silent=False)], callbacks=[...], layer_groups=[Sequential(\n",
              "  (0): WeightDropout(\n",
              "    (module): LSTM(400, 1152, batch_first=True)\n",
              "  )\n",
              "  (1): RNNDropout()\n",
              "), Sequential(\n",
              "  (0): WeightDropout(\n",
              "    (module): LSTM(1152, 1152, batch_first=True)\n",
              "  )\n",
              "  (1): RNNDropout()\n",
              "), Sequential(\n",
              "  (0): WeightDropout(\n",
              "    (module): LSTM(1152, 400, batch_first=True)\n",
              "  )\n",
              "  (1): RNNDropout()\n",
              "), Sequential(\n",
              "  (0): Embedding(8936, 400, padding_idx=1)\n",
              "  (1): EmbeddingDropout(\n",
              "    (emb): Embedding(8936, 400, padding_idx=1)\n",
              "  )\n",
              "  (2): LinearDecoder(\n",
              "    (decoder): Linear(in_features=400, out_features=8936, bias=True)\n",
              "    (output_dp): RNNDropout()\n",
              "  )\n",
              ")], add_time=True, silent=False)\n",
              "alpha: 2.0\n",
              "beta: 1.0], layer_groups=[Sequential(\n",
              "  (0): WeightDropout(\n",
              "    (module): LSTM(400, 1152, batch_first=True)\n",
              "  )\n",
              "  (1): RNNDropout()\n",
              "), Sequential(\n",
              "  (0): WeightDropout(\n",
              "    (module): LSTM(1152, 1152, batch_first=True)\n",
              "  )\n",
              "  (1): RNNDropout()\n",
              "), Sequential(\n",
              "  (0): WeightDropout(\n",
              "    (module): LSTM(1152, 400, batch_first=True)\n",
              "  )\n",
              "  (1): RNNDropout()\n",
              "), Sequential(\n",
              "  (0): Embedding(8936, 400, padding_idx=1)\n",
              "  (1): EmbeddingDropout(\n",
              "    (emb): Embedding(8936, 400, padding_idx=1)\n",
              "  )\n",
              "  (2): LinearDecoder(\n",
              "    (decoder): Linear(in_features=400, out_features=8936, bias=True)\n",
              "    (output_dp): RNNDropout()\n",
              "  )\n",
              ")], add_time=True, silent=False)"
            ]
          },
          "metadata": {
            "tags": []
          },
          "execution_count": 14
        }
      ]
    },
    {
      "cell_type": "code",
      "metadata": {
        "trusted": true,
        "id": "6Ka6cAJFb3sh",
        "colab_type": "code",
        "colab": {
          "base_uri": "https://localhost:8080/",
          "height": 54
        },
        "outputId": "964e5b45-a20f-44cf-dd85-e137c53ae8d1"
      },
      "source": [
        "learn.predict(\"the news of the patient is\", 50, temperature = 1.1, min_p = 0.001)"
      ],
      "execution_count": 15,
      "outputs": [
        {
          "output_type": "execute_result",
          "data": {
            "text/plain": [
              "'the news of the patient is nt present call anyone concerned get possible medical data mentioned show signs blood pressure however good health could drop due high blood pressure would nt hear doctor told ambulance could know stopped experiencing asthma rapid blood vessels pulmonary edema left ventricle leading cause decreased patient vision could cause problems know'"
            ]
          },
          "metadata": {
            "tags": []
          },
          "execution_count": 15
        }
      ]
    },
    {
      "cell_type": "code",
      "metadata": {
        "id": "gZflbkJa1rND",
        "colab_type": "code",
        "colab": {
          "base_uri": "https://localhost:8080/",
          "height": 34
        },
        "outputId": "fad39e65-e5f8-44c6-e45d-c7fbd3ee822e"
      },
      "source": [
        "dataset.columns"
      ],
      "execution_count": 18,
      "outputs": [
        {
          "output_type": "execute_result",
          "data": {
            "text/plain": [
              "Index(['Story'], dtype='object')"
            ]
          },
          "metadata": {
            "tags": []
          },
          "execution_count": 18
        }
      ]
    },
    {
      "cell_type": "code",
      "metadata": {
        "trusted": true,
        "id": "cNwT6n3Mb3sk",
        "colab_type": "code",
        "colab": {
          "base_uri": "https://localhost:8080/",
          "height": 476
        },
        "outputId": "6713630d-8c5d-44e9-a381-4191c31125ca"
      },
      "source": [
        "test_datalist = TextList.from_df(test, cols = 'Story', vocab = data.vocab)\n",
        "\n",
        "data_clas = (TextList.from_df(dataset, cols = 'Story', vocab = data.vocab).split_by_rand_pct(0.2)\n",
        "            .label_from_df(cols = 'Patient_Tag')\n",
        "            .add_test(test_datalist)\n",
        "            .databunch(bs = 32))\n",
        "\n",
        "data_clas.show_batch()\n"
      ],
      "execution_count": 20,
      "outputs": [
        {
          "output_type": "display_data",
          "data": {
            "text/html": [
              ""
            ],
            "text/plain": [
              "<IPython.core.display.HTML object>"
            ]
          },
          "metadata": {
            "tags": []
          }
        },
        {
          "output_type": "display_data",
          "data": {
            "text/html": [
              ""
            ],
            "text/plain": [
              "<IPython.core.display.HTML object>"
            ]
          },
          "metadata": {
            "tags": []
          }
        },
        {
          "output_type": "display_data",
          "data": {
            "text/html": [
              ""
            ],
            "text/plain": [
              "<IPython.core.display.HTML object>"
            ]
          },
          "metadata": {
            "tags": []
          }
        },
        {
          "output_type": "display_data",
          "data": {
            "text/html": [
              "<table border=\"1\" class=\"dataframe\">\n",
              "  <thead>\n",
              "    <tr style=\"text-align: right;\">\n",
              "      <th>text</th>\n",
              "      <th>target</th>\n",
              "    </tr>\n",
              "  </thead>\n",
              "  <tbody>\n",
              "    <tr>\n",
              "      <td>xxbos facebook http facebookcom xxunk http facebookcom xxunk xxunk help please severe xxunk lupus cardiomyopathy every organ fail body ca nt say determined ever fight cancer 2012 severe spinal stenosis neck back plate neck 4 xxunk holding spinal xxunk spinal cord i m supposed go major back surgery xxunk screw put back i ve block colon part removed xxunk lot pain one kidney birth right side get lot bladder kidney</td>\n",
              "      <td>1</td>\n",
              "    </tr>\n",
              "    <tr>\n",
              "      <td>xxbos blog http xxunk xxunk http xxunk xxunk xxunk raising vitamin level 40 ng ml may slash cancer risk 67 percent source dr xxunk checked vitamin status lately ideally want maintain vitamin level 40 60 ng ml xxunk based mounting research 40 ng ml appears magic number whole host health benefits xxunk vitamin deficiency linked variety illnesses 1 including heart disease stroke hypertension autoimmune diseases type 1 type 2 diabetes</td>\n",
              "      <td>0</td>\n",
              "    </tr>\n",
              "    <tr>\n",
              "      <td>xxbos forums wwwhindawicom http wwwhindawicom journals xxunk 2016 xxunk splitdose polyethylene glycol superior single dose colonoscopy preparation results randomized controlled trial canadian journal gastroenterology xxunk 2016 2016 article i d xxunk 6 pages research article splitdose polyethylene glycol superior single dose colonoscopy preparation results randomized controlled trial 1 division gastroenterology faculty medicine university calgary calgary ab canada 2 xxunk medicine community health sciences university calgary calgary ab canada 3 xxunk</td>\n",
              "      <td>0</td>\n",
              "    </tr>\n",
              "    <tr>\n",
              "      <td>xxbos blog http xxunk http xxunk 2016 04 xxunk glycine muscle building brain boosting amino acid benefits entire body glycine xxunk xxunk amino acid benefits entire body may familiar term specifically use glycine every day strengthen body frankly allow work properly amino acid essential many different muscle cognitive metabolic functions helps break transport nutrients like xxunk fat used cells energy process supports strong immune digestive nervous systems human body glycine</td>\n",
              "      <td>0</td>\n",
              "    </tr>\n",
              "    <tr>\n",
              "      <td>xxbos blog http quranfruitzblogspotcom http quranfruitzblogspotcom 2016 02 xxunk causes low blood pressure hypo tension blood pressure measurement pressure arteries active resting phases heartbeat heres numbers mean systolic pressure first top number blood pressure reading amount pressure heart xxunk pumping blood arteries rest body diastolic pressure second bottom number blood pressure reading refers amount pressure arteries heart rest beats current guidelines identify normal blood pressure lower 120 80 mm hg</td>\n",
              "      <td>0</td>\n",
              "    </tr>\n",
              "  </tbody>\n",
              "</table>"
            ],
            "text/plain": [
              "<IPython.core.display.HTML object>"
            ]
          },
          "metadata": {
            "tags": []
          }
        }
      ]
    },
    {
      "cell_type": "code",
      "metadata": {
        "trusted": true,
        "id": "jisWtiIKb3sn",
        "colab_type": "code",
        "colab": {}
      },
      "source": [
        "learn_classifier = text_classifier_learner(data_clas, AWD_LSTM, drop_mult = 0.3)\n",
        "learn_classifier.load_encoder('fine_tuned_enc')\n",
        "learn_classifier.freeze()"
      ],
      "execution_count": 0,
      "outputs": []
    },
    {
      "cell_type": "code",
      "metadata": {
        "trusted": true,
        "id": "g7nAQ3iFb3su",
        "colab_type": "code",
        "colab": {
          "base_uri": "https://localhost:8080/",
          "height": 205
        },
        "outputId": "e6825251-2c22-4b1d-9442-2d6cccbf7bea"
      },
      "source": [
        "learn_classifier.lr_find()"
      ],
      "execution_count": 22,
      "outputs": [
        {
          "output_type": "display_data",
          "data": {
            "text/html": [
              "\n",
              "    <div>\n",
              "        <style>\n",
              "            /* Turns off some styling */\n",
              "            progress {\n",
              "                /* gets rid of default border in Firefox and Opera. */\n",
              "                border: none;\n",
              "                /* Needs to be in here for Safari polyfill so background images work as expected. */\n",
              "                background-size: auto;\n",
              "            }\n",
              "            .progress-bar-interrupted, .progress-bar-interrupted::-webkit-progress-bar {\n",
              "                background: #F44336;\n",
              "            }\n",
              "        </style>\n",
              "      <progress value='3' class='' max='4', style='width:300px; height:20px; vertical-align: middle;'></progress>\n",
              "      75.00% [3/4 00:13<00:04]\n",
              "    </div>\n",
              "    \n",
              "<table border=\"1\" class=\"dataframe\">\n",
              "  <thead>\n",
              "    <tr style=\"text-align: left;\">\n",
              "      <th>epoch</th>\n",
              "      <th>train_loss</th>\n",
              "      <th>valid_loss</th>\n",
              "      <th>accuracy</th>\n",
              "      <th>time</th>\n",
              "    </tr>\n",
              "  </thead>\n",
              "  <tbody>\n",
              "    <tr>\n",
              "      <td>0</td>\n",
              "      <td>0.834035</td>\n",
              "      <td>#na#</td>\n",
              "      <td>00:04</td>\n",
              "    </tr>\n",
              "    <tr>\n",
              "      <td>1</td>\n",
              "      <td>0.751818</td>\n",
              "      <td>#na#</td>\n",
              "      <td>00:04</td>\n",
              "    </tr>\n",
              "    <tr>\n",
              "      <td>2</td>\n",
              "      <td>0.596789</td>\n",
              "      <td>#na#</td>\n",
              "      <td>00:04</td>\n",
              "    </tr>\n",
              "  </tbody>\n",
              "</table><p>\n",
              "\n",
              "    <div>\n",
              "        <style>\n",
              "            /* Turns off some styling */\n",
              "            progress {\n",
              "                /* gets rid of default border in Firefox and Opera. */\n",
              "                border: none;\n",
              "                /* Needs to be in here for Safari polyfill so background images work as expected. */\n",
              "                background-size: auto;\n",
              "            }\n",
              "            .progress-bar-interrupted, .progress-bar-interrupted::-webkit-progress-bar {\n",
              "                background: #F44336;\n",
              "            }\n",
              "        </style>\n",
              "      <progress value='11' class='' max='28', style='width:300px; height:20px; vertical-align: middle;'></progress>\n",
              "      39.29% [11/28 00:01<00:02 1.7911]\n",
              "    </div>\n",
              "    "
            ],
            "text/plain": [
              "<IPython.core.display.HTML object>"
            ]
          },
          "metadata": {
            "tags": []
          }
        },
        {
          "output_type": "stream",
          "text": [
            "LR Finder is complete, type {learner_name}.recorder.plot() to see the graph.\n"
          ],
          "name": "stdout"
        }
      ]
    },
    {
      "cell_type": "code",
      "metadata": {
        "trusted": true,
        "id": "in-B-1vRb3sy",
        "colab_type": "code",
        "colab": {
          "base_uri": "https://localhost:8080/",
          "height": 279
        },
        "outputId": "433f5337-7a2e-40dd-9168-c64b8fd86b65"
      },
      "source": [
        "learn_classifier.recorder.plot()"
      ],
      "execution_count": 23,
      "outputs": [
        {
          "output_type": "display_data",
          "data": {
            "image/png": "[encoded data removed]",
            "text/plain": [
              "<Figure size 432x288 with 1 Axes>"
            ]
          },
          "metadata": {
            "tags": []
          }
        }
      ]
    },
    {
      "cell_type": "code",
      "metadata": {
        "trusted": true,
        "id": "EJCb12hab3s1",
        "colab_type": "code",
        "colab": {
          "base_uri": "https://localhost:8080/",
          "height": 80
        },
        "outputId": "bf30b3e1-ae56-4bcb-e60e-3aadc38cf23c"
      },
      "source": [
        "learn_classifier.fit_one_cycle(1, 2e-2, moms = (0.8, 0.7))"
      ],
      "execution_count": 24,
      "outputs": [
        {
          "output_type": "display_data",
          "data": {
            "text/html": [
              "<table border=\"1\" class=\"dataframe\">\n",
              "  <thead>\n",
              "    <tr style=\"text-align: left;\">\n",
              "      <th>epoch</th>\n",
              "      <th>train_loss</th>\n",
              "      <th>valid_loss</th>\n",
              "      <th>accuracy</th>\n",
              "      <th>time</th>\n",
              "    </tr>\n",
              "  </thead>\n",
              "  <tbody>\n",
              "    <tr>\n",
              "      <td>0</td>\n",
              "      <td>0.497643</td>\n",
              "      <td>0.314868</td>\n",
              "      <td>0.904762</td>\n",
              "      <td>00:05</td>\n",
              "    </tr>\n",
              "  </tbody>\n",
              "</table>"
            ],
            "text/plain": [
              "<IPython.core.display.HTML object>"
            ]
          },
          "metadata": {
            "tags": []
          }
        }
      ]
    },
    {
      "cell_type": "code",
      "metadata": {
        "trusted": true,
        "id": "v8JFEwKGb3s5",
        "colab_type": "code",
        "colab": {}
      },
      "source": [
        "learn_classifier.save('first')"
      ],
      "execution_count": 0,
      "outputs": []
    },
    {
      "cell_type": "code",
      "metadata": {
        "trusted": true,
        "id": "BLPdfoRRb3s-",
        "colab_type": "code",
        "colab": {
          "base_uri": "https://localhost:8080/",
          "height": 1000
        },
        "outputId": "7f0a1e6d-13f3-47aa-9719-32c3654d6f46"
      },
      "source": [
        "learn_classifier.load('first')"
      ],
      "execution_count": 26,
      "outputs": [
        {
          "output_type": "execute_result",
          "data": {
            "text/plain": [
              "RNNLearner(data=TextClasDataBunch;\n",
              "\n",
              "Train: LabelList (926 items)\n",
              "x: TextList\n",
              "xxbos forums wwwpatientcouk http wwwpatientcouk forums discuss enlargedheart511396orderlatest # xxunk enlarged heartthread enlarged heart always dizzy get dizzy standing made get slow dizzy turn around turn head slow check blood pressure every day usually around 94 _ 113 65 _ 78 told that s normal england fantastic hospital called xxunk cancer hospital have nt heard hospital hearts monday i m going make mission find one,xxbos blog http abcnewsradioonlinecom xxunk http abcnewsradioonlinecom xxunk xxunk queen latifah xxunk american heart associations red steps campaign xxunk xxunk xxunk new york queen latifah taking matters heart literally xxunk xxunk winner joined forces american heart association red steps campaign idea people post photos taking steps wearing red socks become physically active raise awareness risks symptoms heart failure goal six million red steps recognition nearly six million americans living heart failure latifah born xxunk owens effort personal mother rita owens xxunk xxunk incurable autoimmune disease caused scar tissue build lungs xxunk former xxunk also pulmonary hypertension impacts ability breathe way us show support people dealing condition care latifah told abc radio latifah said mothers approval campaign imperative getting involved really wanted involved wanted permission latifah xxunk she s xxunk positive way puts things something family like share people realize talking medical issues lot people reaching saying rapper turned actress says campaign also helped get healthy perfect comes staying fit constantly time shared saying campaign reminds diligent does nt alone helping sometimes xxunk support right group family friends says copyright 2016 abc radio rights reserved,xxbos forums wwwcancerforumsnet http wwwcancerforumsnet xxunk xxunk 17 xxunk year almost everyday thrown blood twice matter 2 weeks parents do nt want take see doctor think doctor give pain xxunk whereas pain really do nt know eat normally also go eating whole day feel hungry weigh xxunk pounds 5 feet 2 inches tall do nt know thought could stop xxunk ca nt please help get answer good xxunk problem ca nt face parents need learn little bulimia feel free share bulimia food psychological disorder pain xxunk involved treating psychological disorders however prescriptions may suggested get certain levels back order counseling works together prescriptions xxunk illness drug therapies alter xxunk anything else assist getting back balance bulimia serious disorder result xxunk without warning case described there s high chance esophageal xxunk victim dies drowning bodily fluids often within minutes electrolyte imbalances cause heart failure famous case woman coma decade resulted heart failure due bulimia imagine ten years coma stomach acids wearing away areas esophagus should nt instances cancer increased greatly many years even bulimia stops throat mouth cancers also increased losing life cancer losing voice box part face mouth hardly worth delaying getting medical help right away bulimia also increases chances stomach intestinal cancers xxunk stomach problems tooth xxunk disease loss much there s room parents refuse take life seriously value fight ask school xxunk xxunk seek free clinic stay strong stay smart xxunk followup,xxbos forums xxunk http xxunk forums lounge xxunk # xxunk xxunk silver xxunk xxunk quote originally posted xxunk xxunk wake friend talking plasma hf start xxunk pc grounded skip beat heart start plasma read post wake said xxunk fact talking creating spike xxunk plasma xxunk fires get facts straight first,xxbos forums xxunk http xxunk xxunk # xxunk personal question there s discussion xxunk power xxunk extract makes brief aside need pee standing position lungs roughly divided three xxunk 1 ventilation perfusion top lungs blood flow pressure head right heart high enough pump blood high 2 ventilation perfusion middle part lungs 3 perfusion ventilation xxunk lungs fluid pressure higher opening pressure bronchioles alveoli gas exchange takes place dependent gravity fluid xxunk physics volume air airways does nt participate gas exchange combined volume air zone 1 called dead space amounts 1 3 normal breath assume xxunk xxunk position things change zone 1 gets lot smaller zone 3 gets bigger large individual variation secondly volume blood resides lower extremities xxunk gets pushed back system xxunk pulmonary circulation since high xxunk pressure system ends xxunk much people heart failure like sleep sitting xxunk breathe much better lung function respiratory function changed also one reasons people riding xxunk tend pee riding xxunk receptors vessels signal fluid load body turn signals kidneys make urine\n",
              "y: CategoryList\n",
              "1,0,1,0,0\n",
              "Path: .;\n",
              "\n",
              "Valid: LabelList (231 items)\n",
              "x: TextList\n",
              "xxbos forums xxunk http xxunk newsreleases xxunk atherosclerosis pipeline h2 2015 world market research report atherosclerosis pipeline h2 2015 world market research report xxunk india march 9 2016 prnewswire market research report titled atherosclerosis pipeline review h2 2015 provides overview xxunk therapeutic pipeline enhances decision making capabilities create effective counter strategies gain competitive advantage xxunk rd xxunk identifying new targets xxunk produce firstinclass bestinclass products company profiles discussed report includes ache xxunk xxunk xxunk gmbh xxunk ag xxunk pharmaceuticals inc artery therapeutics inc astrazeneca plc xxunk xxunk ab xxunk inc xxunk ag xxunk technologies xxunk gmbh xxunk pharmaceuticals inc xxunk therapeutics holding sa xxunk inc xxunk inc xxunk xxunk company limited xxunk gmbh xxunk ag xxunk inc f xxunk xxunk ltd xxunk sa xxunk sciences inc xxunk discovery inc johnson johnson xxunk inc xxunk company ltd la xxunk pharmaceutical company lead discovery center gmbh xxunk co inc xxunk technology xxunk xxunk corporation xxunk health inc xxunk xxunk co ltd xxunk pharmaceuticals inc xxunk corp medicines company xxunk xxunk ltd xxunk sa vascular xxunk ltd vericel corporation xxunk therapeutics private limited xxunk pharmaceuticals inc complete report h2 2015 pipeline review atherosclerosis 68 market data tables 15 figures spread across 258 pages available http wwwreportsnreportscom reports xxunk drugs profiles discussed report includes xxunk xxunk xxunk xxunk xxunk xxunk xxunk xxunk xxunk xxunk xxunk xxunk xxunk xxunk xxunk xxunk xxunk xxunk xxunk xxunk xxunk xxunk xxunk cell therapy atherosclerosis cellular immunotherapy atherosclerosis xxunk xxunk xxunk xxunk xxunk drug atherosclerosis drugs activate xxunk atherosclerosis drugs xxunk xxunk receptor atherosclerosis xxunk xxunk xxunk gene therapy xxunk endothelial dysfunction gene therapy activate xxunk 10 atherosclerosis gene therapy target xxunk atherosclerosis xxunk xxunk xxunk xxunk xxunk xxunk ixmyelocelt xxunk series xxunk series xxunk series xxunk xxunk xxunk xxunk xxunk + xxunk xxunk xxunk xxunk xxunk xxunk monoclonal antibody inhibit xxunk autoimmune disorders cns disorders infectious diseases liver diseases metabolic disorders cardiovascular diseases monoclonal antibody inhibit endothelial lipase atherosclerosis xxunk xxunk atherosclerosis xxunk agonize xxunk atherosclerosis lymphoma xxunk xxunk peptides inhibit xxunk rheumatoid arthritis atherosclerosis xxunk protein cardiovascular diseases xxunk recombinant protein atherosclerosis recombinant protein atherosclerosis hepatic xxunk recombinant proteins inhibit xxunk xxunk thrombosis ischemic stroke atherosclerosis xxunk gene therapy inhibit xxunk chronic heart failure atherosclerosis xxunk xxunk small molecule atherosclerosis small molecule activate xxunk related factor 2 central nervous system metabolic disorders cardiovascular xxunk small molecule agonize liver x receptor atherosclerosis small molecule inhibit xxunk xxunk cardiovascular gastrointestinal metabolic disorders small molecule target xxunk atherosclerosis small molecule target xxunk atherosclerosis small molecules atherosclerosis small molecules inflammatory diseases small molecules xxunk cardiovascular cns metabolic disorders small molecules agonize xxunk atherosclerosis obesity small molecules inhibit xxunk atherosclerosis small molecules inhibit lipase atherosclerosis xxunk xxunk stem cell therapy atherosclerosis synthetic peptide inhibit xxunk atherosclerosis synthetic peptides cardiovascular gastrointestinal metabolic disorders infectious disease synthetic peptides oncology sepsis atherosclerosis synthetic peptides activate xxunk atherosclerosis inflammation synthetic peptides activate xxunk receptor cardiovascular diseases macular degeneration vaccine atherosclerosis xxunk xxunk order copy report http wwwreportsnreportscom xxunk report provides comprehensive information therapeutic development atherosclerosis complete comparative analysis various stages therapeutics assessment drug target mechanism action xxunk route administration xxunk molecule type along latest updates featured news press releases also reviews key players involved therapeutic development atherosclerosis special features xxunk xxunk projects report provides xxunk global therapeutic landscape atherosclerosis report reviews key pipeline products drug profile section includes product description xxunk rd brief xxunk collaboration details xxunk activities also key players involved therapeutics development atherosclerosis xxunk major minor projects xxunk xxunk xxunk pipeline projects explore reports pharmaceuticals market http wwwreportsnreportscom xxunk pharmaceuticals us xxunk online market research reports library 500 000 + indepth studies 5000 xxunk markets limited one industry xxunk offers research studies xxunk energy power chemicals environment medical devices healthcare food beverages water advanced materials much connect us,xxbos forums xxunk https xxunk topic xxunk # xxunk former us first lady dies aged 94 source xxunk click show spoiler click hide los angeles afp nancy reagan devoted wife trusted xxunk late president ronald reagan became xxunk guardian legacy died sunday aged 94 former first lady suffered heart failure home los angeles buried next husband ronald reagan presidential library simi valley california spokeswoman joanne drake said late life reagan earned praise many qualities saw xxunk critics ronald reagans two white house terms xxunk fierce xxunk xxunk influence president perceived xxunk cold feared white house xxunk often found xxunk heads policy personnel appointments made mark first lady signature say drug awareness campaign launched 1982 left white house xxunk reagan xxunk descent alzheimers disease death 2004 america xxunk view former movie xxunk proud example warm tributes xxunk nancy reagans xxunk xxunk husband xxunk president barack obama wife michelle calling proud example remain grateful nancy reagans life thankful guidance xxunk beloved husband together obamas said statement former first lady barbara bush said totally devoted president reagan take comfort xxunk former california governor action movie star xxunk xxunk described one heroes served first lady unbelievable power class grace nancy reagan wife truly great president amazing woman missed said donald trump xxunk race republicans presidential candidate november president reagan viewed something xxunk xxunk xxunk xxunk modern republican party xxunk former first lady xxunk considerable political power succession presidential xxunk sought endorsement born anne frances robbins new york july 6 1921 given name nancy mother edith robbins reagans car xxunk father left family young edith xxunk country actress marrying prominent xxunk loyal davis settling family chicago inspired mother nancy worked actress stage film television met ronald reagan contract xxunk love story married 1952 reagan divorced first wife actress jane wyman beginning marriage described love story rival couple acted silver screen pair wrote passionate love letters decades two children patti born 1952 ron born 1958 made 11 films including three marriage xxunk alongside husband last role hellcats navy 1956 reagan went california politics 1960s nancy xxunk ultimate political wife xxunk serving first lady xxunk months took office us president 1981 reagan xxunk survived xxunk attempt xxunk nancy take xxunk role husbands protector strictly controlling access president sometimes set influence decisionmaking indirectly taking case people husband trusted times role took bizarre xxunk consulted xxunk guide administration policy dragon gets xxunk dragon said former reagan chief staff xxunk baker appointed nancy reagan xxunk xxunk xxunk regan 1988 interview nancy said forced exert influence husband poorly served xxunk especially xxunk xxunk xxunk xxunk public nancy reagan became best known xxunk xxunk clothes hollywood friends reported social climbing well say antidrug campaign behind closed doors actions much important nancy was nt popular operated cover usually xxunk xxunk xxunk xxunk wrote years ago washington post xxunk said xxunk instinct moderation drew xxunk everything social policy xxunk relations tried protect husband xxunk influence reagans left white house 1989 xxunk books regan especially xxunk xxunk kitty xxunk cast nancy reagan xxunk light even xxunk affair frank xxunk 1994 played key role husbands xxunk disclosure alzheimers became vocal xxunk awareness disease memory xxunk longer recognized woman loved half century nancy reagan closed xxunk around xxunk public view even old friends protect image xxunk xxunk long journey finally taken xxunk place longer reach xxunk nancy reagan said alzheimers xxunk years ago xxunk click show spoiler click hide,xxbos youtube youtubecom http youtubecom xxunk building momentum help heart failure patients description new medications introduced market xxunk doctors make jump traditional treatment options moving beyond shown benefits patients long term health tags published mon jul 11 xxunk edt 2016,xxbos forums forumsstudentdoctornet http forumsstudentdoctornet threads xxunk # xxunk doctor bob right fire i d docs please wo nt xxunk xxunk waiting next tb patient enough antibiotic police already hospitals employees poorly xxunk people twenty years ago would loved consulted even common cold young xxunk patient unfortunately live period high malpractice risks xxunk increasing medical knowledge even best xxunk ask help things experienced seen cardiologists refused severely decompensated chf patients patient xxunk xxunk related period stress comfortable managing insulin xxunk fellowship one old wise xxunk said similar situation you ll want people feel comfortable xxunk calling consult good good patients do nt xxunk do nt know something trivial wo nt call even something important doctor bob right fire i d docs please wo nt xxunk xxunk waiting next tb patient enough antibiotic police already hospitals employees poorly xxunk people twenty years ago would loved consulted even common cold young xxunk patient unfortunately live period high malpractice risks xxunk increasing medical knowledge even best xxunk ask help things experienced seen cardiologists refused severely decompensated chf patients patient xxunk xxunk related period stress comfortable managing insulin xxunk fellowship one old wise xxunk said similar situation you ll want people feel comfortable xxunk calling consult good good patients do nt xxunk do nt know something trivial wo nt call even something important,xxbos blog http xxunk http xxunk 2016 04 xxunk vitamin heals damaged hearts vitamin supplements may help people diseased hearts study suggests trial 163 heart failure patients found supplements vitamin made skin exposed sunlight improved hearts ability pump blood around body leeds teaching hospitals team presented meeting american college cardiology described results stunning british heart foundation called longer trials assess pills read\n",
              "y: CategoryList\n",
              "0,0,0,0,0\n",
              "Path: .;\n",
              "\n",
              "Test: LabelList (571 items)\n",
              "x: TextList\n",
              "xxbos blog xxunk http xxunk xxunk baby slice son late kimbo slice signed professional mma contract make debut bellator 160 august according associated press reported kevin xxunk jr oldest son kevin xxunk already experience xxunk mixed martial arts made debut march knocked xxunk 83 seconds younger xxunk 24 signed bellator contract fathers death june always around fight business everything saw understood going xxunk said knew without doubt one day wanted according xxunk occasionally xxunk mma college preferred go party friends was nt recently xxunk training go pro father fought bellator february defeated xxunk 5000 later organization discovered kimbo slice taken xxunk xxunk got win kimbo slice died june hospitalized congestive heart failure large mass also discovered liver 42 shock world put like still big tragedy got xxunk told ap regards fathers xxunk death i m still getting wo nt say i m i m working guess check mma debut video baby slice son late kimbo slice signed professional mma contract make debut bellator 160 august according associated press reported kevin xxunk jr oldest son kevin xxunk already experience xxunk mixed martial arts made debut march knocked xxunk 83 seconds younger xxunk 24 signed bellator contract fathers death june always around fight business everything saw understood going xxunk said knew without doubt one day wanted according xxunk occasionally xxunk mma college preferred go party friends was nt recently xxunk training go pro father fought bellator february defeated xxunk 5000 later organization discovered kimbo slice taken xxunk xxunk got win kimbo slice died june hospitalized congestive heart failure large mass also discovered liver 42 shock world put like still big tragedy got xxunk told ap regards fathers xxunk death i m still getting wo nt say i m i m working guess check mma debut video,xxbos forums xxunk http xxunk topic xxunk xxunk # story xxunk xxunk breast implants following xxunk double radical mastectomy 1982 suffered local systemic complications due implants diagnosed human xxunk disease mixed connective tissue disease chronic fatigue syndrome xxunk xxunk brain tumor atypical neurological disease xxunk xxunk pulmonary hypertension mild heart failure last xxunk 1994 dr scott xxunk florida started dr susan xxunk xxunk immune protocol xxunk studies shown womens health improves following xxunk implant removal fortunately seen many positive changes health remain hopeful continue holistic approach wellness personal xxunk never give accept limitations always xxunk best share xxunk honestly public xxunk years age worsening xxunk immune problems pulmonary hypertension heart failure point almost completely xxunk needing nursing care doctors given hope have nt listened doctors would dead 15 years ago first gave higher power knows time time table feel yes however ill keep fighting regret implants removed best decision ever made xxunk gave much better health years added years enjoy life i ve xxunk love friends i ve made look forward meeting others,xxbos blog http xxunk http xxunk 2016 06 xxunk us fda xxunk previously xxunk xxunk xxunk inhibitor considered increase risk severe urinary tract infections may increase risk acidosis even raised canagliflozin may cause decreased bone mineral xxunk increased risk xxunk days xxunk xxunk xxunk xxunk xxunk us fda xxunk inhibitor speak fda canagliflozin dapagliflozin say dapagliflozin farxiga xigduo xr astrazeneca canagliflozin invokana invokamet janssen hey yet entered xxunk market xxunk us fda strengthened safety warning dapagliflozin canagliflozin acute kidney injury acute kidney injury xxunk clinicians opening dapagliflozin canagliflozin assess whether patient following may xxunk xxunk risk factors xxunk blood volume decrease decreased blood volume hypovolemic chronic renal dysfunction chronic renal insufficiency heart failure congestive heart failure using diuretics xxunk xxunk nsaid prescribing dapagliflozin canagliflozin patients renal function regularly xxunk xxunk occurs dapagliflozin canagliflozin stopped immediately existing data shows 70 patients treatment renal function may gradually improved general population patients taking two items occurrence decreased urine output lower xxunk edema symptoms acute kidney injury signs dehydration severe diarrhea please contact immediately clinical staff detailed information us fda xxunk adverse national xxunk system xxunk found period xxunk xxunk 101 confirmed canagliflozin n 73 dapagliflozin n 28 xxunk cases result total 96 patients requiring hospitalization total 15 patients required xxunk treatment 22 patients entering intensive care unit treating total four people killed including two xxunk deaths analysis 101 xxunk case median age 57 years range 28 79 eighty percent patients aged 60 years 10 patients chronic kidney disease history ckd total drugs 51 patients xxunk 26 patients six patients diuretics diuretic six patients nsaid use xxunk diuretic diuretic 58 xxunk patients total 45 patients within one month start use canagliflozin receiving dapagliflozin drug treatment xxunk egfr changed among 32 patients median change xxunk + 16 mg dl change remaining 13 patients median egfr 46 ml min 173 m2 total 78 patients disabled drugs including 56 renal function gradually recovered xxunk xxunk renal function swiss go back actually pulling two druginduced xxunk whether reversible injury xxunk still currently unknown source fda drug safety communication fda xxunk kidney warnings diabetes medicines canagliflozin invokana invokamet dapagliflozin farxiga xigduo xr,xxbos forums xxunk http xxunk boards xxunk xxunk # xxunk hello suffer congestive heart failure due mi icd implant started experience weird feeling middle chest almost like i m getting ready xxunk type reaction mild xxunk think happens bp monitor xxunk low blood pressure higher heart irregular heart beat breathing little xxunk accompanied mild xxunk mild light headed echo 2 weeks ago nothing xxunk xxunk xxunk feeling example bp reading 83 51 hr 96 xxunk cardiologist xxunk meds see would help change contact cardiologist advice greatly appreciated add note heart throw clot went arm 8 months ago xxunk hello suffer congestive heart failure due mi icd implant started experience weird feeling middle chest almost like i m getting ready xxunk type reaction mild xxunk think happens bp monitor xxunk low blood pressure higher heart irregular heart beat breathing little xxunk accompanied mild xxunk mild light headed echo 2 weeks ago nothing xxunk xxunk xxunk feeling example bp reading 83 51 hr 96 xxunk cardiologist xxunk meds see would help change contact cardiologist advice greatly appreciated add note heart throw clot went arm 8 months ago xxunk,xxbos blog http wwwsciencecodexcom http wwwsciencecodexcom xxunk vitamin improves heart function study finds daily dose vitamin d3 improves heart function people chronic heart failure fiveyear university leeds research project found dr klaus witte school medicine consultant cardiologist leeds teaching hospitals nhs trust led study known xxunk read\n",
              "y: EmptyLabelList\n",
              ",,,,\n",
              "Path: ., model=SequentialRNN(\n",
              "  (0): MultiBatchEncoder(\n",
              "    (module): AWD_LSTM(\n",
              "      (encoder): Embedding(8936, 400, padding_idx=1)\n",
              "      (encoder_dp): EmbeddingDropout(\n",
              "        (emb): Embedding(8936, 400, padding_idx=1)\n",
              "      )\n",
              "      (rnns): ModuleList(\n",
              "        (0): WeightDropout(\n",
              "          (module): LSTM(400, 1152, batch_first=True)\n",
              "        )\n",
              "        (1): WeightDropout(\n",
              "          (module): LSTM(1152, 1152, batch_first=True)\n",
              "        )\n",
              "        (2): WeightDropout(\n",
              "          (module): LSTM(1152, 400, batch_first=True)\n",
              "        )\n",
              "      )\n",
              "      (input_dp): RNNDropout()\n",
              "      (hidden_dps): ModuleList(\n",
              "        (0): RNNDropout()\n",
              "        (1): RNNDropout()\n",
              "        (2): RNNDropout()\n",
              "      )\n",
              "    )\n",
              "  )\n",
              "  (1): PoolingLinearClassifier(\n",
              "    (layers): Sequential(\n",
              "      (0): BatchNorm1d(1200, eps=1e-05, momentum=0.1, affine=True, track_running_stats=True)\n",
              "      (1): Dropout(p=0.12, inplace=False)\n",
              "      (2): Linear(in_features=1200, out_features=50, bias=True)\n",
              "      (3): ReLU(inplace=True)\n",
              "      (4): BatchNorm1d(50, eps=1e-05, momentum=0.1, affine=True, track_running_stats=True)\n",
              "      (5): Dropout(p=0.1, inplace=False)\n",
              "      (6): Linear(in_features=50, out_features=2, bias=True)\n",
              "    )\n",
              "  )\n",
              "), opt_func=functools.partial(<class 'torch.optim.adam.Adam'>, betas=(0.9, 0.99)), loss_func=FlattenedLoss of CrossEntropyLoss(), metrics=[<function accuracy at 0x7f1b9e046d90>], true_wd=True, bn_wd=True, wd=0.01, train_bn=True, path=PosixPath('.'), model_dir='models', callback_fns=[functools.partial(<class 'fastai.basic_train.Recorder'>, add_time=True, silent=False)], callbacks=[RNNTrainer\n",
              "learn: RNNLearner(data=TextClasDataBunch;\n",
              "\n",
              "Train: LabelList (926 items)\n",
              "x: TextList\n",
              "xxbos forums wwwpatientcouk http wwwpatientcouk forums discuss enlargedheart511396orderlatest # xxunk enlarged heartthread enlarged heart always dizzy get dizzy standing made get slow dizzy turn around turn head slow check blood pressure every day usually around 94 _ 113 65 _ 78 told that s normal england fantastic hospital called xxunk cancer hospital have nt heard hospital hearts monday i m going make mission find one,xxbos blog http abcnewsradioonlinecom xxunk http abcnewsradioonlinecom xxunk xxunk queen latifah xxunk american heart associations red steps campaign xxunk xxunk xxunk new york queen latifah taking matters heart literally xxunk xxunk winner joined forces american heart association red steps campaign idea people post photos taking steps wearing red socks become physically active raise awareness risks symptoms heart failure goal six million red steps recognition nearly six million americans living heart failure latifah born xxunk owens effort personal mother rita owens xxunk xxunk incurable autoimmune disease caused scar tissue build lungs xxunk former xxunk also pulmonary hypertension impacts ability breathe way us show support people dealing condition care latifah told abc radio latifah said mothers approval campaign imperative getting involved really wanted involved wanted permission latifah xxunk she s xxunk positive way puts things something family like share people realize talking medical issues lot people reaching saying rapper turned actress says campaign also helped get healthy perfect comes staying fit constantly time shared saying campaign reminds diligent does nt alone helping sometimes xxunk support right group family friends says copyright 2016 abc radio rights reserved,xxbos forums wwwcancerforumsnet http wwwcancerforumsnet xxunk xxunk 17 xxunk year almost everyday thrown blood twice matter 2 weeks parents do nt want take see doctor think doctor give pain xxunk whereas pain really do nt know eat normally also go eating whole day feel hungry weigh xxunk pounds 5 feet 2 inches tall do nt know thought could stop xxunk ca nt please help get answer good xxunk problem ca nt face parents need learn little bulimia feel free share bulimia food psychological disorder pain xxunk involved treating psychological disorders however prescriptions may suggested get certain levels back order counseling works together prescriptions xxunk illness drug therapies alter xxunk anything else assist getting back balance bulimia serious disorder result xxunk without warning case described there s high chance esophageal xxunk victim dies drowning bodily fluids often within minutes electrolyte imbalances cause heart failure famous case woman coma decade resulted heart failure due bulimia imagine ten years coma stomach acids wearing away areas esophagus should nt instances cancer increased greatly many years even bulimia stops throat mouth cancers also increased losing life cancer losing voice box part face mouth hardly worth delaying getting medical help right away bulimia also increases chances stomach intestinal cancers xxunk stomach problems tooth xxunk disease loss much there s room parents refuse take life seriously value fight ask school xxunk xxunk seek free clinic stay strong stay smart xxunk followup,xxbos forums xxunk http xxunk forums lounge xxunk # xxunk xxunk silver xxunk xxunk quote originally posted xxunk xxunk wake friend talking plasma hf start xxunk pc grounded skip beat heart start plasma read post wake said xxunk fact talking creating spike xxunk plasma xxunk fires get facts straight first,xxbos forums xxunk http xxunk xxunk # xxunk personal question there s discussion xxunk power xxunk extract makes brief aside need pee standing position lungs roughly divided three xxunk 1 ventilation perfusion top lungs blood flow pressure head right heart high enough pump blood high 2 ventilation perfusion middle part lungs 3 perfusion ventilation xxunk lungs fluid pressure higher opening pressure bronchioles alveoli gas exchange takes place dependent gravity fluid xxunk physics volume air airways does nt participate gas exchange combined volume air zone 1 called dead space amounts 1 3 normal breath assume xxunk xxunk position things change zone 1 gets lot smaller zone 3 gets bigger large individual variation secondly volume blood resides lower extremities xxunk gets pushed back system xxunk pulmonary circulation since high xxunk pressure system ends xxunk much people heart failure like sleep sitting xxunk breathe much better lung function respiratory function changed also one reasons people riding xxunk tend pee riding xxunk receptors vessels signal fluid load body turn signals kidneys make urine\n",
              "y: CategoryList\n",
              "1,0,1,0,0\n",
              "Path: .;\n",
              "\n",
              "Valid: LabelList (231 items)\n",
              "x: TextList\n",
              "xxbos forums xxunk http xxunk newsreleases xxunk atherosclerosis pipeline h2 2015 world market research report atherosclerosis pipeline h2 2015 world market research report xxunk india march 9 2016 prnewswire market research report titled atherosclerosis pipeline review h2 2015 provides overview xxunk therapeutic pipeline enhances decision making capabilities create effective counter strategies gain competitive advantage xxunk rd xxunk identifying new targets xxunk produce firstinclass bestinclass products company profiles discussed report includes ache xxunk xxunk xxunk gmbh xxunk ag xxunk pharmaceuticals inc artery therapeutics inc astrazeneca plc xxunk xxunk ab xxunk inc xxunk ag xxunk technologies xxunk gmbh xxunk pharmaceuticals inc xxunk therapeutics holding sa xxunk inc xxunk inc xxunk xxunk company limited xxunk gmbh xxunk ag xxunk inc f xxunk xxunk ltd xxunk sa xxunk sciences inc xxunk discovery inc johnson johnson xxunk inc xxunk company ltd la xxunk pharmaceutical company lead discovery center gmbh xxunk co inc xxunk technology xxunk xxunk corporation xxunk health inc xxunk xxunk co ltd xxunk pharmaceuticals inc xxunk corp medicines company xxunk xxunk ltd xxunk sa vascular xxunk ltd vericel corporation xxunk therapeutics private limited xxunk pharmaceuticals inc complete report h2 2015 pipeline review atherosclerosis 68 market data tables 15 figures spread across 258 pages available http wwwreportsnreportscom reports xxunk drugs profiles discussed report includes xxunk xxunk xxunk xxunk xxunk xxunk xxunk xxunk xxunk xxunk xxunk xxunk xxunk xxunk xxunk xxunk xxunk xxunk xxunk xxunk xxunk xxunk xxunk cell therapy atherosclerosis cellular immunotherapy atherosclerosis xxunk xxunk xxunk xxunk xxunk drug atherosclerosis drugs activate xxunk atherosclerosis drugs xxunk xxunk receptor atherosclerosis xxunk xxunk xxunk gene therapy xxunk endothelial dysfunction gene therapy activate xxunk 10 atherosclerosis gene therapy target xxunk atherosclerosis xxunk xxunk xxunk xxunk xxunk xxunk ixmyelocelt xxunk series xxunk series xxunk series xxunk xxunk xxunk xxunk xxunk + xxunk xxunk xxunk xxunk xxunk xxunk monoclonal antibody inhibit xxunk autoimmune disorders cns disorders infectious diseases liver diseases metabolic disorders cardiovascular diseases monoclonal antibody inhibit endothelial lipase atherosclerosis xxunk xxunk atherosclerosis xxunk agonize xxunk atherosclerosis lymphoma xxunk xxunk peptides inhibit xxunk rheumatoid arthritis atherosclerosis xxunk protein cardiovascular diseases xxunk recombinant protein atherosclerosis recombinant protein atherosclerosis hepatic xxunk recombinant proteins inhibit xxunk xxunk thrombosis ischemic stroke atherosclerosis xxunk gene therapy inhibit xxunk chronic heart failure atherosclerosis xxunk xxunk small molecule atherosclerosis small molecule activate xxunk related factor 2 central nervous system metabolic disorders cardiovascular xxunk small molecule agonize liver x receptor atherosclerosis small molecule inhibit xxunk xxunk cardiovascular gastrointestinal metabolic disorders small molecule target xxunk atherosclerosis small molecule target xxunk atherosclerosis small molecules atherosclerosis small molecules inflammatory diseases small molecules xxunk cardiovascular cns metabolic disorders small molecules agonize xxunk atherosclerosis obesity small molecules inhibit xxunk atherosclerosis small molecules inhibit lipase atherosclerosis xxunk xxunk stem cell therapy atherosclerosis synthetic peptide inhibit xxunk atherosclerosis synthetic peptides cardiovascular gastrointestinal metabolic disorders infectious disease synthetic peptides oncology sepsis atherosclerosis synthetic peptides activate xxunk atherosclerosis inflammation synthetic peptides activate xxunk receptor cardiovascular diseases macular degeneration vaccine atherosclerosis xxunk xxunk order copy report http wwwreportsnreportscom xxunk report provides comprehensive information therapeutic development atherosclerosis complete comparative analysis various stages therapeutics assessment drug target mechanism action xxunk route administration xxunk molecule type along latest updates featured news press releases also reviews key players involved therapeutic development atherosclerosis special features xxunk xxunk projects report provides xxunk global therapeutic landscape atherosclerosis report reviews key pipeline products drug profile section includes product description xxunk rd brief xxunk collaboration details xxunk activities also key players involved therapeutics development atherosclerosis xxunk major minor projects xxunk xxunk xxunk pipeline projects explore reports pharmaceuticals market http wwwreportsnreportscom xxunk pharmaceuticals us xxunk online market research reports library 500 000 + indepth studies 5000 xxunk markets limited one industry xxunk offers research studies xxunk energy power chemicals environment medical devices healthcare food beverages water advanced materials much connect us,xxbos forums xxunk https xxunk topic xxunk # xxunk former us first lady dies aged 94 source xxunk click show spoiler click hide los angeles afp nancy reagan devoted wife trusted xxunk late president ronald reagan became xxunk guardian legacy died sunday aged 94 former first lady suffered heart failure home los angeles buried next husband ronald reagan presidential library simi valley california spokeswoman joanne drake said late life reagan earned praise many qualities saw xxunk critics ronald reagans two white house terms xxunk fierce xxunk xxunk influence president perceived xxunk cold feared white house xxunk often found xxunk heads policy personnel appointments made mark first lady signature say drug awareness campaign launched 1982 left white house xxunk reagan xxunk descent alzheimers disease death 2004 america xxunk view former movie xxunk proud example warm tributes xxunk nancy reagans xxunk xxunk husband xxunk president barack obama wife michelle calling proud example remain grateful nancy reagans life thankful guidance xxunk beloved husband together obamas said statement former first lady barbara bush said totally devoted president reagan take comfort xxunk former california governor action movie star xxunk xxunk described one heroes served first lady unbelievable power class grace nancy reagan wife truly great president amazing woman missed said donald trump xxunk race republicans presidential candidate november president reagan viewed something xxunk xxunk xxunk xxunk modern republican party xxunk former first lady xxunk considerable political power succession presidential xxunk sought endorsement born anne frances robbins new york july 6 1921 given name nancy mother edith robbins reagans car xxunk father left family young edith xxunk country actress marrying prominent xxunk loyal davis settling family chicago inspired mother nancy worked actress stage film television met ronald reagan contract xxunk love story married 1952 reagan divorced first wife actress jane wyman beginning marriage described love story rival couple acted silver screen pair wrote passionate love letters decades two children patti born 1952 ron born 1958 made 11 films including three marriage xxunk alongside husband last role hellcats navy 1956 reagan went california politics 1960s nancy xxunk ultimate political wife xxunk serving first lady xxunk months took office us president 1981 reagan xxunk survived xxunk attempt xxunk nancy take xxunk role husbands protector strictly controlling access president sometimes set influence decisionmaking indirectly taking case people husband trusted times role took bizarre xxunk consulted xxunk guide administration policy dragon gets xxunk dragon said former reagan chief staff xxunk baker appointed nancy reagan xxunk xxunk xxunk regan 1988 interview nancy said forced exert influence husband poorly served xxunk especially xxunk xxunk xxunk xxunk public nancy reagan became best known xxunk xxunk clothes hollywood friends reported social climbing well say antidrug campaign behind closed doors actions much important nancy was nt popular operated cover usually xxunk xxunk xxunk xxunk wrote years ago washington post xxunk said xxunk instinct moderation drew xxunk everything social policy xxunk relations tried protect husband xxunk influence reagans left white house 1989 xxunk books regan especially xxunk xxunk kitty xxunk cast nancy reagan xxunk light even xxunk affair frank xxunk 1994 played key role husbands xxunk disclosure alzheimers became vocal xxunk awareness disease memory xxunk longer recognized woman loved half century nancy reagan closed xxunk around xxunk public view even old friends protect image xxunk xxunk long journey finally taken xxunk place longer reach xxunk nancy reagan said alzheimers xxunk years ago xxunk click show spoiler click hide,xxbos youtube youtubecom http youtubecom xxunk building momentum help heart failure patients description new medications introduced market xxunk doctors make jump traditional treatment options moving beyond shown benefits patients long term health tags published mon jul 11 xxunk edt 2016,xxbos forums forumsstudentdoctornet http forumsstudentdoctornet threads xxunk # xxunk doctor bob right fire i d docs please wo nt xxunk xxunk waiting next tb patient enough antibiotic police already hospitals employees poorly xxunk people twenty years ago would loved consulted even common cold young xxunk patient unfortunately live period high malpractice risks xxunk increasing medical knowledge even best xxunk ask help things experienced seen cardiologists refused severely decompensated chf patients patient xxunk xxunk related period stress comfortable managing insulin xxunk fellowship one old wise xxunk said similar situation you ll want people feel comfortable xxunk calling consult good good patients do nt xxunk do nt know something trivial wo nt call even something important doctor bob right fire i d docs please wo nt xxunk xxunk waiting next tb patient enough antibiotic police already hospitals employees poorly xxunk people twenty years ago would loved consulted even common cold young xxunk patient unfortunately live period high malpractice risks xxunk increasing medical knowledge even best xxunk ask help things experienced seen cardiologists refused severely decompensated chf patients patient xxunk xxunk related period stress comfortable managing insulin xxunk fellowship one old wise xxunk said similar situation you ll want people feel comfortable xxunk calling consult good good patients do nt xxunk do nt know something trivial wo nt call even something important,xxbos blog http xxunk http xxunk 2016 04 xxunk vitamin heals damaged hearts vitamin supplements may help people diseased hearts study suggests trial 163 heart failure patients found supplements vitamin made skin exposed sunlight improved hearts ability pump blood around body leeds teaching hospitals team presented meeting american college cardiology described results stunning british heart foundation called longer trials assess pills read\n",
              "y: CategoryList\n",
              "0,0,0,0,0\n",
              "Path: .;\n",
              "\n",
              "Test: LabelList (571 items)\n",
              "x: TextList\n",
              "xxbos blog xxunk http xxunk xxunk baby slice son late kimbo slice signed professional mma contract make debut bellator 160 august according associated press reported kevin xxunk jr oldest son kevin xxunk already experience xxunk mixed martial arts made debut march knocked xxunk 83 seconds younger xxunk 24 signed bellator contract fathers death june always around fight business everything saw understood going xxunk said knew without doubt one day wanted according xxunk occasionally xxunk mma college preferred go party friends was nt recently xxunk training go pro father fought bellator february defeated xxunk 5000 later organization discovered kimbo slice taken xxunk xxunk got win kimbo slice died june hospitalized congestive heart failure large mass also discovered liver 42 shock world put like still big tragedy got xxunk told ap regards fathers xxunk death i m still getting wo nt say i m i m working guess check mma debut video baby slice son late kimbo slice signed professional mma contract make debut bellator 160 august according associated press reported kevin xxunk jr oldest son kevin xxunk already experience xxunk mixed martial arts made debut march knocked xxunk 83 seconds younger xxunk 24 signed bellator contract fathers death june always around fight business everything saw understood going xxunk said knew without doubt one day wanted according xxunk occasionally xxunk mma college preferred go party friends was nt recently xxunk training go pro father fought bellator february defeated xxunk 5000 later organization discovered kimbo slice taken xxunk xxunk got win kimbo slice died june hospitalized congestive heart failure large mass also discovered liver 42 shock world put like still big tragedy got xxunk told ap regards fathers xxunk death i m still getting wo nt say i m i m working guess check mma debut video,xxbos forums xxunk http xxunk topic xxunk xxunk # story xxunk xxunk breast implants following xxunk double radical mastectomy 1982 suffered local systemic complications due implants diagnosed human xxunk disease mixed connective tissue disease chronic fatigue syndrome xxunk xxunk brain tumor atypical neurological disease xxunk xxunk pulmonary hypertension mild heart failure last xxunk 1994 dr scott xxunk florida started dr susan xxunk xxunk immune protocol xxunk studies shown womens health improves following xxunk implant removal fortunately seen many positive changes health remain hopeful continue holistic approach wellness personal xxunk never give accept limitations always xxunk best share xxunk honestly public xxunk years age worsening xxunk immune problems pulmonary hypertension heart failure point almost completely xxunk needing nursing care doctors given hope have nt listened doctors would dead 15 years ago first gave higher power knows time time table feel yes however ill keep fighting regret implants removed best decision ever made xxunk gave much better health years added years enjoy life i ve xxunk love friends i ve made look forward meeting others,xxbos blog http xxunk http xxunk 2016 06 xxunk us fda xxunk previously xxunk xxunk xxunk inhibitor considered increase risk severe urinary tract infections may increase risk acidosis even raised canagliflozin may cause decreased bone mineral xxunk increased risk xxunk days xxunk xxunk xxunk xxunk xxunk us fda xxunk inhibitor speak fda canagliflozin dapagliflozin say dapagliflozin farxiga xigduo xr astrazeneca canagliflozin invokana invokamet janssen hey yet entered xxunk market xxunk us fda strengthened safety warning dapagliflozin canagliflozin acute kidney injury acute kidney injury xxunk clinicians opening dapagliflozin canagliflozin assess whether patient following may xxunk xxunk risk factors xxunk blood volume decrease decreased blood volume hypovolemic chronic renal dysfunction chronic renal insufficiency heart failure congestive heart failure using diuretics xxunk xxunk nsaid prescribing dapagliflozin canagliflozin patients renal function regularly xxunk xxunk occurs dapagliflozin canagliflozin stopped immediately existing data shows 70 patients treatment renal function may gradually improved general population patients taking two items occurrence decreased urine output lower xxunk edema symptoms acute kidney injury signs dehydration severe diarrhea please contact immediately clinical staff detailed information us fda xxunk adverse national xxunk system xxunk found period xxunk xxunk 101 confirmed canagliflozin n 73 dapagliflozin n 28 xxunk cases result total 96 patients requiring hospitalization total 15 patients required xxunk treatment 22 patients entering intensive care unit treating total four people killed including two xxunk deaths analysis 101 xxunk case median age 57 years range 28 79 eighty percent patients aged 60 years 10 patients chronic kidney disease history ckd total drugs 51 patients xxunk 26 patients six patients diuretics diuretic six patients nsaid use xxunk diuretic diuretic 58 xxunk patients total 45 patients within one month start use canagliflozin receiving dapagliflozin drug treatment xxunk egfr changed among 32 patients median change xxunk + 16 mg dl change remaining 13 patients median egfr 46 ml min 173 m2 total 78 patients disabled drugs including 56 renal function gradually recovered xxunk xxunk renal function swiss go back actually pulling two druginduced xxunk whether reversible injury xxunk still currently unknown source fda drug safety communication fda xxunk kidney warnings diabetes medicines canagliflozin invokana invokamet dapagliflozin farxiga xigduo xr,xxbos forums xxunk http xxunk boards xxunk xxunk # xxunk hello suffer congestive heart failure due mi icd implant started experience weird feeling middle chest almost like i m getting ready xxunk type reaction mild xxunk think happens bp monitor xxunk low blood pressure higher heart irregular heart beat breathing little xxunk accompanied mild xxunk mild light headed echo 2 weeks ago nothing xxunk xxunk xxunk feeling example bp reading 83 51 hr 96 xxunk cardiologist xxunk meds see would help change contact cardiologist advice greatly appreciated add note heart throw clot went arm 8 months ago xxunk hello suffer congestive heart failure due mi icd implant started experience weird feeling middle chest almost like i m getting ready xxunk type reaction mild xxunk think happens bp monitor xxunk low blood pressure higher heart irregular heart beat breathing little xxunk accompanied mild xxunk mild light headed echo 2 weeks ago nothing xxunk xxunk xxunk feeling example bp reading 83 51 hr 96 xxunk cardiologist xxunk meds see would help change contact cardiologist advice greatly appreciated add note heart throw clot went arm 8 months ago xxunk,xxbos blog http wwwsciencecodexcom http wwwsciencecodexcom xxunk vitamin improves heart function study finds daily dose vitamin d3 improves heart function people chronic heart failure fiveyear university leeds research project found dr klaus witte school medicine consultant cardiologist leeds teaching hospitals nhs trust led study known xxunk read\n",
              "y: EmptyLabelList\n",
              ",,,,\n",
              "Path: ., model=SequentialRNN(\n",
              "  (0): MultiBatchEncoder(\n",
              "    (module): AWD_LSTM(\n",
              "      (encoder): Embedding(8936, 400, padding_idx=1)\n",
              "      (encoder_dp): EmbeddingDropout(\n",
              "        (emb): Embedding(8936, 400, padding_idx=1)\n",
              "      )\n",
              "      (rnns): ModuleList(\n",
              "        (0): WeightDropout(\n",
              "          (module): LSTM(400, 1152, batch_first=True)\n",
              "        )\n",
              "        (1): WeightDropout(\n",
              "          (module): LSTM(1152, 1152, batch_first=True)\n",
              "        )\n",
              "        (2): WeightDropout(\n",
              "          (module): LSTM(1152, 400, batch_first=True)\n",
              "        )\n",
              "      )\n",
              "      (input_dp): RNNDropout()\n",
              "      (hidden_dps): ModuleList(\n",
              "        (0): RNNDropout()\n",
              "        (1): RNNDropout()\n",
              "        (2): RNNDropout()\n",
              "      )\n",
              "    )\n",
              "  )\n",
              "  (1): PoolingLinearClassifier(\n",
              "    (layers): Sequential(\n",
              "      (0): BatchNorm1d(1200, eps=1e-05, momentum=0.1, affine=True, track_running_stats=True)\n",
              "      (1): Dropout(p=0.12, inplace=False)\n",
              "      (2): Linear(in_features=1200, out_features=50, bias=True)\n",
              "      (3): ReLU(inplace=True)\n",
              "      (4): BatchNorm1d(50, eps=1e-05, momentum=0.1, affine=True, track_running_stats=True)\n",
              "      (5): Dropout(p=0.1, inplace=False)\n",
              "      (6): Linear(in_features=50, out_features=2, bias=True)\n",
              "    )\n",
              "  )\n",
              "), opt_func=functools.partial(<class 'torch.optim.adam.Adam'>, betas=(0.9, 0.99)), loss_func=FlattenedLoss of CrossEntropyLoss(), metrics=[<function accuracy at 0x7f1b9e046d90>], true_wd=True, bn_wd=True, wd=0.01, train_bn=True, path=PosixPath('.'), model_dir='models', callback_fns=[functools.partial(<class 'fastai.basic_train.Recorder'>, add_time=True, silent=False)], callbacks=[...], layer_groups=[Sequential(\n",
              "  (0): Embedding(8936, 400, padding_idx=1)\n",
              "  (1): EmbeddingDropout(\n",
              "    (emb): Embedding(8936, 400, padding_idx=1)\n",
              "  )\n",
              "), Sequential(\n",
              "  (0): WeightDropout(\n",
              "    (module): LSTM(400, 1152, batch_first=True)\n",
              "  )\n",
              "  (1): RNNDropout()\n",
              "), Sequential(\n",
              "  (0): WeightDropout(\n",
              "    (module): LSTM(1152, 1152, batch_first=True)\n",
              "  )\n",
              "  (1): RNNDropout()\n",
              "), Sequential(\n",
              "  (0): WeightDropout(\n",
              "    (module): LSTM(1152, 400, batch_first=True)\n",
              "  )\n",
              "  (1): RNNDropout()\n",
              "), Sequential(\n",
              "  (0): PoolingLinearClassifier(\n",
              "    (layers): Sequential(\n",
              "      (0): BatchNorm1d(1200, eps=1e-05, momentum=0.1, affine=True, track_running_stats=True)\n",
              "      (1): Dropout(p=0.12, inplace=False)\n",
              "      (2): Linear(in_features=1200, out_features=50, bias=True)\n",
              "      (3): ReLU(inplace=True)\n",
              "      (4): BatchNorm1d(50, eps=1e-05, momentum=0.1, affine=True, track_running_stats=True)\n",
              "      (5): Dropout(p=0.1, inplace=False)\n",
              "      (6): Linear(in_features=50, out_features=2, bias=True)\n",
              "    )\n",
              "  )\n",
              ")], add_time=True, silent=False)\n",
              "alpha: 2.0\n",
              "beta: 1.0], layer_groups=[Sequential(\n",
              "  (0): Embedding(8936, 400, padding_idx=1)\n",
              "  (1): EmbeddingDropout(\n",
              "    (emb): Embedding(8936, 400, padding_idx=1)\n",
              "  )\n",
              "), Sequential(\n",
              "  (0): WeightDropout(\n",
              "    (module): LSTM(400, 1152, batch_first=True)\n",
              "  )\n",
              "  (1): RNNDropout()\n",
              "), Sequential(\n",
              "  (0): WeightDropout(\n",
              "    (module): LSTM(1152, 1152, batch_first=True)\n",
              "  )\n",
              "  (1): RNNDropout()\n",
              "), Sequential(\n",
              "  (0): WeightDropout(\n",
              "    (module): LSTM(1152, 400, batch_first=True)\n",
              "  )\n",
              "  (1): RNNDropout()\n",
              "), Sequential(\n",
              "  (0): PoolingLinearClassifier(\n",
              "    (layers): Sequential(\n",
              "      (0): BatchNorm1d(1200, eps=1e-05, momentum=0.1, affine=True, track_running_stats=True)\n",
              "      (1): Dropout(p=0.12, inplace=False)\n",
              "      (2): Linear(in_features=1200, out_features=50, bias=True)\n",
              "      (3): ReLU(inplace=True)\n",
              "      (4): BatchNorm1d(50, eps=1e-05, momentum=0.1, affine=True, track_running_stats=True)\n",
              "      (5): Dropout(p=0.1, inplace=False)\n",
              "      (6): Linear(in_features=50, out_features=2, bias=True)\n",
              "    )\n",
              "  )\n",
              ")], add_time=True, silent=False)"
            ]
          },
          "metadata": {
            "tags": []
          },
          "execution_count": 26
        }
      ]
    },
    {
      "cell_type": "code",
      "metadata": {
        "trusted": true,
        "id": "wcT_5Hu3b3tC",
        "colab_type": "code",
        "colab": {
          "base_uri": "https://localhost:8080/",
          "height": 80
        },
        "outputId": "eb70d418-94f5-4273-aba7-b2d08dacab82"
      },
      "source": [
        "learn_classifier.freeze_to(-2)\n",
        "learn_classifier.fit_one_cycle(1, slice(1e-2/(2.6**4), 1e-2), moms = (0.8, 0.7))"
      ],
      "execution_count": 27,
      "outputs": [
        {
          "output_type": "display_data",
          "data": {
            "text/html": [
              "<table border=\"1\" class=\"dataframe\">\n",
              "  <thead>\n",
              "    <tr style=\"text-align: left;\">\n",
              "      <th>epoch</th>\n",
              "      <th>train_loss</th>\n",
              "      <th>valid_loss</th>\n",
              "      <th>accuracy</th>\n",
              "      <th>time</th>\n",
              "    </tr>\n",
              "  </thead>\n",
              "  <tbody>\n",
              "    <tr>\n",
              "      <td>0</td>\n",
              "      <td>0.336086</td>\n",
              "      <td>0.229062</td>\n",
              "      <td>0.900433</td>\n",
              "      <td>00:07</td>\n",
              "    </tr>\n",
              "  </tbody>\n",
              "</table>"
            ],
            "text/plain": [
              "<IPython.core.display.HTML object>"
            ]
          },
          "metadata": {
            "tags": []
          }
        }
      ]
    },
    {
      "cell_type": "code",
      "metadata": {
        "trusted": true,
        "id": "UdegzJftb3tU",
        "colab_type": "code",
        "colab": {}
      },
      "source": [
        "learn_classifier.save('second')"
      ],
      "execution_count": 0,
      "outputs": []
    },
    {
      "cell_type": "code",
      "metadata": {
        "trusted": true,
        "id": "AS6BAsbxb3tX",
        "colab_type": "code",
        "colab": {
          "base_uri": "https://localhost:8080/",
          "height": 1000
        },
        "outputId": "6b2a1798-d91f-4ab4-eefb-1fb75fbd1218"
      },
      "source": [
        "learn_classifier.load('second')"
      ],
      "execution_count": 29,
      "outputs": [
        {
          "output_type": "execute_result",
          "data": {
            "text/plain": [
              "RNNLearner(data=TextClasDataBunch;\n",
              "\n",
              "Train: LabelList (926 items)\n",
              "x: TextList\n",
              "xxbos forums wwwpatientcouk http wwwpatientcouk forums discuss enlargedheart511396orderlatest # xxunk enlarged heartthread enlarged heart always dizzy get dizzy standing made get slow dizzy turn around turn head slow check blood pressure every day usually around 94 _ 113 65 _ 78 told that s normal england fantastic hospital called xxunk cancer hospital have nt heard hospital hearts monday i m going make mission find one,xxbos blog http abcnewsradioonlinecom xxunk http abcnewsradioonlinecom xxunk xxunk queen latifah xxunk american heart associations red steps campaign xxunk xxunk xxunk new york queen latifah taking matters heart literally xxunk xxunk winner joined forces american heart association red steps campaign idea people post photos taking steps wearing red socks become physically active raise awareness risks symptoms heart failure goal six million red steps recognition nearly six million americans living heart failure latifah born xxunk owens effort personal mother rita owens xxunk xxunk incurable autoimmune disease caused scar tissue build lungs xxunk former xxunk also pulmonary hypertension impacts ability breathe way us show support people dealing condition care latifah told abc radio latifah said mothers approval campaign imperative getting involved really wanted involved wanted permission latifah xxunk she s xxunk positive way puts things something family like share people realize talking medical issues lot people reaching saying rapper turned actress says campaign also helped get healthy perfect comes staying fit constantly time shared saying campaign reminds diligent does nt alone helping sometimes xxunk support right group family friends says copyright 2016 abc radio rights reserved,xxbos forums wwwcancerforumsnet http wwwcancerforumsnet xxunk xxunk 17 xxunk year almost everyday thrown blood twice matter 2 weeks parents do nt want take see doctor think doctor give pain xxunk whereas pain really do nt know eat normally also go eating whole day feel hungry weigh xxunk pounds 5 feet 2 inches tall do nt know thought could stop xxunk ca nt please help get answer good xxunk problem ca nt face parents need learn little bulimia feel free share bulimia food psychological disorder pain xxunk involved treating psychological disorders however prescriptions may suggested get certain levels back order counseling works together prescriptions xxunk illness drug therapies alter xxunk anything else assist getting back balance bulimia serious disorder result xxunk without warning case described there s high chance esophageal xxunk victim dies drowning bodily fluids often within minutes electrolyte imbalances cause heart failure famous case woman coma decade resulted heart failure due bulimia imagine ten years coma stomach acids wearing away areas esophagus should nt instances cancer increased greatly many years even bulimia stops throat mouth cancers also increased losing life cancer losing voice box part face mouth hardly worth delaying getting medical help right away bulimia also increases chances stomach intestinal cancers xxunk stomach problems tooth xxunk disease loss much there s room parents refuse take life seriously value fight ask school xxunk xxunk seek free clinic stay strong stay smart xxunk followup,xxbos forums xxunk http xxunk forums lounge xxunk # xxunk xxunk silver xxunk xxunk quote originally posted xxunk xxunk wake friend talking plasma hf start xxunk pc grounded skip beat heart start plasma read post wake said xxunk fact talking creating spike xxunk plasma xxunk fires get facts straight first,xxbos forums xxunk http xxunk xxunk # xxunk personal question there s discussion xxunk power xxunk extract makes brief aside need pee standing position lungs roughly divided three xxunk 1 ventilation perfusion top lungs blood flow pressure head right heart high enough pump blood high 2 ventilation perfusion middle part lungs 3 perfusion ventilation xxunk lungs fluid pressure higher opening pressure bronchioles alveoli gas exchange takes place dependent gravity fluid xxunk physics volume air airways does nt participate gas exchange combined volume air zone 1 called dead space amounts 1 3 normal breath assume xxunk xxunk position things change zone 1 gets lot smaller zone 3 gets bigger large individual variation secondly volume blood resides lower extremities xxunk gets pushed back system xxunk pulmonary circulation since high xxunk pressure system ends xxunk much people heart failure like sleep sitting xxunk breathe much better lung function respiratory function changed also one reasons people riding xxunk tend pee riding xxunk receptors vessels signal fluid load body turn signals kidneys make urine\n",
              "y: CategoryList\n",
              "1,0,1,0,0\n",
              "Path: .;\n",
              "\n",
              "Valid: LabelList (231 items)\n",
              "x: TextList\n",
              "xxbos forums xxunk http xxunk newsreleases xxunk atherosclerosis pipeline h2 2015 world market research report atherosclerosis pipeline h2 2015 world market research report xxunk india march 9 2016 prnewswire market research report titled atherosclerosis pipeline review h2 2015 provides overview xxunk therapeutic pipeline enhances decision making capabilities create effective counter strategies gain competitive advantage xxunk rd xxunk identifying new targets xxunk produce firstinclass bestinclass products company profiles discussed report includes ache xxunk xxunk xxunk gmbh xxunk ag xxunk pharmaceuticals inc artery therapeutics inc astrazeneca plc xxunk xxunk ab xxunk inc xxunk ag xxunk technologies xxunk gmbh xxunk pharmaceuticals inc xxunk therapeutics holding sa xxunk inc xxunk inc xxunk xxunk company limited xxunk gmbh xxunk ag xxunk inc f xxunk xxunk ltd xxunk sa xxunk sciences inc xxunk discovery inc johnson johnson xxunk inc xxunk company ltd la xxunk pharmaceutical company lead discovery center gmbh xxunk co inc xxunk technology xxunk xxunk corporation xxunk health inc xxunk xxunk co ltd xxunk pharmaceuticals inc xxunk corp medicines company xxunk xxunk ltd xxunk sa vascular xxunk ltd vericel corporation xxunk therapeutics private limited xxunk pharmaceuticals inc complete report h2 2015 pipeline review atherosclerosis 68 market data tables 15 figures spread across 258 pages available http wwwreportsnreportscom reports xxunk drugs profiles discussed report includes xxunk xxunk xxunk xxunk xxunk xxunk xxunk xxunk xxunk xxunk xxunk xxunk xxunk xxunk xxunk xxunk xxunk xxunk xxunk xxunk xxunk xxunk xxunk cell therapy atherosclerosis cellular immunotherapy atherosclerosis xxunk xxunk xxunk xxunk xxunk drug atherosclerosis drugs activate xxunk atherosclerosis drugs xxunk xxunk receptor atherosclerosis xxunk xxunk xxunk gene therapy xxunk endothelial dysfunction gene therapy activate xxunk 10 atherosclerosis gene therapy target xxunk atherosclerosis xxunk xxunk xxunk xxunk xxunk xxunk ixmyelocelt xxunk series xxunk series xxunk series xxunk xxunk xxunk xxunk xxunk + xxunk xxunk xxunk xxunk xxunk xxunk monoclonal antibody inhibit xxunk autoimmune disorders cns disorders infectious diseases liver diseases metabolic disorders cardiovascular diseases monoclonal antibody inhibit endothelial lipase atherosclerosis xxunk xxunk atherosclerosis xxunk agonize xxunk atherosclerosis lymphoma xxunk xxunk peptides inhibit xxunk rheumatoid arthritis atherosclerosis xxunk protein cardiovascular diseases xxunk recombinant protein atherosclerosis recombinant protein atherosclerosis hepatic xxunk recombinant proteins inhibit xxunk xxunk thrombosis ischemic stroke atherosclerosis xxunk gene therapy inhibit xxunk chronic heart failure atherosclerosis xxunk xxunk small molecule atherosclerosis small molecule activate xxunk related factor 2 central nervous system metabolic disorders cardiovascular xxunk small molecule agonize liver x receptor atherosclerosis small molecule inhibit xxunk xxunk cardiovascular gastrointestinal metabolic disorders small molecule target xxunk atherosclerosis small molecule target xxunk atherosclerosis small molecules atherosclerosis small molecules inflammatory diseases small molecules xxunk cardiovascular cns metabolic disorders small molecules agonize xxunk atherosclerosis obesity small molecules inhibit xxunk atherosclerosis small molecules inhibit lipase atherosclerosis xxunk xxunk stem cell therapy atherosclerosis synthetic peptide inhibit xxunk atherosclerosis synthetic peptides cardiovascular gastrointestinal metabolic disorders infectious disease synthetic peptides oncology sepsis atherosclerosis synthetic peptides activate xxunk atherosclerosis inflammation synthetic peptides activate xxunk receptor cardiovascular diseases macular degeneration vaccine atherosclerosis xxunk xxunk order copy report http wwwreportsnreportscom xxunk report provides comprehensive information therapeutic development atherosclerosis complete comparative analysis various stages therapeutics assessment drug target mechanism action xxunk route administration xxunk molecule type along latest updates featured news press releases also reviews key players involved therapeutic development atherosclerosis special features xxunk xxunk projects report provides xxunk global therapeutic landscape atherosclerosis report reviews key pipeline products drug profile section includes product description xxunk rd brief xxunk collaboration details xxunk activities also key players involved therapeutics development atherosclerosis xxunk major minor projects xxunk xxunk xxunk pipeline projects explore reports pharmaceuticals market http wwwreportsnreportscom xxunk pharmaceuticals us xxunk online market research reports library 500 000 + indepth studies 5000 xxunk markets limited one industry xxunk offers research studies xxunk energy power chemicals environment medical devices healthcare food beverages water advanced materials much connect us,xxbos forums xxunk https xxunk topic xxunk # xxunk former us first lady dies aged 94 source xxunk click show spoiler click hide los angeles afp nancy reagan devoted wife trusted xxunk late president ronald reagan became xxunk guardian legacy died sunday aged 94 former first lady suffered heart failure home los angeles buried next husband ronald reagan presidential library simi valley california spokeswoman joanne drake said late life reagan earned praise many qualities saw xxunk critics ronald reagans two white house terms xxunk fierce xxunk xxunk influence president perceived xxunk cold feared white house xxunk often found xxunk heads policy personnel appointments made mark first lady signature say drug awareness campaign launched 1982 left white house xxunk reagan xxunk descent alzheimers disease death 2004 america xxunk view former movie xxunk proud example warm tributes xxunk nancy reagans xxunk xxunk husband xxunk president barack obama wife michelle calling proud example remain grateful nancy reagans life thankful guidance xxunk beloved husband together obamas said statement former first lady barbara bush said totally devoted president reagan take comfort xxunk former california governor action movie star xxunk xxunk described one heroes served first lady unbelievable power class grace nancy reagan wife truly great president amazing woman missed said donald trump xxunk race republicans presidential candidate november president reagan viewed something xxunk xxunk xxunk xxunk modern republican party xxunk former first lady xxunk considerable political power succession presidential xxunk sought endorsement born anne frances robbins new york july 6 1921 given name nancy mother edith robbins reagans car xxunk father left family young edith xxunk country actress marrying prominent xxunk loyal davis settling family chicago inspired mother nancy worked actress stage film television met ronald reagan contract xxunk love story married 1952 reagan divorced first wife actress jane wyman beginning marriage described love story rival couple acted silver screen pair wrote passionate love letters decades two children patti born 1952 ron born 1958 made 11 films including three marriage xxunk alongside husband last role hellcats navy 1956 reagan went california politics 1960s nancy xxunk ultimate political wife xxunk serving first lady xxunk months took office us president 1981 reagan xxunk survived xxunk attempt xxunk nancy take xxunk role husbands protector strictly controlling access president sometimes set influence decisionmaking indirectly taking case people husband trusted times role took bizarre xxunk consulted xxunk guide administration policy dragon gets xxunk dragon said former reagan chief staff xxunk baker appointed nancy reagan xxunk xxunk xxunk regan 1988 interview nancy said forced exert influence husband poorly served xxunk especially xxunk xxunk xxunk xxunk public nancy reagan became best known xxunk xxunk clothes hollywood friends reported social climbing well say antidrug campaign behind closed doors actions much important nancy was nt popular operated cover usually xxunk xxunk xxunk xxunk wrote years ago washington post xxunk said xxunk instinct moderation drew xxunk everything social policy xxunk relations tried protect husband xxunk influence reagans left white house 1989 xxunk books regan especially xxunk xxunk kitty xxunk cast nancy reagan xxunk light even xxunk affair frank xxunk 1994 played key role husbands xxunk disclosure alzheimers became vocal xxunk awareness disease memory xxunk longer recognized woman loved half century nancy reagan closed xxunk around xxunk public view even old friends protect image xxunk xxunk long journey finally taken xxunk place longer reach xxunk nancy reagan said alzheimers xxunk years ago xxunk click show spoiler click hide,xxbos youtube youtubecom http youtubecom xxunk building momentum help heart failure patients description new medications introduced market xxunk doctors make jump traditional treatment options moving beyond shown benefits patients long term health tags published mon jul 11 xxunk edt 2016,xxbos forums forumsstudentdoctornet http forumsstudentdoctornet threads xxunk # xxunk doctor bob right fire i d docs please wo nt xxunk xxunk waiting next tb patient enough antibiotic police already hospitals employees poorly xxunk people twenty years ago would loved consulted even common cold young xxunk patient unfortunately live period high malpractice risks xxunk increasing medical knowledge even best xxunk ask help things experienced seen cardiologists refused severely decompensated chf patients patient xxunk xxunk related period stress comfortable managing insulin xxunk fellowship one old wise xxunk said similar situation you ll want people feel comfortable xxunk calling consult good good patients do nt xxunk do nt know something trivial wo nt call even something important doctor bob right fire i d docs please wo nt xxunk xxunk waiting next tb patient enough antibiotic police already hospitals employees poorly xxunk people twenty years ago would loved consulted even common cold young xxunk patient unfortunately live period high malpractice risks xxunk increasing medical knowledge even best xxunk ask help things experienced seen cardiologists refused severely decompensated chf patients patient xxunk xxunk related period stress comfortable managing insulin xxunk fellowship one old wise xxunk said similar situation you ll want people feel comfortable xxunk calling consult good good patients do nt xxunk do nt know something trivial wo nt call even something important,xxbos blog http xxunk http xxunk 2016 04 xxunk vitamin heals damaged hearts vitamin supplements may help people diseased hearts study suggests trial 163 heart failure patients found supplements vitamin made skin exposed sunlight improved hearts ability pump blood around body leeds teaching hospitals team presented meeting american college cardiology described results stunning british heart foundation called longer trials assess pills read\n",
              "y: CategoryList\n",
              "0,0,0,0,0\n",
              "Path: .;\n",
              "\n",
              "Test: LabelList (571 items)\n",
              "x: TextList\n",
              "xxbos blog xxunk http xxunk xxunk baby slice son late kimbo slice signed professional mma contract make debut bellator 160 august according associated press reported kevin xxunk jr oldest son kevin xxunk already experience xxunk mixed martial arts made debut march knocked xxunk 83 seconds younger xxunk 24 signed bellator contract fathers death june always around fight business everything saw understood going xxunk said knew without doubt one day wanted according xxunk occasionally xxunk mma college preferred go party friends was nt recently xxunk training go pro father fought bellator february defeated xxunk 5000 later organization discovered kimbo slice taken xxunk xxunk got win kimbo slice died june hospitalized congestive heart failure large mass also discovered liver 42 shock world put like still big tragedy got xxunk told ap regards fathers xxunk death i m still getting wo nt say i m i m working guess check mma debut video baby slice son late kimbo slice signed professional mma contract make debut bellator 160 august according associated press reported kevin xxunk jr oldest son kevin xxunk already experience xxunk mixed martial arts made debut march knocked xxunk 83 seconds younger xxunk 24 signed bellator contract fathers death june always around fight business everything saw understood going xxunk said knew without doubt one day wanted according xxunk occasionally xxunk mma college preferred go party friends was nt recently xxunk training go pro father fought bellator february defeated xxunk 5000 later organization discovered kimbo slice taken xxunk xxunk got win kimbo slice died june hospitalized congestive heart failure large mass also discovered liver 42 shock world put like still big tragedy got xxunk told ap regards fathers xxunk death i m still getting wo nt say i m i m working guess check mma debut video,xxbos forums xxunk http xxunk topic xxunk xxunk # story xxunk xxunk breast implants following xxunk double radical mastectomy 1982 suffered local systemic complications due implants diagnosed human xxunk disease mixed connective tissue disease chronic fatigue syndrome xxunk xxunk brain tumor atypical neurological disease xxunk xxunk pulmonary hypertension mild heart failure last xxunk 1994 dr scott xxunk florida started dr susan xxunk xxunk immune protocol xxunk studies shown womens health improves following xxunk implant removal fortunately seen many positive changes health remain hopeful continue holistic approach wellness personal xxunk never give accept limitations always xxunk best share xxunk honestly public xxunk years age worsening xxunk immune problems pulmonary hypertension heart failure point almost completely xxunk needing nursing care doctors given hope have nt listened doctors would dead 15 years ago first gave higher power knows time time table feel yes however ill keep fighting regret implants removed best decision ever made xxunk gave much better health years added years enjoy life i ve xxunk love friends i ve made look forward meeting others,xxbos blog http xxunk http xxunk 2016 06 xxunk us fda xxunk previously xxunk xxunk xxunk inhibitor considered increase risk severe urinary tract infections may increase risk acidosis even raised canagliflozin may cause decreased bone mineral xxunk increased risk xxunk days xxunk xxunk xxunk xxunk xxunk us fda xxunk inhibitor speak fda canagliflozin dapagliflozin say dapagliflozin farxiga xigduo xr astrazeneca canagliflozin invokana invokamet janssen hey yet entered xxunk market xxunk us fda strengthened safety warning dapagliflozin canagliflozin acute kidney injury acute kidney injury xxunk clinicians opening dapagliflozin canagliflozin assess whether patient following may xxunk xxunk risk factors xxunk blood volume decrease decreased blood volume hypovolemic chronic renal dysfunction chronic renal insufficiency heart failure congestive heart failure using diuretics xxunk xxunk nsaid prescribing dapagliflozin canagliflozin patients renal function regularly xxunk xxunk occurs dapagliflozin canagliflozin stopped immediately existing data shows 70 patients treatment renal function may gradually improved general population patients taking two items occurrence decreased urine output lower xxunk edema symptoms acute kidney injury signs dehydration severe diarrhea please contact immediately clinical staff detailed information us fda xxunk adverse national xxunk system xxunk found period xxunk xxunk 101 confirmed canagliflozin n 73 dapagliflozin n 28 xxunk cases result total 96 patients requiring hospitalization total 15 patients required xxunk treatment 22 patients entering intensive care unit treating total four people killed including two xxunk deaths analysis 101 xxunk case median age 57 years range 28 79 eighty percent patients aged 60 years 10 patients chronic kidney disease history ckd total drugs 51 patients xxunk 26 patients six patients diuretics diuretic six patients nsaid use xxunk diuretic diuretic 58 xxunk patients total 45 patients within one month start use canagliflozin receiving dapagliflozin drug treatment xxunk egfr changed among 32 patients median change xxunk + 16 mg dl change remaining 13 patients median egfr 46 ml min 173 m2 total 78 patients disabled drugs including 56 renal function gradually recovered xxunk xxunk renal function swiss go back actually pulling two druginduced xxunk whether reversible injury xxunk still currently unknown source fda drug safety communication fda xxunk kidney warnings diabetes medicines canagliflozin invokana invokamet dapagliflozin farxiga xigduo xr,xxbos forums xxunk http xxunk boards xxunk xxunk # xxunk hello suffer congestive heart failure due mi icd implant started experience weird feeling middle chest almost like i m getting ready xxunk type reaction mild xxunk think happens bp monitor xxunk low blood pressure higher heart irregular heart beat breathing little xxunk accompanied mild xxunk mild light headed echo 2 weeks ago nothing xxunk xxunk xxunk feeling example bp reading 83 51 hr 96 xxunk cardiologist xxunk meds see would help change contact cardiologist advice greatly appreciated add note heart throw clot went arm 8 months ago xxunk hello suffer congestive heart failure due mi icd implant started experience weird feeling middle chest almost like i m getting ready xxunk type reaction mild xxunk think happens bp monitor xxunk low blood pressure higher heart irregular heart beat breathing little xxunk accompanied mild xxunk mild light headed echo 2 weeks ago nothing xxunk xxunk xxunk feeling example bp reading 83 51 hr 96 xxunk cardiologist xxunk meds see would help change contact cardiologist advice greatly appreciated add note heart throw clot went arm 8 months ago xxunk,xxbos blog http wwwsciencecodexcom http wwwsciencecodexcom xxunk vitamin improves heart function study finds daily dose vitamin d3 improves heart function people chronic heart failure fiveyear university leeds research project found dr klaus witte school medicine consultant cardiologist leeds teaching hospitals nhs trust led study known xxunk read\n",
              "y: EmptyLabelList\n",
              ",,,,\n",
              "Path: ., model=SequentialRNN(\n",
              "  (0): MultiBatchEncoder(\n",
              "    (module): AWD_LSTM(\n",
              "      (encoder): Embedding(8936, 400, padding_idx=1)\n",
              "      (encoder_dp): EmbeddingDropout(\n",
              "        (emb): Embedding(8936, 400, padding_idx=1)\n",
              "      )\n",
              "      (rnns): ModuleList(\n",
              "        (0): WeightDropout(\n",
              "          (module): LSTM(400, 1152, batch_first=True)\n",
              "        )\n",
              "        (1): WeightDropout(\n",
              "          (module): LSTM(1152, 1152, batch_first=True)\n",
              "        )\n",
              "        (2): WeightDropout(\n",
              "          (module): LSTM(1152, 400, batch_first=True)\n",
              "        )\n",
              "      )\n",
              "      (input_dp): RNNDropout()\n",
              "      (hidden_dps): ModuleList(\n",
              "        (0): RNNDropout()\n",
              "        (1): RNNDropout()\n",
              "        (2): RNNDropout()\n",
              "      )\n",
              "    )\n",
              "  )\n",
              "  (1): PoolingLinearClassifier(\n",
              "    (layers): Sequential(\n",
              "      (0): BatchNorm1d(1200, eps=1e-05, momentum=0.1, affine=True, track_running_stats=True)\n",
              "      (1): Dropout(p=0.12, inplace=False)\n",
              "      (2): Linear(in_features=1200, out_features=50, bias=True)\n",
              "      (3): ReLU(inplace=True)\n",
              "      (4): BatchNorm1d(50, eps=1e-05, momentum=0.1, affine=True, track_running_stats=True)\n",
              "      (5): Dropout(p=0.1, inplace=False)\n",
              "      (6): Linear(in_features=50, out_features=2, bias=True)\n",
              "    )\n",
              "  )\n",
              "), opt_func=functools.partial(<class 'torch.optim.adam.Adam'>, betas=(0.9, 0.99)), loss_func=FlattenedLoss of CrossEntropyLoss(), metrics=[<function accuracy at 0x7f1b9e046d90>], true_wd=True, bn_wd=True, wd=0.01, train_bn=True, path=PosixPath('.'), model_dir='models', callback_fns=[functools.partial(<class 'fastai.basic_train.Recorder'>, add_time=True, silent=False)], callbacks=[RNNTrainer\n",
              "learn: RNNLearner(data=TextClasDataBunch;\n",
              "\n",
              "Train: LabelList (926 items)\n",
              "x: TextList\n",
              "xxbos forums wwwpatientcouk http wwwpatientcouk forums discuss enlargedheart511396orderlatest # xxunk enlarged heartthread enlarged heart always dizzy get dizzy standing made get slow dizzy turn around turn head slow check blood pressure every day usually around 94 _ 113 65 _ 78 told that s normal england fantastic hospital called xxunk cancer hospital have nt heard hospital hearts monday i m going make mission find one,xxbos blog http abcnewsradioonlinecom xxunk http abcnewsradioonlinecom xxunk xxunk queen latifah xxunk american heart associations red steps campaign xxunk xxunk xxunk new york queen latifah taking matters heart literally xxunk xxunk winner joined forces american heart association red steps campaign idea people post photos taking steps wearing red socks become physically active raise awareness risks symptoms heart failure goal six million red steps recognition nearly six million americans living heart failure latifah born xxunk owens effort personal mother rita owens xxunk xxunk incurable autoimmune disease caused scar tissue build lungs xxunk former xxunk also pulmonary hypertension impacts ability breathe way us show support people dealing condition care latifah told abc radio latifah said mothers approval campaign imperative getting involved really wanted involved wanted permission latifah xxunk she s xxunk positive way puts things something family like share people realize talking medical issues lot people reaching saying rapper turned actress says campaign also helped get healthy perfect comes staying fit constantly time shared saying campaign reminds diligent does nt alone helping sometimes xxunk support right group family friends says copyright 2016 abc radio rights reserved,xxbos forums wwwcancerforumsnet http wwwcancerforumsnet xxunk xxunk 17 xxunk year almost everyday thrown blood twice matter 2 weeks parents do nt want take see doctor think doctor give pain xxunk whereas pain really do nt know eat normally also go eating whole day feel hungry weigh xxunk pounds 5 feet 2 inches tall do nt know thought could stop xxunk ca nt please help get answer good xxunk problem ca nt face parents need learn little bulimia feel free share bulimia food psychological disorder pain xxunk involved treating psychological disorders however prescriptions may suggested get certain levels back order counseling works together prescriptions xxunk illness drug therapies alter xxunk anything else assist getting back balance bulimia serious disorder result xxunk without warning case described there s high chance esophageal xxunk victim dies drowning bodily fluids often within minutes electrolyte imbalances cause heart failure famous case woman coma decade resulted heart failure due bulimia imagine ten years coma stomach acids wearing away areas esophagus should nt instances cancer increased greatly many years even bulimia stops throat mouth cancers also increased losing life cancer losing voice box part face mouth hardly worth delaying getting medical help right away bulimia also increases chances stomach intestinal cancers xxunk stomach problems tooth xxunk disease loss much there s room parents refuse take life seriously value fight ask school xxunk xxunk seek free clinic stay strong stay smart xxunk followup,xxbos forums xxunk http xxunk forums lounge xxunk # xxunk xxunk silver xxunk xxunk quote originally posted xxunk xxunk wake friend talking plasma hf start xxunk pc grounded skip beat heart start plasma read post wake said xxunk fact talking creating spike xxunk plasma xxunk fires get facts straight first,xxbos forums xxunk http xxunk xxunk # xxunk personal question there s discussion xxunk power xxunk extract makes brief aside need pee standing position lungs roughly divided three xxunk 1 ventilation perfusion top lungs blood flow pressure head right heart high enough pump blood high 2 ventilation perfusion middle part lungs 3 perfusion ventilation xxunk lungs fluid pressure higher opening pressure bronchioles alveoli gas exchange takes place dependent gravity fluid xxunk physics volume air airways does nt participate gas exchange combined volume air zone 1 called dead space amounts 1 3 normal breath assume xxunk xxunk position things change zone 1 gets lot smaller zone 3 gets bigger large individual variation secondly volume blood resides lower extremities xxunk gets pushed back system xxunk pulmonary circulation since high xxunk pressure system ends xxunk much people heart failure like sleep sitting xxunk breathe much better lung function respiratory function changed also one reasons people riding xxunk tend pee riding xxunk receptors vessels signal fluid load body turn signals kidneys make urine\n",
              "y: CategoryList\n",
              "1,0,1,0,0\n",
              "Path: .;\n",
              "\n",
              "Valid: LabelList (231 items)\n",
              "x: TextList\n",
              "xxbos forums xxunk http xxunk newsreleases xxunk atherosclerosis pipeline h2 2015 world market research report atherosclerosis pipeline h2 2015 world market research report xxunk india march 9 2016 prnewswire market research report titled atherosclerosis pipeline review h2 2015 provides overview xxunk therapeutic pipeline enhances decision making capabilities create effective counter strategies gain competitive advantage xxunk rd xxunk identifying new targets xxunk produce firstinclass bestinclass products company profiles discussed report includes ache xxunk xxunk xxunk gmbh xxunk ag xxunk pharmaceuticals inc artery therapeutics inc astrazeneca plc xxunk xxunk ab xxunk inc xxunk ag xxunk technologies xxunk gmbh xxunk pharmaceuticals inc xxunk therapeutics holding sa xxunk inc xxunk inc xxunk xxunk company limited xxunk gmbh xxunk ag xxunk inc f xxunk xxunk ltd xxunk sa xxunk sciences inc xxunk discovery inc johnson johnson xxunk inc xxunk company ltd la xxunk pharmaceutical company lead discovery center gmbh xxunk co inc xxunk technology xxunk xxunk corporation xxunk health inc xxunk xxunk co ltd xxunk pharmaceuticals inc xxunk corp medicines company xxunk xxunk ltd xxunk sa vascular xxunk ltd vericel corporation xxunk therapeutics private limited xxunk pharmaceuticals inc complete report h2 2015 pipeline review atherosclerosis 68 market data tables 15 figures spread across 258 pages available http wwwreportsnreportscom reports xxunk drugs profiles discussed report includes xxunk xxunk xxunk xxunk xxunk xxunk xxunk xxunk xxunk xxunk xxunk xxunk xxunk xxunk xxunk xxunk xxunk xxunk xxunk xxunk xxunk xxunk xxunk cell therapy atherosclerosis cellular immunotherapy atherosclerosis xxunk xxunk xxunk xxunk xxunk drug atherosclerosis drugs activate xxunk atherosclerosis drugs xxunk xxunk receptor atherosclerosis xxunk xxunk xxunk gene therapy xxunk endothelial dysfunction gene therapy activate xxunk 10 atherosclerosis gene therapy target xxunk atherosclerosis xxunk xxunk xxunk xxunk xxunk xxunk ixmyelocelt xxunk series xxunk series xxunk series xxunk xxunk xxunk xxunk xxunk + xxunk xxunk xxunk xxunk xxunk xxunk monoclonal antibody inhibit xxunk autoimmune disorders cns disorders infectious diseases liver diseases metabolic disorders cardiovascular diseases monoclonal antibody inhibit endothelial lipase atherosclerosis xxunk xxunk atherosclerosis xxunk agonize xxunk atherosclerosis lymphoma xxunk xxunk peptides inhibit xxunk rheumatoid arthritis atherosclerosis xxunk protein cardiovascular diseases xxunk recombinant protein atherosclerosis recombinant protein atherosclerosis hepatic xxunk recombinant proteins inhibit xxunk xxunk thrombosis ischemic stroke atherosclerosis xxunk gene therapy inhibit xxunk chronic heart failure atherosclerosis xxunk xxunk small molecule atherosclerosis small molecule activate xxunk related factor 2 central nervous system metabolic disorders cardiovascular xxunk small molecule agonize liver x receptor atherosclerosis small molecule inhibit xxunk xxunk cardiovascular gastrointestinal metabolic disorders small molecule target xxunk atherosclerosis small molecule target xxunk atherosclerosis small molecules atherosclerosis small molecules inflammatory diseases small molecules xxunk cardiovascular cns metabolic disorders small molecules agonize xxunk atherosclerosis obesity small molecules inhibit xxunk atherosclerosis small molecules inhibit lipase atherosclerosis xxunk xxunk stem cell therapy atherosclerosis synthetic peptide inhibit xxunk atherosclerosis synthetic peptides cardiovascular gastrointestinal metabolic disorders infectious disease synthetic peptides oncology sepsis atherosclerosis synthetic peptides activate xxunk atherosclerosis inflammation synthetic peptides activate xxunk receptor cardiovascular diseases macular degeneration vaccine atherosclerosis xxunk xxunk order copy report http wwwreportsnreportscom xxunk report provides comprehensive information therapeutic development atherosclerosis complete comparative analysis various stages therapeutics assessment drug target mechanism action xxunk route administration xxunk molecule type along latest updates featured news press releases also reviews key players involved therapeutic development atherosclerosis special features xxunk xxunk projects report provides xxunk global therapeutic landscape atherosclerosis report reviews key pipeline products drug profile section includes product description xxunk rd brief xxunk collaboration details xxunk activities also key players involved therapeutics development atherosclerosis xxunk major minor projects xxunk xxunk xxunk pipeline projects explore reports pharmaceuticals market http wwwreportsnreportscom xxunk pharmaceuticals us xxunk online market research reports library 500 000 + indepth studies 5000 xxunk markets limited one industry xxunk offers research studies xxunk energy power chemicals environment medical devices healthcare food beverages water advanced materials much connect us,xxbos forums xxunk https xxunk topic xxunk # xxunk former us first lady dies aged 94 source xxunk click show spoiler click hide los angeles afp nancy reagan devoted wife trusted xxunk late president ronald reagan became xxunk guardian legacy died sunday aged 94 former first lady suffered heart failure home los angeles buried next husband ronald reagan presidential library simi valley california spokeswoman joanne drake said late life reagan earned praise many qualities saw xxunk critics ronald reagans two white house terms xxunk fierce xxunk xxunk influence president perceived xxunk cold feared white house xxunk often found xxunk heads policy personnel appointments made mark first lady signature say drug awareness campaign launched 1982 left white house xxunk reagan xxunk descent alzheimers disease death 2004 america xxunk view former movie xxunk proud example warm tributes xxunk nancy reagans xxunk xxunk husband xxunk president barack obama wife michelle calling proud example remain grateful nancy reagans life thankful guidance xxunk beloved husband together obamas said statement former first lady barbara bush said totally devoted president reagan take comfort xxunk former california governor action movie star xxunk xxunk described one heroes served first lady unbelievable power class grace nancy reagan wife truly great president amazing woman missed said donald trump xxunk race republicans presidential candidate november president reagan viewed something xxunk xxunk xxunk xxunk modern republican party xxunk former first lady xxunk considerable political power succession presidential xxunk sought endorsement born anne frances robbins new york july 6 1921 given name nancy mother edith robbins reagans car xxunk father left family young edith xxunk country actress marrying prominent xxunk loyal davis settling family chicago inspired mother nancy worked actress stage film television met ronald reagan contract xxunk love story married 1952 reagan divorced first wife actress jane wyman beginning marriage described love story rival couple acted silver screen pair wrote passionate love letters decades two children patti born 1952 ron born 1958 made 11 films including three marriage xxunk alongside husband last role hellcats navy 1956 reagan went california politics 1960s nancy xxunk ultimate political wife xxunk serving first lady xxunk months took office us president 1981 reagan xxunk survived xxunk attempt xxunk nancy take xxunk role husbands protector strictly controlling access president sometimes set influence decisionmaking indirectly taking case people husband trusted times role took bizarre xxunk consulted xxunk guide administration policy dragon gets xxunk dragon said former reagan chief staff xxunk baker appointed nancy reagan xxunk xxunk xxunk regan 1988 interview nancy said forced exert influence husband poorly served xxunk especially xxunk xxunk xxunk xxunk public nancy reagan became best known xxunk xxunk clothes hollywood friends reported social climbing well say antidrug campaign behind closed doors actions much important nancy was nt popular operated cover usually xxunk xxunk xxunk xxunk wrote years ago washington post xxunk said xxunk instinct moderation drew xxunk everything social policy xxunk relations tried protect husband xxunk influence reagans left white house 1989 xxunk books regan especially xxunk xxunk kitty xxunk cast nancy reagan xxunk light even xxunk affair frank xxunk 1994 played key role husbands xxunk disclosure alzheimers became vocal xxunk awareness disease memory xxunk longer recognized woman loved half century nancy reagan closed xxunk around xxunk public view even old friends protect image xxunk xxunk long journey finally taken xxunk place longer reach xxunk nancy reagan said alzheimers xxunk years ago xxunk click show spoiler click hide,xxbos youtube youtubecom http youtubecom xxunk building momentum help heart failure patients description new medications introduced market xxunk doctors make jump traditional treatment options moving beyond shown benefits patients long term health tags published mon jul 11 xxunk edt 2016,xxbos forums forumsstudentdoctornet http forumsstudentdoctornet threads xxunk # xxunk doctor bob right fire i d docs please wo nt xxunk xxunk waiting next tb patient enough antibiotic police already hospitals employees poorly xxunk people twenty years ago would loved consulted even common cold young xxunk patient unfortunately live period high malpractice risks xxunk increasing medical knowledge even best xxunk ask help things experienced seen cardiologists refused severely decompensated chf patients patient xxunk xxunk related period stress comfortable managing insulin xxunk fellowship one old wise xxunk said similar situation you ll want people feel comfortable xxunk calling consult good good patients do nt xxunk do nt know something trivial wo nt call even something important doctor bob right fire i d docs please wo nt xxunk xxunk waiting next tb patient enough antibiotic police already hospitals employees poorly xxunk people twenty years ago would loved consulted even common cold young xxunk patient unfortunately live period high malpractice risks xxunk increasing medical knowledge even best xxunk ask help things experienced seen cardiologists refused severely decompensated chf patients patient xxunk xxunk related period stress comfortable managing insulin xxunk fellowship one old wise xxunk said similar situation you ll want people feel comfortable xxunk calling consult good good patients do nt xxunk do nt know something trivial wo nt call even something important,xxbos blog http xxunk http xxunk 2016 04 xxunk vitamin heals damaged hearts vitamin supplements may help people diseased hearts study suggests trial 163 heart failure patients found supplements vitamin made skin exposed sunlight improved hearts ability pump blood around body leeds teaching hospitals team presented meeting american college cardiology described results stunning british heart foundation called longer trials assess pills read\n",
              "y: CategoryList\n",
              "0,0,0,0,0\n",
              "Path: .;\n",
              "\n",
              "Test: LabelList (571 items)\n",
              "x: TextList\n",
              "xxbos blog xxunk http xxunk xxunk baby slice son late kimbo slice signed professional mma contract make debut bellator 160 august according associated press reported kevin xxunk jr oldest son kevin xxunk already experience xxunk mixed martial arts made debut march knocked xxunk 83 seconds younger xxunk 24 signed bellator contract fathers death june always around fight business everything saw understood going xxunk said knew without doubt one day wanted according xxunk occasionally xxunk mma college preferred go party friends was nt recently xxunk training go pro father fought bellator february defeated xxunk 5000 later organization discovered kimbo slice taken xxunk xxunk got win kimbo slice died june hospitalized congestive heart failure large mass also discovered liver 42 shock world put like still big tragedy got xxunk told ap regards fathers xxunk death i m still getting wo nt say i m i m working guess check mma debut video baby slice son late kimbo slice signed professional mma contract make debut bellator 160 august according associated press reported kevin xxunk jr oldest son kevin xxunk already experience xxunk mixed martial arts made debut march knocked xxunk 83 seconds younger xxunk 24 signed bellator contract fathers death june always around fight business everything saw understood going xxunk said knew without doubt one day wanted according xxunk occasionally xxunk mma college preferred go party friends was nt recently xxunk training go pro father fought bellator february defeated xxunk 5000 later organization discovered kimbo slice taken xxunk xxunk got win kimbo slice died june hospitalized congestive heart failure large mass also discovered liver 42 shock world put like still big tragedy got xxunk told ap regards fathers xxunk death i m still getting wo nt say i m i m working guess check mma debut video,xxbos forums xxunk http xxunk topic xxunk xxunk # story xxunk xxunk breast implants following xxunk double radical mastectomy 1982 suffered local systemic complications due implants diagnosed human xxunk disease mixed connective tissue disease chronic fatigue syndrome xxunk xxunk brain tumor atypical neurological disease xxunk xxunk pulmonary hypertension mild heart failure last xxunk 1994 dr scott xxunk florida started dr susan xxunk xxunk immune protocol xxunk studies shown womens health improves following xxunk implant removal fortunately seen many positive changes health remain hopeful continue holistic approach wellness personal xxunk never give accept limitations always xxunk best share xxunk honestly public xxunk years age worsening xxunk immune problems pulmonary hypertension heart failure point almost completely xxunk needing nursing care doctors given hope have nt listened doctors would dead 15 years ago first gave higher power knows time time table feel yes however ill keep fighting regret implants removed best decision ever made xxunk gave much better health years added years enjoy life i ve xxunk love friends i ve made look forward meeting others,xxbos blog http xxunk http xxunk 2016 06 xxunk us fda xxunk previously xxunk xxunk xxunk inhibitor considered increase risk severe urinary tract infections may increase risk acidosis even raised canagliflozin may cause decreased bone mineral xxunk increased risk xxunk days xxunk xxunk xxunk xxunk xxunk us fda xxunk inhibitor speak fda canagliflozin dapagliflozin say dapagliflozin farxiga xigduo xr astrazeneca canagliflozin invokana invokamet janssen hey yet entered xxunk market xxunk us fda strengthened safety warning dapagliflozin canagliflozin acute kidney injury acute kidney injury xxunk clinicians opening dapagliflozin canagliflozin assess whether patient following may xxunk xxunk risk factors xxunk blood volume decrease decreased blood volume hypovolemic chronic renal dysfunction chronic renal insufficiency heart failure congestive heart failure using diuretics xxunk xxunk nsaid prescribing dapagliflozin canagliflozin patients renal function regularly xxunk xxunk occurs dapagliflozin canagliflozin stopped immediately existing data shows 70 patients treatment renal function may gradually improved general population patients taking two items occurrence decreased urine output lower xxunk edema symptoms acute kidney injury signs dehydration severe diarrhea please contact immediately clinical staff detailed information us fda xxunk adverse national xxunk system xxunk found period xxunk xxunk 101 confirmed canagliflozin n 73 dapagliflozin n 28 xxunk cases result total 96 patients requiring hospitalization total 15 patients required xxunk treatment 22 patients entering intensive care unit treating total four people killed including two xxunk deaths analysis 101 xxunk case median age 57 years range 28 79 eighty percent patients aged 60 years 10 patients chronic kidney disease history ckd total drugs 51 patients xxunk 26 patients six patients diuretics diuretic six patients nsaid use xxunk diuretic diuretic 58 xxunk patients total 45 patients within one month start use canagliflozin receiving dapagliflozin drug treatment xxunk egfr changed among 32 patients median change xxunk + 16 mg dl change remaining 13 patients median egfr 46 ml min 173 m2 total 78 patients disabled drugs including 56 renal function gradually recovered xxunk xxunk renal function swiss go back actually pulling two druginduced xxunk whether reversible injury xxunk still currently unknown source fda drug safety communication fda xxunk kidney warnings diabetes medicines canagliflozin invokana invokamet dapagliflozin farxiga xigduo xr,xxbos forums xxunk http xxunk boards xxunk xxunk # xxunk hello suffer congestive heart failure due mi icd implant started experience weird feeling middle chest almost like i m getting ready xxunk type reaction mild xxunk think happens bp monitor xxunk low blood pressure higher heart irregular heart beat breathing little xxunk accompanied mild xxunk mild light headed echo 2 weeks ago nothing xxunk xxunk xxunk feeling example bp reading 83 51 hr 96 xxunk cardiologist xxunk meds see would help change contact cardiologist advice greatly appreciated add note heart throw clot went arm 8 months ago xxunk hello suffer congestive heart failure due mi icd implant started experience weird feeling middle chest almost like i m getting ready xxunk type reaction mild xxunk think happens bp monitor xxunk low blood pressure higher heart irregular heart beat breathing little xxunk accompanied mild xxunk mild light headed echo 2 weeks ago nothing xxunk xxunk xxunk feeling example bp reading 83 51 hr 96 xxunk cardiologist xxunk meds see would help change contact cardiologist advice greatly appreciated add note heart throw clot went arm 8 months ago xxunk,xxbos blog http wwwsciencecodexcom http wwwsciencecodexcom xxunk vitamin improves heart function study finds daily dose vitamin d3 improves heart function people chronic heart failure fiveyear university leeds research project found dr klaus witte school medicine consultant cardiologist leeds teaching hospitals nhs trust led study known xxunk read\n",
              "y: EmptyLabelList\n",
              ",,,,\n",
              "Path: ., model=SequentialRNN(\n",
              "  (0): MultiBatchEncoder(\n",
              "    (module): AWD_LSTM(\n",
              "      (encoder): Embedding(8936, 400, padding_idx=1)\n",
              "      (encoder_dp): EmbeddingDropout(\n",
              "        (emb): Embedding(8936, 400, padding_idx=1)\n",
              "      )\n",
              "      (rnns): ModuleList(\n",
              "        (0): WeightDropout(\n",
              "          (module): LSTM(400, 1152, batch_first=True)\n",
              "        )\n",
              "        (1): WeightDropout(\n",
              "          (module): LSTM(1152, 1152, batch_first=True)\n",
              "        )\n",
              "        (2): WeightDropout(\n",
              "          (module): LSTM(1152, 400, batch_first=True)\n",
              "        )\n",
              "      )\n",
              "      (input_dp): RNNDropout()\n",
              "      (hidden_dps): ModuleList(\n",
              "        (0): RNNDropout()\n",
              "        (1): RNNDropout()\n",
              "        (2): RNNDropout()\n",
              "      )\n",
              "    )\n",
              "  )\n",
              "  (1): PoolingLinearClassifier(\n",
              "    (layers): Sequential(\n",
              "      (0): BatchNorm1d(1200, eps=1e-05, momentum=0.1, affine=True, track_running_stats=True)\n",
              "      (1): Dropout(p=0.12, inplace=False)\n",
              "      (2): Linear(in_features=1200, out_features=50, bias=True)\n",
              "      (3): ReLU(inplace=True)\n",
              "      (4): BatchNorm1d(50, eps=1e-05, momentum=0.1, affine=True, track_running_stats=True)\n",
              "      (5): Dropout(p=0.1, inplace=False)\n",
              "      (6): Linear(in_features=50, out_features=2, bias=True)\n",
              "    )\n",
              "  )\n",
              "), opt_func=functools.partial(<class 'torch.optim.adam.Adam'>, betas=(0.9, 0.99)), loss_func=FlattenedLoss of CrossEntropyLoss(), metrics=[<function accuracy at 0x7f1b9e046d90>], true_wd=True, bn_wd=True, wd=0.01, train_bn=True, path=PosixPath('.'), model_dir='models', callback_fns=[functools.partial(<class 'fastai.basic_train.Recorder'>, add_time=True, silent=False)], callbacks=[...], layer_groups=[Sequential(\n",
              "  (0): Embedding(8936, 400, padding_idx=1)\n",
              "  (1): EmbeddingDropout(\n",
              "    (emb): Embedding(8936, 400, padding_idx=1)\n",
              "  )\n",
              "), Sequential(\n",
              "  (0): WeightDropout(\n",
              "    (module): LSTM(400, 1152, batch_first=True)\n",
              "  )\n",
              "  (1): RNNDropout()\n",
              "), Sequential(\n",
              "  (0): WeightDropout(\n",
              "    (module): LSTM(1152, 1152, batch_first=True)\n",
              "  )\n",
              "  (1): RNNDropout()\n",
              "), Sequential(\n",
              "  (0): WeightDropout(\n",
              "    (module): LSTM(1152, 400, batch_first=True)\n",
              "  )\n",
              "  (1): RNNDropout()\n",
              "), Sequential(\n",
              "  (0): PoolingLinearClassifier(\n",
              "    (layers): Sequential(\n",
              "      (0): BatchNorm1d(1200, eps=1e-05, momentum=0.1, affine=True, track_running_stats=True)\n",
              "      (1): Dropout(p=0.12, inplace=False)\n",
              "      (2): Linear(in_features=1200, out_features=50, bias=True)\n",
              "      (3): ReLU(inplace=True)\n",
              "      (4): BatchNorm1d(50, eps=1e-05, momentum=0.1, affine=True, track_running_stats=True)\n",
              "      (5): Dropout(p=0.1, inplace=False)\n",
              "      (6): Linear(in_features=50, out_features=2, bias=True)\n",
              "    )\n",
              "  )\n",
              ")], add_time=True, silent=False)\n",
              "alpha: 2.0\n",
              "beta: 1.0], layer_groups=[Sequential(\n",
              "  (0): Embedding(8936, 400, padding_idx=1)\n",
              "  (1): EmbeddingDropout(\n",
              "    (emb): Embedding(8936, 400, padding_idx=1)\n",
              "  )\n",
              "), Sequential(\n",
              "  (0): WeightDropout(\n",
              "    (module): LSTM(400, 1152, batch_first=True)\n",
              "  )\n",
              "  (1): RNNDropout()\n",
              "), Sequential(\n",
              "  (0): WeightDropout(\n",
              "    (module): LSTM(1152, 1152, batch_first=True)\n",
              "  )\n",
              "  (1): RNNDropout()\n",
              "), Sequential(\n",
              "  (0): WeightDropout(\n",
              "    (module): LSTM(1152, 400, batch_first=True)\n",
              "  )\n",
              "  (1): RNNDropout()\n",
              "), Sequential(\n",
              "  (0): PoolingLinearClassifier(\n",
              "    (layers): Sequential(\n",
              "      (0): BatchNorm1d(1200, eps=1e-05, momentum=0.1, affine=True, track_running_stats=True)\n",
              "      (1): Dropout(p=0.12, inplace=False)\n",
              "      (2): Linear(in_features=1200, out_features=50, bias=True)\n",
              "      (3): ReLU(inplace=True)\n",
              "      (4): BatchNorm1d(50, eps=1e-05, momentum=0.1, affine=True, track_running_stats=True)\n",
              "      (5): Dropout(p=0.1, inplace=False)\n",
              "      (6): Linear(in_features=50, out_features=2, bias=True)\n",
              "    )\n",
              "  )\n",
              ")], add_time=True, silent=False)"
            ]
          },
          "metadata": {
            "tags": []
          },
          "execution_count": 29
        }
      ]
    },
    {
      "cell_type": "code",
      "metadata": {
        "trusted": true,
        "id": "4oRxRkoPb3tc",
        "colab_type": "code",
        "colab": {
          "base_uri": "https://localhost:8080/",
          "height": 80
        },
        "outputId": "723f8c75-f32e-4ffd-d9ad-8ae79eaab552"
      },
      "source": [
        "learn_classifier.freeze_to(-3)\n",
        "learn_classifier.fit_one_cycle(1, slice(5e-3/(2.6**4), 5e-3), moms = (0.8, 0.7))"
      ],
      "execution_count": 30,
      "outputs": [
        {
          "output_type": "display_data",
          "data": {
            "text/html": [
              "<table border=\"1\" class=\"dataframe\">\n",
              "  <thead>\n",
              "    <tr style=\"text-align: left;\">\n",
              "      <th>epoch</th>\n",
              "      <th>train_loss</th>\n",
              "      <th>valid_loss</th>\n",
              "      <th>accuracy</th>\n",
              "      <th>time</th>\n",
              "    </tr>\n",
              "  </thead>\n",
              "  <tbody>\n",
              "    <tr>\n",
              "      <td>0</td>\n",
              "      <td>0.258051</td>\n",
              "      <td>0.224113</td>\n",
              "      <td>0.909091</td>\n",
              "      <td>00:11</td>\n",
              "    </tr>\n",
              "  </tbody>\n",
              "</table>"
            ],
            "text/plain": [
              "<IPython.core.display.HTML object>"
            ]
          },
          "metadata": {
            "tags": []
          }
        }
      ]
    },
    {
      "cell_type": "code",
      "metadata": {
        "trusted": true,
        "id": "0BWkq79mb3th",
        "colab_type": "code",
        "colab": {}
      },
      "source": [
        "learn_classifier.save('third')"
      ],
      "execution_count": 0,
      "outputs": []
    },
    {
      "cell_type": "code",
      "metadata": {
        "trusted": true,
        "id": "i2hzxJYFb3tl",
        "colab_type": "code",
        "colab": {
          "base_uri": "https://localhost:8080/",
          "height": 1000
        },
        "outputId": "7790c0b3-6934-4388-89c2-1e2d09596e28"
      },
      "source": [
        "learn_classifier.load('third')"
      ],
      "execution_count": 32,
      "outputs": [
        {
          "output_type": "execute_result",
          "data": {
            "text/plain": [
              "RNNLearner(data=TextClasDataBunch;\n",
              "\n",
              "Train: LabelList (926 items)\n",
              "x: TextList\n",
              "xxbos forums wwwpatientcouk http wwwpatientcouk forums discuss enlargedheart511396orderlatest # xxunk enlarged heartthread enlarged heart always dizzy get dizzy standing made get slow dizzy turn around turn head slow check blood pressure every day usually around 94 _ 113 65 _ 78 told that s normal england fantastic hospital called xxunk cancer hospital have nt heard hospital hearts monday i m going make mission find one,xxbos blog http abcnewsradioonlinecom xxunk http abcnewsradioonlinecom xxunk xxunk queen latifah xxunk american heart associations red steps campaign xxunk xxunk xxunk new york queen latifah taking matters heart literally xxunk xxunk winner joined forces american heart association red steps campaign idea people post photos taking steps wearing red socks become physically active raise awareness risks symptoms heart failure goal six million red steps recognition nearly six million americans living heart failure latifah born xxunk owens effort personal mother rita owens xxunk xxunk incurable autoimmune disease caused scar tissue build lungs xxunk former xxunk also pulmonary hypertension impacts ability breathe way us show support people dealing condition care latifah told abc radio latifah said mothers approval campaign imperative getting involved really wanted involved wanted permission latifah xxunk she s xxunk positive way puts things something family like share people realize talking medical issues lot people reaching saying rapper turned actress says campaign also helped get healthy perfect comes staying fit constantly time shared saying campaign reminds diligent does nt alone helping sometimes xxunk support right group family friends says copyright 2016 abc radio rights reserved,xxbos forums wwwcancerforumsnet http wwwcancerforumsnet xxunk xxunk 17 xxunk year almost everyday thrown blood twice matter 2 weeks parents do nt want take see doctor think doctor give pain xxunk whereas pain really do nt know eat normally also go eating whole day feel hungry weigh xxunk pounds 5 feet 2 inches tall do nt know thought could stop xxunk ca nt please help get answer good xxunk problem ca nt face parents need learn little bulimia feel free share bulimia food psychological disorder pain xxunk involved treating psychological disorders however prescriptions may suggested get certain levels back order counseling works together prescriptions xxunk illness drug therapies alter xxunk anything else assist getting back balance bulimia serious disorder result xxunk without warning case described there s high chance esophageal xxunk victim dies drowning bodily fluids often within minutes electrolyte imbalances cause heart failure famous case woman coma decade resulted heart failure due bulimia imagine ten years coma stomach acids wearing away areas esophagus should nt instances cancer increased greatly many years even bulimia stops throat mouth cancers also increased losing life cancer losing voice box part face mouth hardly worth delaying getting medical help right away bulimia also increases chances stomach intestinal cancers xxunk stomach problems tooth xxunk disease loss much there s room parents refuse take life seriously value fight ask school xxunk xxunk seek free clinic stay strong stay smart xxunk followup,xxbos forums xxunk http xxunk forums lounge xxunk # xxunk xxunk silver xxunk xxunk quote originally posted xxunk xxunk wake friend talking plasma hf start xxunk pc grounded skip beat heart start plasma read post wake said xxunk fact talking creating spike xxunk plasma xxunk fires get facts straight first,xxbos forums xxunk http xxunk xxunk # xxunk personal question there s discussion xxunk power xxunk extract makes brief aside need pee standing position lungs roughly divided three xxunk 1 ventilation perfusion top lungs blood flow pressure head right heart high enough pump blood high 2 ventilation perfusion middle part lungs 3 perfusion ventilation xxunk lungs fluid pressure higher opening pressure bronchioles alveoli gas exchange takes place dependent gravity fluid xxunk physics volume air airways does nt participate gas exchange combined volume air zone 1 called dead space amounts 1 3 normal breath assume xxunk xxunk position things change zone 1 gets lot smaller zone 3 gets bigger large individual variation secondly volume blood resides lower extremities xxunk gets pushed back system xxunk pulmonary circulation since high xxunk pressure system ends xxunk much people heart failure like sleep sitting xxunk breathe much better lung function respiratory function changed also one reasons people riding xxunk tend pee riding xxunk receptors vessels signal fluid load body turn signals kidneys make urine\n",
              "y: CategoryList\n",
              "1,0,1,0,0\n",
              "Path: .;\n",
              "\n",
              "Valid: LabelList (231 items)\n",
              "x: TextList\n",
              "xxbos forums xxunk http xxunk newsreleases xxunk atherosclerosis pipeline h2 2015 world market research report atherosclerosis pipeline h2 2015 world market research report xxunk india march 9 2016 prnewswire market research report titled atherosclerosis pipeline review h2 2015 provides overview xxunk therapeutic pipeline enhances decision making capabilities create effective counter strategies gain competitive advantage xxunk rd xxunk identifying new targets xxunk produce firstinclass bestinclass products company profiles discussed report includes ache xxunk xxunk xxunk gmbh xxunk ag xxunk pharmaceuticals inc artery therapeutics inc astrazeneca plc xxunk xxunk ab xxunk inc xxunk ag xxunk technologies xxunk gmbh xxunk pharmaceuticals inc xxunk therapeutics holding sa xxunk inc xxunk inc xxunk xxunk company limited xxunk gmbh xxunk ag xxunk inc f xxunk xxunk ltd xxunk sa xxunk sciences inc xxunk discovery inc johnson johnson xxunk inc xxunk company ltd la xxunk pharmaceutical company lead discovery center gmbh xxunk co inc xxunk technology xxunk xxunk corporation xxunk health inc xxunk xxunk co ltd xxunk pharmaceuticals inc xxunk corp medicines company xxunk xxunk ltd xxunk sa vascular xxunk ltd vericel corporation xxunk therapeutics private limited xxunk pharmaceuticals inc complete report h2 2015 pipeline review atherosclerosis 68 market data tables 15 figures spread across 258 pages available http wwwreportsnreportscom reports xxunk drugs profiles discussed report includes xxunk xxunk xxunk xxunk xxunk xxunk xxunk xxunk xxunk xxunk xxunk xxunk xxunk xxunk xxunk xxunk xxunk xxunk xxunk xxunk xxunk xxunk xxunk cell therapy atherosclerosis cellular immunotherapy atherosclerosis xxunk xxunk xxunk xxunk xxunk drug atherosclerosis drugs activate xxunk atherosclerosis drugs xxunk xxunk receptor atherosclerosis xxunk xxunk xxunk gene therapy xxunk endothelial dysfunction gene therapy activate xxunk 10 atherosclerosis gene therapy target xxunk atherosclerosis xxunk xxunk xxunk xxunk xxunk xxunk ixmyelocelt xxunk series xxunk series xxunk series xxunk xxunk xxunk xxunk xxunk + xxunk xxunk xxunk xxunk xxunk xxunk monoclonal antibody inhibit xxunk autoimmune disorders cns disorders infectious diseases liver diseases metabolic disorders cardiovascular diseases monoclonal antibody inhibit endothelial lipase atherosclerosis xxunk xxunk atherosclerosis xxunk agonize xxunk atherosclerosis lymphoma xxunk xxunk peptides inhibit xxunk rheumatoid arthritis atherosclerosis xxunk protein cardiovascular diseases xxunk recombinant protein atherosclerosis recombinant protein atherosclerosis hepatic xxunk recombinant proteins inhibit xxunk xxunk thrombosis ischemic stroke atherosclerosis xxunk gene therapy inhibit xxunk chronic heart failure atherosclerosis xxunk xxunk small molecule atherosclerosis small molecule activate xxunk related factor 2 central nervous system metabolic disorders cardiovascular xxunk small molecule agonize liver x receptor atherosclerosis small molecule inhibit xxunk xxunk cardiovascular gastrointestinal metabolic disorders small molecule target xxunk atherosclerosis small molecule target xxunk atherosclerosis small molecules atherosclerosis small molecules inflammatory diseases small molecules xxunk cardiovascular cns metabolic disorders small molecules agonize xxunk atherosclerosis obesity small molecules inhibit xxunk atherosclerosis small molecules inhibit lipase atherosclerosis xxunk xxunk stem cell therapy atherosclerosis synthetic peptide inhibit xxunk atherosclerosis synthetic peptides cardiovascular gastrointestinal metabolic disorders infectious disease synthetic peptides oncology sepsis atherosclerosis synthetic peptides activate xxunk atherosclerosis inflammation synthetic peptides activate xxunk receptor cardiovascular diseases macular degeneration vaccine atherosclerosis xxunk xxunk order copy report http wwwreportsnreportscom xxunk report provides comprehensive information therapeutic development atherosclerosis complete comparative analysis various stages therapeutics assessment drug target mechanism action xxunk route administration xxunk molecule type along latest updates featured news press releases also reviews key players involved therapeutic development atherosclerosis special features xxunk xxunk projects report provides xxunk global therapeutic landscape atherosclerosis report reviews key pipeline products drug profile section includes product description xxunk rd brief xxunk collaboration details xxunk activities also key players involved therapeutics development atherosclerosis xxunk major minor projects xxunk xxunk xxunk pipeline projects explore reports pharmaceuticals market http wwwreportsnreportscom xxunk pharmaceuticals us xxunk online market research reports library 500 000 + indepth studies 5000 xxunk markets limited one industry xxunk offers research studies xxunk energy power chemicals environment medical devices healthcare food beverages water advanced materials much connect us,xxbos forums xxunk https xxunk topic xxunk # xxunk former us first lady dies aged 94 source xxunk click show spoiler click hide los angeles afp nancy reagan devoted wife trusted xxunk late president ronald reagan became xxunk guardian legacy died sunday aged 94 former first lady suffered heart failure home los angeles buried next husband ronald reagan presidential library simi valley california spokeswoman joanne drake said late life reagan earned praise many qualities saw xxunk critics ronald reagans two white house terms xxunk fierce xxunk xxunk influence president perceived xxunk cold feared white house xxunk often found xxunk heads policy personnel appointments made mark first lady signature say drug awareness campaign launched 1982 left white house xxunk reagan xxunk descent alzheimers disease death 2004 america xxunk view former movie xxunk proud example warm tributes xxunk nancy reagans xxunk xxunk husband xxunk president barack obama wife michelle calling proud example remain grateful nancy reagans life thankful guidance xxunk beloved husband together obamas said statement former first lady barbara bush said totally devoted president reagan take comfort xxunk former california governor action movie star xxunk xxunk described one heroes served first lady unbelievable power class grace nancy reagan wife truly great president amazing woman missed said donald trump xxunk race republicans presidential candidate november president reagan viewed something xxunk xxunk xxunk xxunk modern republican party xxunk former first lady xxunk considerable political power succession presidential xxunk sought endorsement born anne frances robbins new york july 6 1921 given name nancy mother edith robbins reagans car xxunk father left family young edith xxunk country actress marrying prominent xxunk loyal davis settling family chicago inspired mother nancy worked actress stage film television met ronald reagan contract xxunk love story married 1952 reagan divorced first wife actress jane wyman beginning marriage described love story rival couple acted silver screen pair wrote passionate love letters decades two children patti born 1952 ron born 1958 made 11 films including three marriage xxunk alongside husband last role hellcats navy 1956 reagan went california politics 1960s nancy xxunk ultimate political wife xxunk serving first lady xxunk months took office us president 1981 reagan xxunk survived xxunk attempt xxunk nancy take xxunk role husbands protector strictly controlling access president sometimes set influence decisionmaking indirectly taking case people husband trusted times role took bizarre xxunk consulted xxunk guide administration policy dragon gets xxunk dragon said former reagan chief staff xxunk baker appointed nancy reagan xxunk xxunk xxunk regan 1988 interview nancy said forced exert influence husband poorly served xxunk especially xxunk xxunk xxunk xxunk public nancy reagan became best known xxunk xxunk clothes hollywood friends reported social climbing well say antidrug campaign behind closed doors actions much important nancy was nt popular operated cover usually xxunk xxunk xxunk xxunk wrote years ago washington post xxunk said xxunk instinct moderation drew xxunk everything social policy xxunk relations tried protect husband xxunk influence reagans left white house 1989 xxunk books regan especially xxunk xxunk kitty xxunk cast nancy reagan xxunk light even xxunk affair frank xxunk 1994 played key role husbands xxunk disclosure alzheimers became vocal xxunk awareness disease memory xxunk longer recognized woman loved half century nancy reagan closed xxunk around xxunk public view even old friends protect image xxunk xxunk long journey finally taken xxunk place longer reach xxunk nancy reagan said alzheimers xxunk years ago xxunk click show spoiler click hide,xxbos youtube youtubecom http youtubecom xxunk building momentum help heart failure patients description new medications introduced market xxunk doctors make jump traditional treatment options moving beyond shown benefits patients long term health tags published mon jul 11 xxunk edt 2016,xxbos forums forumsstudentdoctornet http forumsstudentdoctornet threads xxunk # xxunk doctor bob right fire i d docs please wo nt xxunk xxunk waiting next tb patient enough antibiotic police already hospitals employees poorly xxunk people twenty years ago would loved consulted even common cold young xxunk patient unfortunately live period high malpractice risks xxunk increasing medical knowledge even best xxunk ask help things experienced seen cardiologists refused severely decompensated chf patients patient xxunk xxunk related period stress comfortable managing insulin xxunk fellowship one old wise xxunk said similar situation you ll want people feel comfortable xxunk calling consult good good patients do nt xxunk do nt know something trivial wo nt call even something important doctor bob right fire i d docs please wo nt xxunk xxunk waiting next tb patient enough antibiotic police already hospitals employees poorly xxunk people twenty years ago would loved consulted even common cold young xxunk patient unfortunately live period high malpractice risks xxunk increasing medical knowledge even best xxunk ask help things experienced seen cardiologists refused severely decompensated chf patients patient xxunk xxunk related period stress comfortable managing insulin xxunk fellowship one old wise xxunk said similar situation you ll want people feel comfortable xxunk calling consult good good patients do nt xxunk do nt know something trivial wo nt call even something important,xxbos blog http xxunk http xxunk 2016 04 xxunk vitamin heals damaged hearts vitamin supplements may help people diseased hearts study suggests trial 163 heart failure patients found supplements vitamin made skin exposed sunlight improved hearts ability pump blood around body leeds teaching hospitals team presented meeting american college cardiology described results stunning british heart foundation called longer trials assess pills read\n",
              "y: CategoryList\n",
              "0,0,0,0,0\n",
              "Path: .;\n",
              "\n",
              "Test: LabelList (571 items)\n",
              "x: TextList\n",
              "xxbos blog xxunk http xxunk xxunk baby slice son late kimbo slice signed professional mma contract make debut bellator 160 august according associated press reported kevin xxunk jr oldest son kevin xxunk already experience xxunk mixed martial arts made debut march knocked xxunk 83 seconds younger xxunk 24 signed bellator contract fathers death june always around fight business everything saw understood going xxunk said knew without doubt one day wanted according xxunk occasionally xxunk mma college preferred go party friends was nt recently xxunk training go pro father fought bellator february defeated xxunk 5000 later organization discovered kimbo slice taken xxunk xxunk got win kimbo slice died june hospitalized congestive heart failure large mass also discovered liver 42 shock world put like still big tragedy got xxunk told ap regards fathers xxunk death i m still getting wo nt say i m i m working guess check mma debut video baby slice son late kimbo slice signed professional mma contract make debut bellator 160 august according associated press reported kevin xxunk jr oldest son kevin xxunk already experience xxunk mixed martial arts made debut march knocked xxunk 83 seconds younger xxunk 24 signed bellator contract fathers death june always around fight business everything saw understood going xxunk said knew without doubt one day wanted according xxunk occasionally xxunk mma college preferred go party friends was nt recently xxunk training go pro father fought bellator february defeated xxunk 5000 later organization discovered kimbo slice taken xxunk xxunk got win kimbo slice died june hospitalized congestive heart failure large mass also discovered liver 42 shock world put like still big tragedy got xxunk told ap regards fathers xxunk death i m still getting wo nt say i m i m working guess check mma debut video,xxbos forums xxunk http xxunk topic xxunk xxunk # story xxunk xxunk breast implants following xxunk double radical mastectomy 1982 suffered local systemic complications due implants diagnosed human xxunk disease mixed connective tissue disease chronic fatigue syndrome xxunk xxunk brain tumor atypical neurological disease xxunk xxunk pulmonary hypertension mild heart failure last xxunk 1994 dr scott xxunk florida started dr susan xxunk xxunk immune protocol xxunk studies shown womens health improves following xxunk implant removal fortunately seen many positive changes health remain hopeful continue holistic approach wellness personal xxunk never give accept limitations always xxunk best share xxunk honestly public xxunk years age worsening xxunk immune problems pulmonary hypertension heart failure point almost completely xxunk needing nursing care doctors given hope have nt listened doctors would dead 15 years ago first gave higher power knows time time table feel yes however ill keep fighting regret implants removed best decision ever made xxunk gave much better health years added years enjoy life i ve xxunk love friends i ve made look forward meeting others,xxbos blog http xxunk http xxunk 2016 06 xxunk us fda xxunk previously xxunk xxunk xxunk inhibitor considered increase risk severe urinary tract infections may increase risk acidosis even raised canagliflozin may cause decreased bone mineral xxunk increased risk xxunk days xxunk xxunk xxunk xxunk xxunk us fda xxunk inhibitor speak fda canagliflozin dapagliflozin say dapagliflozin farxiga xigduo xr astrazeneca canagliflozin invokana invokamet janssen hey yet entered xxunk market xxunk us fda strengthened safety warning dapagliflozin canagliflozin acute kidney injury acute kidney injury xxunk clinicians opening dapagliflozin canagliflozin assess whether patient following may xxunk xxunk risk factors xxunk blood volume decrease decreased blood volume hypovolemic chronic renal dysfunction chronic renal insufficiency heart failure congestive heart failure using diuretics xxunk xxunk nsaid prescribing dapagliflozin canagliflozin patients renal function regularly xxunk xxunk occurs dapagliflozin canagliflozin stopped immediately existing data shows 70 patients treatment renal function may gradually improved general population patients taking two items occurrence decreased urine output lower xxunk edema symptoms acute kidney injury signs dehydration severe diarrhea please contact immediately clinical staff detailed information us fda xxunk adverse national xxunk system xxunk found period xxunk xxunk 101 confirmed canagliflozin n 73 dapagliflozin n 28 xxunk cases result total 96 patients requiring hospitalization total 15 patients required xxunk treatment 22 patients entering intensive care unit treating total four people killed including two xxunk deaths analysis 101 xxunk case median age 57 years range 28 79 eighty percent patients aged 60 years 10 patients chronic kidney disease history ckd total drugs 51 patients xxunk 26 patients six patients diuretics diuretic six patients nsaid use xxunk diuretic diuretic 58 xxunk patients total 45 patients within one month start use canagliflozin receiving dapagliflozin drug treatment xxunk egfr changed among 32 patients median change xxunk + 16 mg dl change remaining 13 patients median egfr 46 ml min 173 m2 total 78 patients disabled drugs including 56 renal function gradually recovered xxunk xxunk renal function swiss go back actually pulling two druginduced xxunk whether reversible injury xxunk still currently unknown source fda drug safety communication fda xxunk kidney warnings diabetes medicines canagliflozin invokana invokamet dapagliflozin farxiga xigduo xr,xxbos forums xxunk http xxunk boards xxunk xxunk # xxunk hello suffer congestive heart failure due mi icd implant started experience weird feeling middle chest almost like i m getting ready xxunk type reaction mild xxunk think happens bp monitor xxunk low blood pressure higher heart irregular heart beat breathing little xxunk accompanied mild xxunk mild light headed echo 2 weeks ago nothing xxunk xxunk xxunk feeling example bp reading 83 51 hr 96 xxunk cardiologist xxunk meds see would help change contact cardiologist advice greatly appreciated add note heart throw clot went arm 8 months ago xxunk hello suffer congestive heart failure due mi icd implant started experience weird feeling middle chest almost like i m getting ready xxunk type reaction mild xxunk think happens bp monitor xxunk low blood pressure higher heart irregular heart beat breathing little xxunk accompanied mild xxunk mild light headed echo 2 weeks ago nothing xxunk xxunk xxunk feeling example bp reading 83 51 hr 96 xxunk cardiologist xxunk meds see would help change contact cardiologist advice greatly appreciated add note heart throw clot went arm 8 months ago xxunk,xxbos blog http wwwsciencecodexcom http wwwsciencecodexcom xxunk vitamin improves heart function study finds daily dose vitamin d3 improves heart function people chronic heart failure fiveyear university leeds research project found dr klaus witte school medicine consultant cardiologist leeds teaching hospitals nhs trust led study known xxunk read\n",
              "y: EmptyLabelList\n",
              ",,,,\n",
              "Path: ., model=SequentialRNN(\n",
              "  (0): MultiBatchEncoder(\n",
              "    (module): AWD_LSTM(\n",
              "      (encoder): Embedding(8936, 400, padding_idx=1)\n",
              "      (encoder_dp): EmbeddingDropout(\n",
              "        (emb): Embedding(8936, 400, padding_idx=1)\n",
              "      )\n",
              "      (rnns): ModuleList(\n",
              "        (0): WeightDropout(\n",
              "          (module): LSTM(400, 1152, batch_first=True)\n",
              "        )\n",
              "        (1): WeightDropout(\n",
              "          (module): LSTM(1152, 1152, batch_first=True)\n",
              "        )\n",
              "        (2): WeightDropout(\n",
              "          (module): LSTM(1152, 400, batch_first=True)\n",
              "        )\n",
              "      )\n",
              "      (input_dp): RNNDropout()\n",
              "      (hidden_dps): ModuleList(\n",
              "        (0): RNNDropout()\n",
              "        (1): RNNDropout()\n",
              "        (2): RNNDropout()\n",
              "      )\n",
              "    )\n",
              "  )\n",
              "  (1): PoolingLinearClassifier(\n",
              "    (layers): Sequential(\n",
              "      (0): BatchNorm1d(1200, eps=1e-05, momentum=0.1, affine=True, track_running_stats=True)\n",
              "      (1): Dropout(p=0.12, inplace=False)\n",
              "      (2): Linear(in_features=1200, out_features=50, bias=True)\n",
              "      (3): ReLU(inplace=True)\n",
              "      (4): BatchNorm1d(50, eps=1e-05, momentum=0.1, affine=True, track_running_stats=True)\n",
              "      (5): Dropout(p=0.1, inplace=False)\n",
              "      (6): Linear(in_features=50, out_features=2, bias=True)\n",
              "    )\n",
              "  )\n",
              "), opt_func=functools.partial(<class 'torch.optim.adam.Adam'>, betas=(0.9, 0.99)), loss_func=FlattenedLoss of CrossEntropyLoss(), metrics=[<function accuracy at 0x7f1b9e046d90>], true_wd=True, bn_wd=True, wd=0.01, train_bn=True, path=PosixPath('.'), model_dir='models', callback_fns=[functools.partial(<class 'fastai.basic_train.Recorder'>, add_time=True, silent=False)], callbacks=[RNNTrainer\n",
              "learn: RNNLearner(data=TextClasDataBunch;\n",
              "\n",
              "Train: LabelList (926 items)\n",
              "x: TextList\n",
              "xxbos forums wwwpatientcouk http wwwpatientcouk forums discuss enlargedheart511396orderlatest # xxunk enlarged heartthread enlarged heart always dizzy get dizzy standing made get slow dizzy turn around turn head slow check blood pressure every day usually around 94 _ 113 65 _ 78 told that s normal england fantastic hospital called xxunk cancer hospital have nt heard hospital hearts monday i m going make mission find one,xxbos blog http abcnewsradioonlinecom xxunk http abcnewsradioonlinecom xxunk xxunk queen latifah xxunk american heart associations red steps campaign xxunk xxunk xxunk new york queen latifah taking matters heart literally xxunk xxunk winner joined forces american heart association red steps campaign idea people post photos taking steps wearing red socks become physically active raise awareness risks symptoms heart failure goal six million red steps recognition nearly six million americans living heart failure latifah born xxunk owens effort personal mother rita owens xxunk xxunk incurable autoimmune disease caused scar tissue build lungs xxunk former xxunk also pulmonary hypertension impacts ability breathe way us show support people dealing condition care latifah told abc radio latifah said mothers approval campaign imperative getting involved really wanted involved wanted permission latifah xxunk she s xxunk positive way puts things something family like share people realize talking medical issues lot people reaching saying rapper turned actress says campaign also helped get healthy perfect comes staying fit constantly time shared saying campaign reminds diligent does nt alone helping sometimes xxunk support right group family friends says copyright 2016 abc radio rights reserved,xxbos forums wwwcancerforumsnet http wwwcancerforumsnet xxunk xxunk 17 xxunk year almost everyday thrown blood twice matter 2 weeks parents do nt want take see doctor think doctor give pain xxunk whereas pain really do nt know eat normally also go eating whole day feel hungry weigh xxunk pounds 5 feet 2 inches tall do nt know thought could stop xxunk ca nt please help get answer good xxunk problem ca nt face parents need learn little bulimia feel free share bulimia food psychological disorder pain xxunk involved treating psychological disorders however prescriptions may suggested get certain levels back order counseling works together prescriptions xxunk illness drug therapies alter xxunk anything else assist getting back balance bulimia serious disorder result xxunk without warning case described there s high chance esophageal xxunk victim dies drowning bodily fluids often within minutes electrolyte imbalances cause heart failure famous case woman coma decade resulted heart failure due bulimia imagine ten years coma stomach acids wearing away areas esophagus should nt instances cancer increased greatly many years even bulimia stops throat mouth cancers also increased losing life cancer losing voice box part face mouth hardly worth delaying getting medical help right away bulimia also increases chances stomach intestinal cancers xxunk stomach problems tooth xxunk disease loss much there s room parents refuse take life seriously value fight ask school xxunk xxunk seek free clinic stay strong stay smart xxunk followup,xxbos forums xxunk http xxunk forums lounge xxunk # xxunk xxunk silver xxunk xxunk quote originally posted xxunk xxunk wake friend talking plasma hf start xxunk pc grounded skip beat heart start plasma read post wake said xxunk fact talking creating spike xxunk plasma xxunk fires get facts straight first,xxbos forums xxunk http xxunk xxunk # xxunk personal question there s discussion xxunk power xxunk extract makes brief aside need pee standing position lungs roughly divided three xxunk 1 ventilation perfusion top lungs blood flow pressure head right heart high enough pump blood high 2 ventilation perfusion middle part lungs 3 perfusion ventilation xxunk lungs fluid pressure higher opening pressure bronchioles alveoli gas exchange takes place dependent gravity fluid xxunk physics volume air airways does nt participate gas exchange combined volume air zone 1 called dead space amounts 1 3 normal breath assume xxunk xxunk position things change zone 1 gets lot smaller zone 3 gets bigger large individual variation secondly volume blood resides lower extremities xxunk gets pushed back system xxunk pulmonary circulation since high xxunk pressure system ends xxunk much people heart failure like sleep sitting xxunk breathe much better lung function respiratory function changed also one reasons people riding xxunk tend pee riding xxunk receptors vessels signal fluid load body turn signals kidneys make urine\n",
              "y: CategoryList\n",
              "1,0,1,0,0\n",
              "Path: .;\n",
              "\n",
              "Valid: LabelList (231 items)\n",
              "x: TextList\n",
              "xxbos forums xxunk http xxunk newsreleases xxunk atherosclerosis pipeline h2 2015 world market research report atherosclerosis pipeline h2 2015 world market research report xxunk india march 9 2016 prnewswire market research report titled atherosclerosis pipeline review h2 2015 provides overview xxunk therapeutic pipeline enhances decision making capabilities create effective counter strategies gain competitive advantage xxunk rd xxunk identifying new targets xxunk produce firstinclass bestinclass products company profiles discussed report includes ache xxunk xxunk xxunk gmbh xxunk ag xxunk pharmaceuticals inc artery therapeutics inc astrazeneca plc xxunk xxunk ab xxunk inc xxunk ag xxunk technologies xxunk gmbh xxunk pharmaceuticals inc xxunk therapeutics holding sa xxunk inc xxunk inc xxunk xxunk company limited xxunk gmbh xxunk ag xxunk inc f xxunk xxunk ltd xxunk sa xxunk sciences inc xxunk discovery inc johnson johnson xxunk inc xxunk company ltd la xxunk pharmaceutical company lead discovery center gmbh xxunk co inc xxunk technology xxunk xxunk corporation xxunk health inc xxunk xxunk co ltd xxunk pharmaceuticals inc xxunk corp medicines company xxunk xxunk ltd xxunk sa vascular xxunk ltd vericel corporation xxunk therapeutics private limited xxunk pharmaceuticals inc complete report h2 2015 pipeline review atherosclerosis 68 market data tables 15 figures spread across 258 pages available http wwwreportsnreportscom reports xxunk drugs profiles discussed report includes xxunk xxunk xxunk xxunk xxunk xxunk xxunk xxunk xxunk xxunk xxunk xxunk xxunk xxunk xxunk xxunk xxunk xxunk xxunk xxunk xxunk xxunk xxunk cell therapy atherosclerosis cellular immunotherapy atherosclerosis xxunk xxunk xxunk xxunk xxunk drug atherosclerosis drugs activate xxunk atherosclerosis drugs xxunk xxunk receptor atherosclerosis xxunk xxunk xxunk gene therapy xxunk endothelial dysfunction gene therapy activate xxunk 10 atherosclerosis gene therapy target xxunk atherosclerosis xxunk xxunk xxunk xxunk xxunk xxunk ixmyelocelt xxunk series xxunk series xxunk series xxunk xxunk xxunk xxunk xxunk + xxunk xxunk xxunk xxunk xxunk xxunk monoclonal antibody inhibit xxunk autoimmune disorders cns disorders infectious diseases liver diseases metabolic disorders cardiovascular diseases monoclonal antibody inhibit endothelial lipase atherosclerosis xxunk xxunk atherosclerosis xxunk agonize xxunk atherosclerosis lymphoma xxunk xxunk peptides inhibit xxunk rheumatoid arthritis atherosclerosis xxunk protein cardiovascular diseases xxunk recombinant protein atherosclerosis recombinant protein atherosclerosis hepatic xxunk recombinant proteins inhibit xxunk xxunk thrombosis ischemic stroke atherosclerosis xxunk gene therapy inhibit xxunk chronic heart failure atherosclerosis xxunk xxunk small molecule atherosclerosis small molecule activate xxunk related factor 2 central nervous system metabolic disorders cardiovascular xxunk small molecule agonize liver x receptor atherosclerosis small molecule inhibit xxunk xxunk cardiovascular gastrointestinal metabolic disorders small molecule target xxunk atherosclerosis small molecule target xxunk atherosclerosis small molecules atherosclerosis small molecules inflammatory diseases small molecules xxunk cardiovascular cns metabolic disorders small molecules agonize xxunk atherosclerosis obesity small molecules inhibit xxunk atherosclerosis small molecules inhibit lipase atherosclerosis xxunk xxunk stem cell therapy atherosclerosis synthetic peptide inhibit xxunk atherosclerosis synthetic peptides cardiovascular gastrointestinal metabolic disorders infectious disease synthetic peptides oncology sepsis atherosclerosis synthetic peptides activate xxunk atherosclerosis inflammation synthetic peptides activate xxunk receptor cardiovascular diseases macular degeneration vaccine atherosclerosis xxunk xxunk order copy report http wwwreportsnreportscom xxunk report provides comprehensive information therapeutic development atherosclerosis complete comparative analysis various stages therapeutics assessment drug target mechanism action xxunk route administration xxunk molecule type along latest updates featured news press releases also reviews key players involved therapeutic development atherosclerosis special features xxunk xxunk projects report provides xxunk global therapeutic landscape atherosclerosis report reviews key pipeline products drug profile section includes product description xxunk rd brief xxunk collaboration details xxunk activities also key players involved therapeutics development atherosclerosis xxunk major minor projects xxunk xxunk xxunk pipeline projects explore reports pharmaceuticals market http wwwreportsnreportscom xxunk pharmaceuticals us xxunk online market research reports library 500 000 + indepth studies 5000 xxunk markets limited one industry xxunk offers research studies xxunk energy power chemicals environment medical devices healthcare food beverages water advanced materials much connect us,xxbos forums xxunk https xxunk topic xxunk # xxunk former us first lady dies aged 94 source xxunk click show spoiler click hide los angeles afp nancy reagan devoted wife trusted xxunk late president ronald reagan became xxunk guardian legacy died sunday aged 94 former first lady suffered heart failure home los angeles buried next husband ronald reagan presidential library simi valley california spokeswoman joanne drake said late life reagan earned praise many qualities saw xxunk critics ronald reagans two white house terms xxunk fierce xxunk xxunk influence president perceived xxunk cold feared white house xxunk often found xxunk heads policy personnel appointments made mark first lady signature say drug awareness campaign launched 1982 left white house xxunk reagan xxunk descent alzheimers disease death 2004 america xxunk view former movie xxunk proud example warm tributes xxunk nancy reagans xxunk xxunk husband xxunk president barack obama wife michelle calling proud example remain grateful nancy reagans life thankful guidance xxunk beloved husband together obamas said statement former first lady barbara bush said totally devoted president reagan take comfort xxunk former california governor action movie star xxunk xxunk described one heroes served first lady unbelievable power class grace nancy reagan wife truly great president amazing woman missed said donald trump xxunk race republicans presidential candidate november president reagan viewed something xxunk xxunk xxunk xxunk modern republican party xxunk former first lady xxunk considerable political power succession presidential xxunk sought endorsement born anne frances robbins new york july 6 1921 given name nancy mother edith robbins reagans car xxunk father left family young edith xxunk country actress marrying prominent xxunk loyal davis settling family chicago inspired mother nancy worked actress stage film television met ronald reagan contract xxunk love story married 1952 reagan divorced first wife actress jane wyman beginning marriage described love story rival couple acted silver screen pair wrote passionate love letters decades two children patti born 1952 ron born 1958 made 11 films including three marriage xxunk alongside husband last role hellcats navy 1956 reagan went california politics 1960s nancy xxunk ultimate political wife xxunk serving first lady xxunk months took office us president 1981 reagan xxunk survived xxunk attempt xxunk nancy take xxunk role husbands protector strictly controlling access president sometimes set influence decisionmaking indirectly taking case people husband trusted times role took bizarre xxunk consulted xxunk guide administration policy dragon gets xxunk dragon said former reagan chief staff xxunk baker appointed nancy reagan xxunk xxunk xxunk regan 1988 interview nancy said forced exert influence husband poorly served xxunk especially xxunk xxunk xxunk xxunk public nancy reagan became best known xxunk xxunk clothes hollywood friends reported social climbing well say antidrug campaign behind closed doors actions much important nancy was nt popular operated cover usually xxunk xxunk xxunk xxunk wrote years ago washington post xxunk said xxunk instinct moderation drew xxunk everything social policy xxunk relations tried protect husband xxunk influence reagans left white house 1989 xxunk books regan especially xxunk xxunk kitty xxunk cast nancy reagan xxunk light even xxunk affair frank xxunk 1994 played key role husbands xxunk disclosure alzheimers became vocal xxunk awareness disease memory xxunk longer recognized woman loved half century nancy reagan closed xxunk around xxunk public view even old friends protect image xxunk xxunk long journey finally taken xxunk place longer reach xxunk nancy reagan said alzheimers xxunk years ago xxunk click show spoiler click hide,xxbos youtube youtubecom http youtubecom xxunk building momentum help heart failure patients description new medications introduced market xxunk doctors make jump traditional treatment options moving beyond shown benefits patients long term health tags published mon jul 11 xxunk edt 2016,xxbos forums forumsstudentdoctornet http forumsstudentdoctornet threads xxunk # xxunk doctor bob right fire i d docs please wo nt xxunk xxunk waiting next tb patient enough antibiotic police already hospitals employees poorly xxunk people twenty years ago would loved consulted even common cold young xxunk patient unfortunately live period high malpractice risks xxunk increasing medical knowledge even best xxunk ask help things experienced seen cardiologists refused severely decompensated chf patients patient xxunk xxunk related period stress comfortable managing insulin xxunk fellowship one old wise xxunk said similar situation you ll want people feel comfortable xxunk calling consult good good patients do nt xxunk do nt know something trivial wo nt call even something important doctor bob right fire i d docs please wo nt xxunk xxunk waiting next tb patient enough antibiotic police already hospitals employees poorly xxunk people twenty years ago would loved consulted even common cold young xxunk patient unfortunately live period high malpractice risks xxunk increasing medical knowledge even best xxunk ask help things experienced seen cardiologists refused severely decompensated chf patients patient xxunk xxunk related period stress comfortable managing insulin xxunk fellowship one old wise xxunk said similar situation you ll want people feel comfortable xxunk calling consult good good patients do nt xxunk do nt know something trivial wo nt call even something important,xxbos blog http xxunk http xxunk 2016 04 xxunk vitamin heals damaged hearts vitamin supplements may help people diseased hearts study suggests trial 163 heart failure patients found supplements vitamin made skin exposed sunlight improved hearts ability pump blood around body leeds teaching hospitals team presented meeting american college cardiology described results stunning british heart foundation called longer trials assess pills read\n",
              "y: CategoryList\n",
              "0,0,0,0,0\n",
              "Path: .;\n",
              "\n",
              "Test: LabelList (571 items)\n",
              "x: TextList\n",
              "xxbos blog xxunk http xxunk xxunk baby slice son late kimbo slice signed professional mma contract make debut bellator 160 august according associated press reported kevin xxunk jr oldest son kevin xxunk already experience xxunk mixed martial arts made debut march knocked xxunk 83 seconds younger xxunk 24 signed bellator contract fathers death june always around fight business everything saw understood going xxunk said knew without doubt one day wanted according xxunk occasionally xxunk mma college preferred go party friends was nt recently xxunk training go pro father fought bellator february defeated xxunk 5000 later organization discovered kimbo slice taken xxunk xxunk got win kimbo slice died june hospitalized congestive heart failure large mass also discovered liver 42 shock world put like still big tragedy got xxunk told ap regards fathers xxunk death i m still getting wo nt say i m i m working guess check mma debut video baby slice son late kimbo slice signed professional mma contract make debut bellator 160 august according associated press reported kevin xxunk jr oldest son kevin xxunk already experience xxunk mixed martial arts made debut march knocked xxunk 83 seconds younger xxunk 24 signed bellator contract fathers death june always around fight business everything saw understood going xxunk said knew without doubt one day wanted according xxunk occasionally xxunk mma college preferred go party friends was nt recently xxunk training go pro father fought bellator february defeated xxunk 5000 later organization discovered kimbo slice taken xxunk xxunk got win kimbo slice died june hospitalized congestive heart failure large mass also discovered liver 42 shock world put like still big tragedy got xxunk told ap regards fathers xxunk death i m still getting wo nt say i m i m working guess check mma debut video,xxbos forums xxunk http xxunk topic xxunk xxunk # story xxunk xxunk breast implants following xxunk double radical mastectomy 1982 suffered local systemic complications due implants diagnosed human xxunk disease mixed connective tissue disease chronic fatigue syndrome xxunk xxunk brain tumor atypical neurological disease xxunk xxunk pulmonary hypertension mild heart failure last xxunk 1994 dr scott xxunk florida started dr susan xxunk xxunk immune protocol xxunk studies shown womens health improves following xxunk implant removal fortunately seen many positive changes health remain hopeful continue holistic approach wellness personal xxunk never give accept limitations always xxunk best share xxunk honestly public xxunk years age worsening xxunk immune problems pulmonary hypertension heart failure point almost completely xxunk needing nursing care doctors given hope have nt listened doctors would dead 15 years ago first gave higher power knows time time table feel yes however ill keep fighting regret implants removed best decision ever made xxunk gave much better health years added years enjoy life i ve xxunk love friends i ve made look forward meeting others,xxbos blog http xxunk http xxunk 2016 06 xxunk us fda xxunk previously xxunk xxunk xxunk inhibitor considered increase risk severe urinary tract infections may increase risk acidosis even raised canagliflozin may cause decreased bone mineral xxunk increased risk xxunk days xxunk xxunk xxunk xxunk xxunk us fda xxunk inhibitor speak fda canagliflozin dapagliflozin say dapagliflozin farxiga xigduo xr astrazeneca canagliflozin invokana invokamet janssen hey yet entered xxunk market xxunk us fda strengthened safety warning dapagliflozin canagliflozin acute kidney injury acute kidney injury xxunk clinicians opening dapagliflozin canagliflozin assess whether patient following may xxunk xxunk risk factors xxunk blood volume decrease decreased blood volume hypovolemic chronic renal dysfunction chronic renal insufficiency heart failure congestive heart failure using diuretics xxunk xxunk nsaid prescribing dapagliflozin canagliflozin patients renal function regularly xxunk xxunk occurs dapagliflozin canagliflozin stopped immediately existing data shows 70 patients treatment renal function may gradually improved general population patients taking two items occurrence decreased urine output lower xxunk edema symptoms acute kidney injury signs dehydration severe diarrhea please contact immediately clinical staff detailed information us fda xxunk adverse national xxunk system xxunk found period xxunk xxunk 101 confirmed canagliflozin n 73 dapagliflozin n 28 xxunk cases result total 96 patients requiring hospitalization total 15 patients required xxunk treatment 22 patients entering intensive care unit treating total four people killed including two xxunk deaths analysis 101 xxunk case median age 57 years range 28 79 eighty percent patients aged 60 years 10 patients chronic kidney disease history ckd total drugs 51 patients xxunk 26 patients six patients diuretics diuretic six patients nsaid use xxunk diuretic diuretic 58 xxunk patients total 45 patients within one month start use canagliflozin receiving dapagliflozin drug treatment xxunk egfr changed among 32 patients median change xxunk + 16 mg dl change remaining 13 patients median egfr 46 ml min 173 m2 total 78 patients disabled drugs including 56 renal function gradually recovered xxunk xxunk renal function swiss go back actually pulling two druginduced xxunk whether reversible injury xxunk still currently unknown source fda drug safety communication fda xxunk kidney warnings diabetes medicines canagliflozin invokana invokamet dapagliflozin farxiga xigduo xr,xxbos forums xxunk http xxunk boards xxunk xxunk # xxunk hello suffer congestive heart failure due mi icd implant started experience weird feeling middle chest almost like i m getting ready xxunk type reaction mild xxunk think happens bp monitor xxunk low blood pressure higher heart irregular heart beat breathing little xxunk accompanied mild xxunk mild light headed echo 2 weeks ago nothing xxunk xxunk xxunk feeling example bp reading 83 51 hr 96 xxunk cardiologist xxunk meds see would help change contact cardiologist advice greatly appreciated add note heart throw clot went arm 8 months ago xxunk hello suffer congestive heart failure due mi icd implant started experience weird feeling middle chest almost like i m getting ready xxunk type reaction mild xxunk think happens bp monitor xxunk low blood pressure higher heart irregular heart beat breathing little xxunk accompanied mild xxunk mild light headed echo 2 weeks ago nothing xxunk xxunk xxunk feeling example bp reading 83 51 hr 96 xxunk cardiologist xxunk meds see would help change contact cardiologist advice greatly appreciated add note heart throw clot went arm 8 months ago xxunk,xxbos blog http wwwsciencecodexcom http wwwsciencecodexcom xxunk vitamin improves heart function study finds daily dose vitamin d3 improves heart function people chronic heart failure fiveyear university leeds research project found dr klaus witte school medicine consultant cardiologist leeds teaching hospitals nhs trust led study known xxunk read\n",
              "y: EmptyLabelList\n",
              ",,,,\n",
              "Path: ., model=SequentialRNN(\n",
              "  (0): MultiBatchEncoder(\n",
              "    (module): AWD_LSTM(\n",
              "      (encoder): Embedding(8936, 400, padding_idx=1)\n",
              "      (encoder_dp): EmbeddingDropout(\n",
              "        (emb): Embedding(8936, 400, padding_idx=1)\n",
              "      )\n",
              "      (rnns): ModuleList(\n",
              "        (0): WeightDropout(\n",
              "          (module): LSTM(400, 1152, batch_first=True)\n",
              "        )\n",
              "        (1): WeightDropout(\n",
              "          (module): LSTM(1152, 1152, batch_first=True)\n",
              "        )\n",
              "        (2): WeightDropout(\n",
              "          (module): LSTM(1152, 400, batch_first=True)\n",
              "        )\n",
              "      )\n",
              "      (input_dp): RNNDropout()\n",
              "      (hidden_dps): ModuleList(\n",
              "        (0): RNNDropout()\n",
              "        (1): RNNDropout()\n",
              "        (2): RNNDropout()\n",
              "      )\n",
              "    )\n",
              "  )\n",
              "  (1): PoolingLinearClassifier(\n",
              "    (layers): Sequential(\n",
              "      (0): BatchNorm1d(1200, eps=1e-05, momentum=0.1, affine=True, track_running_stats=True)\n",
              "      (1): Dropout(p=0.12, inplace=False)\n",
              "      (2): Linear(in_features=1200, out_features=50, bias=True)\n",
              "      (3): ReLU(inplace=True)\n",
              "      (4): BatchNorm1d(50, eps=1e-05, momentum=0.1, affine=True, track_running_stats=True)\n",
              "      (5): Dropout(p=0.1, inplace=False)\n",
              "      (6): Linear(in_features=50, out_features=2, bias=True)\n",
              "    )\n",
              "  )\n",
              "), opt_func=functools.partial(<class 'torch.optim.adam.Adam'>, betas=(0.9, 0.99)), loss_func=FlattenedLoss of CrossEntropyLoss(), metrics=[<function accuracy at 0x7f1b9e046d90>], true_wd=True, bn_wd=True, wd=0.01, train_bn=True, path=PosixPath('.'), model_dir='models', callback_fns=[functools.partial(<class 'fastai.basic_train.Recorder'>, add_time=True, silent=False)], callbacks=[...], layer_groups=[Sequential(\n",
              "  (0): Embedding(8936, 400, padding_idx=1)\n",
              "  (1): EmbeddingDropout(\n",
              "    (emb): Embedding(8936, 400, padding_idx=1)\n",
              "  )\n",
              "), Sequential(\n",
              "  (0): WeightDropout(\n",
              "    (module): LSTM(400, 1152, batch_first=True)\n",
              "  )\n",
              "  (1): RNNDropout()\n",
              "), Sequential(\n",
              "  (0): WeightDropout(\n",
              "    (module): LSTM(1152, 1152, batch_first=True)\n",
              "  )\n",
              "  (1): RNNDropout()\n",
              "), Sequential(\n",
              "  (0): WeightDropout(\n",
              "    (module): LSTM(1152, 400, batch_first=True)\n",
              "  )\n",
              "  (1): RNNDropout()\n",
              "), Sequential(\n",
              "  (0): PoolingLinearClassifier(\n",
              "    (layers): Sequential(\n",
              "      (0): BatchNorm1d(1200, eps=1e-05, momentum=0.1, affine=True, track_running_stats=True)\n",
              "      (1): Dropout(p=0.12, inplace=False)\n",
              "      (2): Linear(in_features=1200, out_features=50, bias=True)\n",
              "      (3): ReLU(inplace=True)\n",
              "      (4): BatchNorm1d(50, eps=1e-05, momentum=0.1, affine=True, track_running_stats=True)\n",
              "      (5): Dropout(p=0.1, inplace=False)\n",
              "      (6): Linear(in_features=50, out_features=2, bias=True)\n",
              "    )\n",
              "  )\n",
              ")], add_time=True, silent=False)\n",
              "alpha: 2.0\n",
              "beta: 1.0], layer_groups=[Sequential(\n",
              "  (0): Embedding(8936, 400, padding_idx=1)\n",
              "  (1): EmbeddingDropout(\n",
              "    (emb): Embedding(8936, 400, padding_idx=1)\n",
              "  )\n",
              "), Sequential(\n",
              "  (0): WeightDropout(\n",
              "    (module): LSTM(400, 1152, batch_first=True)\n",
              "  )\n",
              "  (1): RNNDropout()\n",
              "), Sequential(\n",
              "  (0): WeightDropout(\n",
              "    (module): LSTM(1152, 1152, batch_first=True)\n",
              "  )\n",
              "  (1): RNNDropout()\n",
              "), Sequential(\n",
              "  (0): WeightDropout(\n",
              "    (module): LSTM(1152, 400, batch_first=True)\n",
              "  )\n",
              "  (1): RNNDropout()\n",
              "), Sequential(\n",
              "  (0): PoolingLinearClassifier(\n",
              "    (layers): Sequential(\n",
              "      (0): BatchNorm1d(1200, eps=1e-05, momentum=0.1, affine=True, track_running_stats=True)\n",
              "      (1): Dropout(p=0.12, inplace=False)\n",
              "      (2): Linear(in_features=1200, out_features=50, bias=True)\n",
              "      (3): ReLU(inplace=True)\n",
              "      (4): BatchNorm1d(50, eps=1e-05, momentum=0.1, affine=True, track_running_stats=True)\n",
              "      (5): Dropout(p=0.1, inplace=False)\n",
              "      (6): Linear(in_features=50, out_features=2, bias=True)\n",
              "    )\n",
              "  )\n",
              ")], add_time=True, silent=False)"
            ]
          },
          "metadata": {
            "tags": []
          },
          "execution_count": 32
        }
      ]
    },
    {
      "cell_type": "code",
      "metadata": {
        "trusted": true,
        "id": "GKJc4xgLb3tp",
        "colab_type": "code",
        "colab": {
          "base_uri": "https://localhost:8080/",
          "height": 142
        },
        "outputId": "90500734-547b-41bf-82ea-015cc3253015"
      },
      "source": [
        "learn_classifier.unfreeze()\n",
        "learn_classifier.fit_one_cycle(3, slice(1e-3/(2.6**4), 1e-3), moms = (0.8,0.7))"
      ],
      "execution_count": 33,
      "outputs": [
        {
          "output_type": "display_data",
          "data": {
            "text/html": [
              "<table border=\"1\" class=\"dataframe\">\n",
              "  <thead>\n",
              "    <tr style=\"text-align: left;\">\n",
              "      <th>epoch</th>\n",
              "      <th>train_loss</th>\n",
              "      <th>valid_loss</th>\n",
              "      <th>accuracy</th>\n",
              "      <th>time</th>\n",
              "    </tr>\n",
              "  </thead>\n",
              "  <tbody>\n",
              "    <tr>\n",
              "      <td>0</td>\n",
              "      <td>0.170604</td>\n",
              "      <td>0.197048</td>\n",
              "      <td>0.913420</td>\n",
              "      <td>00:14</td>\n",
              "    </tr>\n",
              "    <tr>\n",
              "      <td>1</td>\n",
              "      <td>0.145397</td>\n",
              "      <td>0.205786</td>\n",
              "      <td>0.904762</td>\n",
              "      <td>00:13</td>\n",
              "    </tr>\n",
              "    <tr>\n",
              "      <td>2</td>\n",
              "      <td>0.122638</td>\n",
              "      <td>0.206326</td>\n",
              "      <td>0.904762</td>\n",
              "      <td>00:13</td>\n",
              "    </tr>\n",
              "  </tbody>\n",
              "</table>"
            ],
            "text/plain": [
              "<IPython.core.display.HTML object>"
            ]
          },
          "metadata": {
            "tags": []
          }
        }
      ]
    },
    {
      "cell_type": "code",
      "metadata": {
        "trusted": true,
        "id": "6lrwmJZHb3ts",
        "colab_type": "code",
        "colab": {
          "base_uri": "https://localhost:8080/",
          "height": 17
        },
        "outputId": "4b3aeddd-7f4e-4f4c-8f50-cd64f4aab5a7"
      },
      "source": [
        "preds, target = learn_classifier.get_preds(DatasetType.Test, ordered = True)\n",
        "labels = np.argmax(preds, axis = 1)"
      ],
      "execution_count": 34,
      "outputs": [
        {
          "output_type": "display_data",
          "data": {
            "text/html": [
              ""
            ],
            "text/plain": [
              "<IPython.core.display.HTML object>"
            ]
          },
          "metadata": {
            "tags": []
          }
        }
      ]
    },
    {
      "cell_type": "code",
      "metadata": {
        "trusted": true,
        "id": "M8RvbgE_b3tw",
        "colab_type": "code",
        "colab": {
          "base_uri": "https://localhost:8080/",
          "height": 544
        },
        "outputId": "ded07a9c-dc35-43fd-8858-cd0d23772d1a"
      },
      "source": [
        "learn_classifier.show_results()"
      ],
      "execution_count": 35,
      "outputs": [
        {
          "output_type": "display_data",
          "data": {
            "text/html": [
              "<table border=\"1\" class=\"dataframe\">\n",
              "  <thead>\n",
              "    <tr style=\"text-align: right;\">\n",
              "      <th>text</th>\n",
              "      <th>target</th>\n",
              "      <th>prediction</th>\n",
              "    </tr>\n",
              "  </thead>\n",
              "  <tbody>\n",
              "    <tr>\n",
              "      <td>xxbos blog xxunk http xxunk heartattack heart attack also known cardiac infarct coronary xxunk coronary thrombosis acute myocardial infarction serious form heart disease common persons suddenly affected drop dead normal activities essential aware symptoms sudden heart attack today modern treatment effective sooner started greater chances complete recovery symptoms heart attack wellestablished underlying causes heart disease welldocumented ways reducing heart attack xxunk wellestablished much research given many answers sensible people follow</td>\n",
              "      <td>0</td>\n",
              "      <td>0</td>\n",
              "    </tr>\n",
              "    <tr>\n",
              "      <td>xxbos blog elbiruniblogspotcomblogspotcom http elbiruniblogspotcomblogspotcom 2016 07 xxunk cdc health effects heart disease smoking tobacco use smoking causes one every three deaths cardiovascular disease latest million hearts action steps guide xxunk xxunk provides clinicians tested strategies identifying treating patients use tobacco clinicians try xxunk protocols treating tobacco users xxunk million hearts tobacco xxunk protocol xxunk xxunk xxunk heart disease stroke heart disease stroke cardiovascular heart blood vessel diseases xxunk 1</td>\n",
              "      <td>0</td>\n",
              "      <td>0</td>\n",
              "    </tr>\n",
              "    <tr>\n",
              "      <td>xxbos facebook http wwwfacebookcom xxunk http wwwfacebookcom xxunk latvias crocodile harry inspiration hollywood adelaide australia vast xxunk island famous xxunk beautiful outback xxunk populate xxunk xxunk hang trees xxunk flutter skies xxunk xxunk often xxunk quietly reeds ready strike moments notice australias long winding rivers really watch lurking xxunk surface could smiling face deadly crocodile dangers crocodiles well known well known earlier times crocodile xxunk would often become celebrities renowned</td>\n",
              "      <td>0</td>\n",
              "      <td>0</td>\n",
              "    </tr>\n",
              "    <tr>\n",
              "      <td>xxbos forums wwwbiospacecom http wwwbiospacecom xxunk sarepta stock collapses fda xxunk vote dmd drug sarepta issues statement advisory committee outcome use eteplirsen treatment duchenne muscular dystrophy cambridge mass business wire sarepta therapeutics inc xxunk developer innovative xxunk therapeutics today announced us food drug administrations fda peripheral central nervous system advisory committee xxunk met review new drug application nda eteplirsen treatment duchenne muscular dystrophy xxunk exon 51 skipping advisory committee voted</td>\n",
              "      <td>0</td>\n",
              "      <td>0</td>\n",
              "    </tr>\n",
              "    <tr>\n",
              "      <td>xxbos blog http xxunk http xxunk 2016 04 xxunk pain acute pain xxunk pain management robin xxunk mick xxunk acute pain activation pain receptors sight tissue damage self limiting may worsened associated xxunk stress xxunk controlled acute pain associated development chronic pain optimal pain relief achieved pharmacological non pharmacological measures mindful individual variation response pain need xxunk approach finally decide pain round clock pain relief prn breakthrough summary pharmacological xxunk</td>\n",
              "      <td>0</td>\n",
              "      <td>0</td>\n",
              "    </tr>\n",
              "  </tbody>\n",
              "</table>"
            ],
            "text/plain": [
              "<IPython.core.display.HTML object>"
            ]
          },
          "metadata": {
            "tags": []
          }
        }
      ]
    },
    {
      "cell_type": "code",
      "metadata": {
        "trusted": true,
        "id": "ltnlDkKSb3tz",
        "colab_type": "code",
        "colab": {}
      },
      "source": [
        "np.save(\"fastai_prob.npy\", preds)"
      ],
      "execution_count": 0,
      "outputs": []
    },
    {
      "cell_type": "code",
      "metadata": {
        "trusted": true,
        "id": "gfP19E9Tb3t3",
        "colab_type": "code",
        "colab": {
          "base_uri": "https://localhost:8080/",
          "height": 204
        },
        "outputId": "e39bbd6f-550d-443b-af93-9f52510790a5"
      },
      "source": [
        "submission = pd.DataFrame()\n",
        "submission['Index'] = index\n",
        "submission['Patient_Tag'] = labels\n",
        "submission.to_csv(\"fastai_model.csv\", index=None)\n",
        "submission.head()"
      ],
      "execution_count": 39,
      "outputs": [
        {
          "output_type": "execute_result",
          "data": {
            "text/html": [
              "<div>\n",
              "<style scoped>\n",
              "    .dataframe tbody tr th:only-of-type {\n",
              "        vertical-align: middle;\n",
              "    }\n",
              "\n",
              "    .dataframe tbody tr th {\n",
              "        vertical-align: top;\n",
              "    }\n",
              "\n",
              "    .dataframe thead th {\n",
              "        text-align: right;\n",
              "    }\n",
              "</style>\n",
              "<table border=\"1\" class=\"dataframe\">\n",
              "  <thead>\n",
              "    <tr style=\"text-align: right;\">\n",
              "      <th></th>\n",
              "      <th>Index</th>\n",
              "      <th>Patient_Tag</th>\n",
              "    </tr>\n",
              "  </thead>\n",
              "  <tbody>\n",
              "    <tr>\n",
              "      <th>0</th>\n",
              "      <td>1</td>\n",
              "      <td>0</td>\n",
              "    </tr>\n",
              "    <tr>\n",
              "      <th>1</th>\n",
              "      <td>2</td>\n",
              "      <td>1</td>\n",
              "    </tr>\n",
              "    <tr>\n",
              "      <th>2</th>\n",
              "      <td>3</td>\n",
              "      <td>0</td>\n",
              "    </tr>\n",
              "    <tr>\n",
              "      <th>3</th>\n",
              "      <td>4</td>\n",
              "      <td>1</td>\n",
              "    </tr>\n",
              "    <tr>\n",
              "      <th>4</th>\n",
              "      <td>5</td>\n",
              "      <td>0</td>\n",
              "    </tr>\n",
              "  </tbody>\n",
              "</table>\n",
              "</div>"
            ],
            "text/plain": [
              "   Index  Patient_Tag\n",
              "0      1            0\n",
              "1      2            1\n",
              "2      3            0\n",
              "3      4            1\n",
              "4      5            0"
            ]
          },
          "metadata": {
            "tags": []
          },
          "execution_count": 39
        }
      ]
    },
    {
      "cell_type": "code",
      "metadata": {
        "trusted": true,
        "id": "bPn-d0Dmb3t9",
        "colab_type": "code",
        "colab": {}
      },
      "source": [
        ""
      ],
      "execution_count": 0,
      "outputs": []
    },
    {
      "cell_type": "code",
      "metadata": {
        "trusted": true,
        "id": "ckqhOjwXb3uA",
        "colab_type": "code",
        "colab": {}
      },
      "source": [
        ""
      ],
      "execution_count": 0,
      "outputs": []
    },
    {
      "cell_type": "code",
      "metadata": {
        "trusted": true,
        "id": "6un7QPTVb3uC",
        "colab_type": "code",
        "colab": {}
      },
      "source": [
        ""
      ],
      "execution_count": 0,
      "outputs": []
    },
    {
      "cell_type": "code",
      "metadata": {
        "trusted": true,
        "id": "QwoPskPbb3uF",
        "colab_type": "code",
        "colab": {}
      },
      "source": [
        ""
      ],
      "execution_count": 0,
      "outputs": []
    },
    {
      "cell_type": "code",
      "metadata": {
        "trusted": true,
        "id": "aL3GOw1Zb3uK",
        "colab_type": "code",
        "colab": {}
      },
      "source": [
        ""
      ],
      "execution_count": 0,
      "outputs": []
    }
  ]
}